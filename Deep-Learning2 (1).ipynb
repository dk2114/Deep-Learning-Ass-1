{
 "cells": [
  {
   "cell_type": "markdown",
   "metadata": {},
   "source": [
    "# DL HW1\n",
    "## David Kiskovski"
   ]
  },
  {
   "cell_type": "markdown",
   "metadata": {},
   "source": [
    "## Intro  "
   ]
  },
  {
   "cell_type": "code",
   "execution_count": 146,
   "metadata": {},
   "outputs": [],
   "source": [
    "import keras\n",
    "import matplotlib.pyplot as plt\n",
    "%matplotlib inline\n",
    "import keras.utils\n",
    "from keras import utils as np_utils\n",
    "from keras.layers import UpSampling2D\n",
    "from keras.layers import Dropout\n",
    "import numpy as np\n",
    "import matplotlib.patches as patches\n",
    "from keras.layers import Dense, Activation\n",
    "from keras.optimizers import SGD\n",
    "from keras.models import Sequential"
   ]
  },
  {
   "cell_type": "code",
   "execution_count": 147,
   "metadata": {},
   "outputs": [],
   "source": [
    "#Fit size of image we want\n",
    "IMAGE_SIZE = 72"
   ]
  },
  {
   "cell_type": "code",
   "execution_count": 148,
   "metadata": {},
   "outputs": [],
   "source": [
    "def m_drawing(figsize, U, V, noise=0.0):\n",
    "    fg = plt.figure(figsize=(figsize,figsize))\n",
    "    ax = plt.subplot(111)\n",
    "    plt.axis('Off')\n",
    "    ax.set_xlim(0,figsize)\n",
    "    ax.set_ylim(0,figsize)\n",
    "    ax.fill(U, V, \"k\")\n",
    "    fg.canvas.draw()\n",
    "    idta = np.frombuffer(fg.canvas.tostring_rgb(), dtype=np.uint8)[::3].astype(np.float32)\n",
    "    idta = idta + noise * np.random.random(idta.size)\n",
    "    plt.close(fg)\n",
    "    return idta"
   ]
  },
  {
   "cell_type": "code",
   "execution_count": 149,
   "metadata": {},
   "outputs": [],
   "source": [
    "def m_disk(noise=0.0, free_location=False):\n",
    "    figsize = 1.0\n",
    "    if free_location:\n",
    "        center = np.random.random(2)\n",
    "    else:\n",
    "        center = (figsize/2, figsize/2)\n",
    "    radius = (0.3 + 0.7 * np.random.random()) * figsize/2\n",
    "    N = 50\n",
    "    U = np.zeros(N)\n",
    "    V = np.zeros(N)\n",
    "    i = 0\n",
    "    for t in np.linspace(0, 2*np.pi, N):\n",
    "        U[i] = center[0] + np.cos(t) * radius\n",
    "        V[i] = center[1] + np.sin(t) * radius\n",
    "        i = i + 1\n",
    "    return m_drawing(figsize, U, V, noise)"
   ]
  },
  {
   "cell_type": "code",
   "execution_count": 150,
   "metadata": {},
   "outputs": [],
   "source": [
    "def m_triangle(noise=0.0, free_location=False):\n",
    "    figsize = 1.0\n",
    "    if free_location:\n",
    "        U = np.random.random(3)\n",
    "        V = np.random.random(3)\n",
    "    else:\n",
    "        size = (0.3 + 0.7 * np.random.random())*figsize/2\n",
    "        middle = figsize/2\n",
    "        U = (middle, middle+size, middle-size)\n",
    "        V = (middle+size, middle-size, middle-size)\n",
    "    idta = m_drawing(figsize, U, V, noise)\n",
    "    return [idta, [U[0], V[0], U[1], V[1], U[2], V[2]]]"
   ]
  },
  {
   "cell_type": "code",
   "execution_count": 151,
   "metadata": {},
   "outputs": [],
   "source": [
    "def m_rectangle(noise=0.0, free_location=False):\n",
    "    figsize = 1.0    \n",
    "    U = np.zeros(4)\n",
    "    V = np.zeros(4)\n",
    "    if free_location:\n",
    "        corners = np.random.random(4)\n",
    "        top = max(corners[0], corners[1])\n",
    "        bottom = min(corners[0], corners[1])\n",
    "        left = min(corners[2], corners[3])\n",
    "        right = max(corners[2], corners[3])\n",
    "    else:\n",
    "        side = (0.3 + 0.7 * np.random.random()) * figsize\n",
    "        top = figsize/2 + side/2\n",
    "        bottom = figsize/2 - side/2\n",
    "        left = bottom\n",
    "        right = top\n",
    "    U[0] = U[1] = top\n",
    "    U[2] = U[3] = bottom\n",
    "    V[0] = V[3] = left\n",
    "    V[1] = V[2] = right\n",
    "    return m_drawing(figsize, U, V, noise)"
   ]
  },
  {
   "cell_type": "code",
   "execution_count": 152,
   "metadata": {},
   "outputs": [
    {
     "data": {
      "text/plain": [
       "<matplotlib.image.AxesImage at 0x1de8246e6a0>"
      ]
     },
     "execution_count": 152,
     "metadata": {},
     "output_type": "execute_result"
    },
    {
     "data": {
      "image/png": "[encoded data removed]",
      "text/plain": [
       "<Figure size 432x288 with 1 Axes>"
      ]
     },
     "metadata": {
      "needs_background": "light"
     },
     "output_type": "display_data"
    }
   ],
   "source": [
    "[sh, h] = m_triangle(20, False)\n",
    "plt.imshow(sh.reshape(IMAGE_SIZE,IMAGE_SIZE), cmap='gray')"
   ]
  },
  {
   "cell_type": "code",
   "execution_count": 153,
   "metadata": {},
   "outputs": [
    {
     "data": {
      "text/plain": [
       "<matplotlib.image.AxesImage at 0x1de824f5828>"
      ]
     },
     "execution_count": 153,
     "metadata": {},
     "output_type": "execute_result"
    },
    {
     "data": {
      "image/png": "[encoded data removed]",
      "text/plain": [
       "<Figure size 432x288 with 1 Axes>"
      ]
     },
     "metadata": {
      "needs_background": "light"
     },
     "output_type": "display_data"
    }
   ],
   "source": [
    "sh = m_disk(10)\n",
    "plt.imshow(sh.reshape(IMAGE_SIZE,IMAGE_SIZE), cmap='gray')"
   ]
  },
  {
   "cell_type": "code",
   "execution_count": 154,
   "metadata": {},
   "outputs": [
    {
     "data": {
      "text/plain": [
       "<matplotlib.image.AxesImage at 0x1de8257ea90>"
      ]
     },
     "execution_count": 154,
     "metadata": {},
     "output_type": "execute_result"
    },
    {
     "data": {
      "image/png": "[encoded data removed]",
      "text/plain": [
       "<Figure size 432x288 with 1 Axes>"
      ]
     },
     "metadata": {
      "needs_background": "light"
     },
     "output_type": "display_data"
    }
   ],
   "source": [
    "sh = m_rectangle(10, True)\n",
    "plt.imshow(sh.reshape(IMAGE_SIZE,IMAGE_SIZE), cmap='gray')"
   ]
  },
  {
   "cell_type": "code",
   "execution_count": 155,
   "metadata": {},
   "outputs": [],
   "source": [
    "def m_dta_class(smpls, noise=0.0, free_location=False):\n",
    "    i_size = m_rectangle().shape[0]\n",
    "    X = np.zeros([smpls,i_size])\n",
    "    Y = np.zeros(smpls)\n",
    "    print('Creating data:')\n",
    "    for i in range(smpls):\n",
    "        if i % 10 == 0:\n",
    "            print(i)\n",
    "        category = np.random.randint(3)\n",
    "        if category == 0:\n",
    "            X[i] = m_rectangle(noise, free_location)\n",
    "        elif category == 1: \n",
    "            X[i] = m_disk(noise, free_location)\n",
    "        else:\n",
    "            [X[i], V] = m_triangle(noise, free_location)\n",
    "        Y[i] = category\n",
    "    X = (X + noise) / (255 + 2 * noise)\n",
    "    return [X, Y]\n"
   ]
  },
  {
   "cell_type": "code",
   "execution_count": 156,
   "metadata": {},
   "outputs": [],
   "source": [
    "def m_test_regr():\n",
    "    np.random.seed(42)\n",
    "    [X_test, Y_test] = m_dta_regr(300, 20)\n",
    "    return [X_test, Y_test]"
   ]
  },
  {
   "cell_type": "code",
   "execution_count": 157,
   "metadata": {},
   "outputs": [],
   "source": [
    "def m_test_class():\n",
    "    np.random.seed(50)\n",
    "    [X_test, Y_test] = m_dta_class(300, 20, True)\n",
    "    Y_test = np_utils.to_categorical(Y_test, 3) \n",
    "    return [X_test, Y_test]"
   ]
  },
  {
   "cell_type": "code",
   "execution_count": 158,
   "metadata": {},
   "outputs": [],
   "source": [
    "def m_dta_regr(smpls, noise=0.0):\n",
    "    i_size = m_triangle()[0].shape[0]\n",
    "    X = np.zeros([smpls,i_size])\n",
    "    Y = np.zeros([smpls, 6])\n",
    "    print('Creating data:')\n",
    "    for i in range(smpls):\n",
    "        if i % 10 == 0:\n",
    "            print(i)\n",
    "        [X[i], Y[i]] = m_triangle(noise, True)\n",
    "    X = (X + noise) / (255 + 2 * noise)\n",
    "    return [X, Y]"
   ]
  },
  {
   "cell_type": "code",
   "execution_count": 159,
   "metadata": {},
   "outputs": [],
   "source": [
    "def visu_pred(x, y):\n",
    "    fg, ax = plt.subplots(figsize=(5, 5))\n",
    "    I = x.reshape((IMAGE_SIZE,IMAGE_SIZE))\n",
    "    ax.imshow(I, extent=[-0.15,1.15,-0.15,1.15],cmap='gray')\n",
    "    ax.set_xlim([0,1])\n",
    "    ax.set_ylim([0,1])\n",
    "\n",
    "    xy = y.reshape(3,2)\n",
    "    tri = patches.Polygon(xy, closed=True, fill = False, edgecolor = 'r', linewidth = 5, alpha = 0.5)\n",
    "    ax.add_patch(tri)\n",
    "\n",
    "    plt.show()"
   ]
  },
  {
   "cell_type": "markdown",
   "metadata": {},
   "source": [
    "Set of images of shapes:"
   ]
  },
  {
   "cell_type": "code",
   "execution_count": 162,
   "metadata": {},
   "outputs": [
    {
     "name": "stdout",
     "output_type": "stream",
     "text": [
      "Creating data:\n",
      "0\n",
      "10\n",
      "20\n",
      "30\n",
      "40\n",
      "50\n",
      "60\n",
      "70\n",
      "80\n",
      "90\n",
      "100\n",
      "110\n",
      "120\n",
      "130\n",
      "140\n",
      "150\n",
      "160\n",
      "170\n",
      "180\n",
      "190\n",
      "200\n",
      "210\n",
      "220\n",
      "230\n",
      "240\n",
      "250\n",
      "260\n",
      "270\n",
      "280\n",
      "290\n",
      "300\n",
      "310\n",
      "320\n",
      "330\n",
      "340\n"
     ]
    }
   ],
   "source": [
    "[X_train, Y_train] = m_dta_class(350, 20)"
   ]
  },
  {
   "cell_type": "code",
   "execution_count": 163,
   "metadata": {},
   "outputs": [],
   "source": [
    "Y_train = keras.utils.to_categorical(Y_train, 3)"
   ]
  },
  {
   "cell_type": "markdown",
   "metadata": {
    "collapsed": true
   },
   "source": [
    "## Linear classifier for three categories of images"
   ]
  },
  {
   "cell_type": "markdown",
   "metadata": {
    "collapsed": true
   },
   "source": [
    "### Adam:"
   ]
  },
  {
   "cell_type": "code",
   "execution_count": 164,
   "metadata": {},
   "outputs": [],
   "source": [
    "class1 = Sequential()\n",
    "class1.add(Dense(units=3,kernel_initializer= 'uniform',activation=\"softmax\", input_shape=(X_train.shape[1],)))"
   ]
  },
  {
   "cell_type": "code",
   "execution_count": 165,
   "metadata": {},
   "outputs": [],
   "source": [
    "from keras import optimizers"
   ]
  },
  {
   "cell_type": "code",
   "execution_count": 166,
   "metadata": {},
   "outputs": [],
   "source": [
    "adam=optimizers.Adam(lr=0.001, beta_1=0.9, beta_2=0.999, epsilon=None, decay=0.0, amsgrad=False)\n",
    "class1.compile(loss='categorical_crossentropy',optimizer='adam')"
   ]
  },
  {
   "cell_type": "code",
   "execution_count": 168,
   "metadata": {},
   "outputs": [
    {
     "name": "stdout",
     "output_type": "stream",
     "text": [
      "Epoch 1/150\n",
      "350/350 [==============================] - 0s 195us/step - loss: 0.0019\n",
      "Epoch 2/150\n",
      "350/350 [==============================] - 0s 156us/step - loss: 0.0019\n",
      "Epoch 3/150\n",
      "350/350 [==============================] - 0s 148us/step - loss: 0.0019\n",
      "Epoch 4/150\n",
      "350/350 [==============================] - 0s 156us/step - loss: 0.0019\n",
      "Epoch 5/150\n",
      "350/350 [==============================] - 0s 257us/step - loss: 0.0018\n",
      "Epoch 6/150\n",
      "350/350 [==============================] - 0s 158us/step - loss: 0.0018\n",
      "Epoch 7/150\n",
      "350/350 [==============================] - 0s 151us/step - loss: 0.0018\n",
      "Epoch 8/150\n",
      "350/350 [==============================] - 0s 146us/step - loss: 0.0018\n",
      "Epoch 9/150\n",
      "350/350 [==============================] - 0s 183us/step - loss: 0.0018\n",
      "Epoch 10/150\n",
      "350/350 [==============================] - 0s 184us/step - loss: 0.0018\n",
      "Epoch 11/150\n",
      "350/350 [==============================] - 0s 169us/step - loss: 0.0018\n",
      "Epoch 12/150\n",
      "350/350 [==============================] - 0s 195us/step - loss: 0.0018\n",
      "Epoch 13/150\n",
      "350/350 [==============================] - 0s 165us/step - loss: 0.0018\n",
      "Epoch 14/150\n",
      "350/350 [==============================] - 0s 178us/step - loss: 0.0018\n",
      "Epoch 15/150\n",
      "350/350 [==============================] - 0s 202us/step - loss: 0.0017\n",
      "Epoch 16/150\n",
      "350/350 [==============================] - 0s 149us/step - loss: 0.0017\n",
      "Epoch 17/150\n",
      "350/350 [==============================] - 0s 191us/step - loss: 0.0017\n",
      "Epoch 18/150\n",
      "350/350 [==============================] - 0s 176us/step - loss: 0.0017\n",
      "Epoch 19/150\n",
      "350/350 [==============================] - 0s 179us/step - loss: 0.0017\n",
      "Epoch 20/150\n",
      "350/350 [==============================] - 0s 186us/step - loss: 0.0017\n",
      "Epoch 21/150\n",
      "350/350 [==============================] - 0s 166us/step - loss: 0.0017\n",
      "Epoch 22/150\n",
      "350/350 [==============================] - 0s 226us/step - loss: 0.0017\n",
      "Epoch 23/150\n",
      "350/350 [==============================] - 0s 156us/step - loss: 0.0017\n",
      "Epoch 24/150\n",
      "350/350 [==============================] - 0s 168us/step - loss: 0.0017\n",
      "Epoch 25/150\n",
      "350/350 [==============================] - 0s 183us/step - loss: 0.0017\n",
      "Epoch 26/150\n",
      "350/350 [==============================] - 0s 151us/step - loss: 0.0017\n",
      "Epoch 27/150\n",
      "350/350 [==============================] - 0s 170us/step - loss: 0.0017\n",
      "Epoch 28/150\n",
      "350/350 [==============================] - 0s 246us/step - loss: 0.0017\n",
      "Epoch 29/150\n",
      "350/350 [==============================] - 0s 225us/step - loss: 0.0016\n",
      "Epoch 30/150\n",
      "350/350 [==============================] - 0s 206us/step - loss: 0.0016\n",
      "Epoch 31/150\n",
      "350/350 [==============================] - 0s 160us/step - loss: 0.0016\n",
      "Epoch 32/150\n",
      "350/350 [==============================] - 0s 137us/step - loss: 0.0016\n",
      "Epoch 33/150\n",
      "350/350 [==============================] - 0s 181us/step - loss: 0.0016\n",
      "Epoch 34/150\n",
      "350/350 [==============================] - 0s 147us/step - loss: 0.0016\n",
      "Epoch 35/150\n",
      "350/350 [==============================] - 0s 159us/step - loss: 0.0016\n",
      "Epoch 36/150\n",
      "350/350 [==============================] - 0s 159us/step - loss: 0.0016\n",
      "Epoch 37/150\n",
      "350/350 [==============================] - 0s 159us/step - loss: 0.0016\n",
      "Epoch 38/150\n",
      "350/350 [==============================] - 0s 187us/step - loss: 0.0016\n",
      "Epoch 39/150\n",
      "350/350 [==============================] - 0s 229us/step - loss: 0.0016\n",
      "Epoch 40/150\n",
      "350/350 [==============================] - 0s 194us/step - loss: 0.0016\n",
      "Epoch 41/150\n",
      "350/350 [==============================] - 0s 218us/step - loss: 0.0015\n",
      "Epoch 42/150\n",
      "350/350 [==============================] - 0s 178us/step - loss: 0.0015\n",
      "Epoch 43/150\n",
      "350/350 [==============================] - 0s 172us/step - loss: 0.0015\n",
      "Epoch 44/150\n",
      "350/350 [==============================] - 0s 141us/step - loss: 0.0015\n",
      "Epoch 45/150\n",
      "350/350 [==============================] - 0s 146us/step - loss: 0.0016\n",
      "Epoch 46/150\n",
      "350/350 [==============================] - 0s 147us/step - loss: 0.0015\n",
      "Epoch 47/150\n",
      "350/350 [==============================] - 0s 163us/step - loss: 0.0015\n",
      "Epoch 48/150\n",
      "350/350 [==============================] - 0s 241us/step - loss: 0.0015\n",
      "Epoch 49/150\n",
      "350/350 [==============================] - 0s 234us/step - loss: 0.0015\n",
      "Epoch 50/150\n",
      "350/350 [==============================] - 0s 224us/step - loss: 0.0015\n",
      "Epoch 51/150\n",
      "350/350 [==============================] - 0s 175us/step - loss: 0.0015\n",
      "Epoch 52/150\n",
      "350/350 [==============================] - 0s 192us/step - loss: 0.0015\n",
      "Epoch 53/150\n",
      "350/350 [==============================] - 0s 179us/step - loss: 0.0015\n",
      "Epoch 54/150\n",
      "350/350 [==============================] - 0s 183us/step - loss: 0.0015\n",
      "Epoch 55/150\n",
      "350/350 [==============================] - 0s 163us/step - loss: 0.0014\n",
      "Epoch 56/150\n",
      "350/350 [==============================] - 0s 144us/step - loss: 0.0014\n",
      "Epoch 57/150\n",
      "350/350 [==============================] - 0s 137us/step - loss: 0.0014\n",
      "Epoch 58/150\n",
      "350/350 [==============================] - 0s 137us/step - loss: 0.0014\n",
      "Epoch 59/150\n",
      "350/350 [==============================] - 0s 142us/step - loss: 0.0014\n",
      "Epoch 60/150\n",
      "350/350 [==============================] - 0s 172us/step - loss: 0.0015\n",
      "Epoch 61/150\n",
      "350/350 [==============================] - 0s 215us/step - loss: 0.0014\n",
      "Epoch 62/150\n",
      "350/350 [==============================] - 0s 147us/step - loss: 0.0014\n",
      "Epoch 63/150\n",
      "350/350 [==============================] - 0s 175us/step - loss: 0.0014\n",
      "Epoch 64/150\n",
      "350/350 [==============================] - 0s 172us/step - loss: 0.0014\n",
      "Epoch 65/150\n",
      "350/350 [==============================] - 0s 156us/step - loss: 0.0014\n",
      "Epoch 66/150\n",
      "350/350 [==============================] - 0s 159us/step - loss: 0.0014\n",
      "Epoch 67/150\n",
      "350/350 [==============================] - 0s 152us/step - loss: 0.0014\n",
      "Epoch 68/150\n",
      "350/350 [==============================] - 0s 163us/step - loss: 0.0014\n",
      "Epoch 69/150\n",
      "350/350 [==============================] - 0s 156us/step - loss: 0.0013\n",
      "Epoch 70/150\n",
      "350/350 [==============================] - 0s 157us/step - loss: 0.0013\n",
      "Epoch 71/150\n",
      "350/350 [==============================] - 0s 153us/step - loss: 0.0013\n",
      "Epoch 72/150\n",
      "350/350 [==============================] - 0s 158us/step - loss: 0.0013\n",
      "Epoch 73/150\n",
      "350/350 [==============================] - 0s 186us/step - loss: 0.0013\n",
      "Epoch 74/150\n",
      "350/350 [==============================] - 0s 148us/step - loss: 0.0013\n",
      "Epoch 75/150\n",
      "350/350 [==============================] - 0s 166us/step - loss: 0.0013\n",
      "Epoch 76/150\n",
      "350/350 [==============================] - 0s 162us/step - loss: 0.0013\n",
      "Epoch 77/150\n",
      "350/350 [==============================] - 0s 148us/step - loss: 0.0013\n",
      "Epoch 78/150\n",
      "350/350 [==============================] - 0s 162us/step - loss: 0.0013\n",
      "Epoch 79/150\n",
      "350/350 [==============================] - 0s 154us/step - loss: 0.0013\n",
      "Epoch 80/150\n",
      "350/350 [==============================] - 0s 170us/step - loss: 0.0013\n",
      "Epoch 81/150\n",
      "350/350 [==============================] - 0s 158us/step - loss: 0.0013\n",
      "Epoch 82/150\n",
      "350/350 [==============================] - 0s 155us/step - loss: 0.0013\n",
      "Epoch 83/150\n",
      "350/350 [==============================] - 0s 149us/step - loss: 0.0013\n",
      "Epoch 84/150\n",
      "350/350 [==============================] - 0s 157us/step - loss: 0.0013\n",
      "Epoch 85/150\n",
      "350/350 [==============================] - 0s 155us/step - loss: 0.0013\n",
      "Epoch 86/150\n",
      "350/350 [==============================] - 0s 139us/step - loss: 0.0012\n",
      "Epoch 87/150\n",
      "350/350 [==============================] - 0s 249us/step - loss: 0.0012\n",
      "Epoch 88/150\n",
      "350/350 [==============================] - 0s 243us/step - loss: 0.0012\n",
      "Epoch 89/150\n",
      "350/350 [==============================] - 0s 237us/step - loss: 0.0012\n",
      "Epoch 90/150\n",
      "350/350 [==============================] - ETA: 0s - loss: 0.001 - 0s 230us/step - loss: 0.0012\n",
      "Epoch 91/150\n",
      "350/350 [==============================] - 0s 203us/step - loss: 0.0012\n",
      "Epoch 92/150\n",
      "350/350 [==============================] - 0s 168us/step - loss: 0.0012\n",
      "Epoch 93/150\n",
      "350/350 [==============================] - 0s 186us/step - loss: 0.0012\n",
      "Epoch 94/150\n",
      "350/350 [==============================] - 0s 216us/step - loss: 0.0012\n",
      "Epoch 95/150\n",
      "350/350 [==============================] - 0s 184us/step - loss: 0.0012\n",
      "Epoch 96/150\n",
      "350/350 [==============================] - 0s 170us/step - loss: 0.0012\n",
      "Epoch 97/150\n"
     ]
    },
    {
     "name": "stdout",
     "output_type": "stream",
     "text": [
      "350/350 [==============================] - 0s 165us/step - loss: 0.0012\n",
      "Epoch 98/150\n",
      "350/350 [==============================] - 0s 160us/step - loss: 0.0012\n",
      "Epoch 99/150\n",
      "350/350 [==============================] - 0s 161us/step - loss: 0.0012\n",
      "Epoch 100/150\n",
      "350/350 [==============================] - 0s 169us/step - loss: 0.0012\n",
      "Epoch 101/150\n",
      "350/350 [==============================] - 0s 217us/step - loss: 0.0012\n",
      "Epoch 102/150\n",
      "350/350 [==============================] - 0s 215us/step - loss: 0.0012\n",
      "Epoch 103/150\n",
      "350/350 [==============================] - 0s 207us/step - loss: 0.0012\n",
      "Epoch 104/150\n",
      "350/350 [==============================] - 0s 247us/step - loss: 0.0012\n",
      "Epoch 105/150\n",
      "350/350 [==============================] - 0s 181us/step - loss: 0.0011\n",
      "Epoch 106/150\n",
      "350/350 [==============================] - 0s 185us/step - loss: 0.0011\n",
      "Epoch 107/150\n",
      "350/350 [==============================] - 0s 193us/step - loss: 0.0011\n",
      "Epoch 108/150\n",
      "350/350 [==============================] - 0s 148us/step - loss: 0.0011\n",
      "Epoch 109/150\n",
      "350/350 [==============================] - 0s 277us/step - loss: 0.0011\n",
      "Epoch 110/150\n",
      "350/350 [==============================] - 0s 230us/step - loss: 0.0011\n",
      "Epoch 111/150\n",
      "350/350 [==============================] - 0s 224us/step - loss: 0.0011\n",
      "Epoch 112/150\n",
      "350/350 [==============================] - 0s 225us/step - loss: 0.0011\n",
      "Epoch 113/150\n",
      "350/350 [==============================] - 0s 209us/step - loss: 0.0011\n",
      "Epoch 114/150\n",
      "350/350 [==============================] - 0s 193us/step - loss: 0.0011\n",
      "Epoch 115/150\n",
      "350/350 [==============================] - 0s 218us/step - loss: 0.0011\n",
      "Epoch 116/150\n",
      "350/350 [==============================] - 0s 247us/step - loss: 0.0011\n",
      "Epoch 117/150\n",
      "350/350 [==============================] - 0s 227us/step - loss: 0.0011\n",
      "Epoch 118/150\n",
      "350/350 [==============================] - 0s 254us/step - loss: 0.0011\n",
      "Epoch 119/150\n",
      "350/350 [==============================] - 0s 225us/step - loss: 0.0011\n",
      "Epoch 120/150\n",
      "350/350 [==============================] - 0s 146us/step - loss: 0.0011\n",
      "Epoch 121/150\n",
      "350/350 [==============================] - 0s 135us/step - loss: 0.0011\n",
      "Epoch 122/150\n",
      "350/350 [==============================] - 0s 265us/step - loss: 0.0011\n",
      "Epoch 123/150\n",
      "350/350 [==============================] - 0s 250us/step - loss: 0.0011\n",
      "Epoch 124/150\n",
      "350/350 [==============================] - 0s 242us/step - loss: 0.0011\n",
      "Epoch 125/150\n",
      "350/350 [==============================] - 0s 229us/step - loss: 0.0010\n",
      "Epoch 126/150\n",
      "350/350 [==============================] - 0s 216us/step - loss: 0.0011\n",
      "Epoch 127/150\n",
      "350/350 [==============================] - 0s 170us/step - loss: 0.0010\n",
      "Epoch 128/150\n",
      "350/350 [==============================] - 0s 151us/step - loss: 0.0010\n",
      "Epoch 129/150\n",
      "350/350 [==============================] - 0s 170us/step - loss: 0.0010\n",
      "Epoch 130/150\n",
      "350/350 [==============================] - 0s 184us/step - loss: 0.0010\n",
      "Epoch 131/150\n",
      "350/350 [==============================] - 0s 180us/step - loss: 0.0010\n",
      "Epoch 132/150\n",
      "350/350 [==============================] - 0s 172us/step - loss: 0.0010\n",
      "Epoch 133/150\n",
      "350/350 [==============================] - 0s 185us/step - loss: 0.0010\n",
      "Epoch 134/150\n",
      "350/350 [==============================] - 0s 185us/step - loss: 0.0010\n",
      "Epoch 135/150\n",
      "350/350 [==============================] - 0s 182us/step - loss: 0.0010\n",
      "Epoch 136/150\n",
      "350/350 [==============================] - 0s 170us/step - loss: 0.0010\n",
      "Epoch 137/150\n",
      "350/350 [==============================] - 0s 191us/step - loss: 0.0010\n",
      "Epoch 138/150\n",
      "350/350 [==============================] - 0s 173us/step - loss: 9.9784e-04\n",
      "Epoch 139/150\n",
      "350/350 [==============================] - 0s 213us/step - loss: 0.0010\n",
      "Epoch 140/150\n",
      "350/350 [==============================] - 0s 175us/step - loss: 9.8407e-04\n",
      "Epoch 141/150\n",
      "350/350 [==============================] - 0s 218us/step - loss: 9.8275e-04\n",
      "Epoch 142/150\n",
      "350/350 [==============================] - 0s 161us/step - loss: 9.8623e-04\n",
      "Epoch 143/150\n",
      "350/350 [==============================] - 0s 205us/step - loss: 9.7302e-04\n",
      "Epoch 144/150\n",
      "350/350 [==============================] - 0s 170us/step - loss: 9.7001e-04\n",
      "Epoch 145/150\n",
      "350/350 [==============================] - 0s 207us/step - loss: 9.6568e-04\n",
      "Epoch 146/150\n",
      "350/350 [==============================] - 0s 194us/step - loss: 9.7342e-04\n",
      "Epoch 147/150\n",
      "350/350 [==============================] - 0s 181us/step - loss: 9.6309e-04\n",
      "Epoch 148/150\n",
      "350/350 [==============================] - 0s 182us/step - loss: 9.6371e-04\n",
      "Epoch 149/150\n",
      "350/350 [==============================] - 0s 184us/step - loss: 9.5573e-04\n",
      "Epoch 150/150\n",
      "350/350 [==============================] - 0s 196us/step - loss: 9.4451e-04\n"
     ]
    },
    {
     "data": {
      "text/plain": [
       "<keras.callbacks.History at 0x1de87e41358>"
      ]
     },
     "execution_count": 168,
     "metadata": {},
     "output_type": "execute_result"
    }
   ],
   "source": [
    "class1.fit(X_train, Y_train, epochs=150, batch_size=64)"
   ]
  },
  {
   "cell_type": "code",
   "execution_count": 169,
   "metadata": {},
   "outputs": [
    {
     "data": {
      "text/plain": [
       "array([[0., 1., 0.]], dtype=float32)"
      ]
     },
     "execution_count": 169,
     "metadata": {},
     "output_type": "execute_result"
    }
   ],
   "source": [
    "X_test = m_disk()\n",
    "X_test = X_test.reshape(1, X_test.shape[0])\n",
    "class1.predict(X_test)"
   ]
  },
  {
   "cell_type": "markdown",
   "metadata": {
    "collapsed": true
   },
   "source": [
    "### Stochastic Gradient Descent :"
   ]
  },
  {
   "cell_type": "code",
   "execution_count": 170,
   "metadata": {},
   "outputs": [],
   "source": [
    "class2 = Sequential()\n",
    "class2.add(Dense(units=64,kernel_initializer= 'uniform',activation=\"relu\", input_shape=(X_train.shape[1],)))\n",
    "class2.add(Dropout(rate=0.2))\n",
    "class2.add(Dense(units=20,kernel_initializer= 'uniform',activation=\"relu\"))\n",
    "class2.add(Dropout(rate=0.2))\n",
    "class2.add(Dense(units=3,kernel_initializer= 'uniform',activation=\"softmax\"))"
   ]
  },
  {
   "cell_type": "code",
   "execution_count": 171,
   "metadata": {},
   "outputs": [],
   "source": [
    "# Compile initialized gradient optimizer with model:"
   ]
  },
  {
   "cell_type": "code",
   "execution_count": 172,
   "metadata": {},
   "outputs": [],
   "source": [
    "dsct = SGD(lr=0.01,decay=1e-6, momentum=0.9,nesterov=True)\n",
    "class2.compile(loss='categorical_crossentropy',optimizer=dsct, metrics=[\"accuracy\"])"
   ]
  },
  {
   "cell_type": "code",
   "execution_count": 179,
   "metadata": {},
   "outputs": [
    {
     "name": "stdout",
     "output_type": "stream",
     "text": [
      "Epoch 1/150\n",
      "350/350 [==============================] - 0s 314us/step - loss: 0.4806 - acc: 0.6800\n",
      "Epoch 2/150\n",
      "350/350 [==============================] - 0s 280us/step - loss: 0.5368 - acc: 0.6543\n",
      "Epoch 3/150\n",
      "350/350 [==============================] - 0s 270us/step - loss: 0.5347 - acc: 0.6829\n",
      "Epoch 4/150\n",
      "350/350 [==============================] - 0s 317us/step - loss: 0.5268 - acc: 0.6829\n",
      "Epoch 5/150\n",
      "350/350 [==============================] - 0s 237us/step - loss: 0.4987 - acc: 0.6714\n",
      "Epoch 6/150\n",
      "350/350 [==============================] - 0s 316us/step - loss: 0.4730 - acc: 0.6800\n",
      "Epoch 7/150\n",
      "350/350 [==============================] - 0s 300us/step - loss: 0.4951 - acc: 0.6914\n",
      "Epoch 8/150\n",
      "350/350 [==============================] - 0s 283us/step - loss: 0.5137 - acc: 0.6571\n",
      "Epoch 9/150\n",
      "350/350 [==============================] - 0s 308us/step - loss: 0.5804 - acc: 0.6514\n",
      "Epoch 10/150\n",
      "350/350 [==============================] - 0s 308us/step - loss: 0.5661 - acc: 0.6600\n",
      "Epoch 11/150\n",
      "350/350 [==============================] - 0s 296us/step - loss: 0.4938 - acc: 0.6800\n",
      "Epoch 12/150\n",
      "350/350 [==============================] - 0s 303us/step - loss: 0.5726 - acc: 0.6600\n",
      "Epoch 13/150\n",
      "350/350 [==============================] - 0s 293us/step - loss: 0.4921 - acc: 0.6800\n",
      "Epoch 14/150\n",
      "350/350 [==============================] - 0s 284us/step - loss: 0.5353 - acc: 0.6686\n",
      "Epoch 15/150\n",
      "350/350 [==============================] - 0s 296us/step - loss: 0.5192 - acc: 0.6743\n",
      "Epoch 16/150\n",
      "350/350 [==============================] - 0s 296us/step - loss: 0.5155 - acc: 0.6743\n",
      "Epoch 17/150\n",
      "350/350 [==============================] - 0s 303us/step - loss: 0.5205 - acc: 0.6743\n",
      "Epoch 18/150\n",
      "350/350 [==============================] - 0s 305us/step - loss: 0.5196 - acc: 0.6743 0s - loss: 0.5032 - acc: 0.695\n",
      "Epoch 19/150\n",
      "350/350 [==============================] - 0s 292us/step - loss: 0.5081 - acc: 0.6771\n",
      "Epoch 20/150\n",
      "350/350 [==============================] - 0s 305us/step - loss: 0.4944 - acc: 0.6857\n",
      "Epoch 21/150\n",
      "350/350 [==============================] - 0s 280us/step - loss: 0.5286 - acc: 0.6714\n",
      "Epoch 22/150\n",
      "350/350 [==============================] - 0s 281us/step - loss: 0.5391 - acc: 0.6686\n",
      "Epoch 23/150\n",
      "350/350 [==============================] - 0s 318us/step - loss: 0.4837 - acc: 0.6800\n",
      "Epoch 24/150\n",
      "350/350 [==============================] - 0s 315us/step - loss: 0.5081 - acc: 0.6771\n",
      "Epoch 25/150\n",
      "350/350 [==============================] - 0s 285us/step - loss: 0.5429 - acc: 0.6686\n",
      "Epoch 26/150\n",
      "350/350 [==============================] - 0s 265us/step - loss: 0.4823 - acc: 0.6829\n",
      "Epoch 27/150\n",
      "350/350 [==============================] - 0s 298us/step - loss: 0.4801 - acc: 0.6829\n",
      "Epoch 28/150\n",
      "350/350 [==============================] - 0s 291us/step - loss: 0.5185 - acc: 0.6714\n",
      "Epoch 29/150\n",
      "350/350 [==============================] - 0s 291us/step - loss: 0.4847 - acc: 0.6829\n",
      "Epoch 30/150\n",
      "350/350 [==============================] - 0s 305us/step - loss: 0.5588 - acc: 0.6629\n",
      "Epoch 31/150\n",
      "350/350 [==============================] - 0s 296us/step - loss: 0.4805 - acc: 0.6800\n",
      "Epoch 32/150\n",
      "350/350 [==============================] - 0s 278us/step - loss: 0.5154 - acc: 0.6743\n",
      "Epoch 33/150\n",
      "350/350 [==============================] - 0s 268us/step - loss: 0.5327 - acc: 0.6657\n",
      "Epoch 34/150\n",
      "350/350 [==============================] - 0s 284us/step - loss: 0.4833 - acc: 0.6600\n",
      "Epoch 35/150\n",
      "350/350 [==============================] - 0s 302us/step - loss: 0.5512 - acc: 0.6914\n",
      "Epoch 36/150\n",
      "350/350 [==============================] - 0s 325us/step - loss: 0.4968 - acc: 0.6800\n",
      "Epoch 37/150\n",
      "350/350 [==============================] - 0s 301us/step - loss: 0.5536 - acc: 0.6657\n",
      "Epoch 38/150\n",
      "350/350 [==============================] - 0s 279us/step - loss: 0.4979 - acc: 0.6771\n",
      "Epoch 39/150\n",
      "350/350 [==============================] - 0s 313us/step - loss: 0.4943 - acc: 0.6800\n",
      "Epoch 40/150\n",
      "350/350 [==============================] - 0s 270us/step - loss: 0.5469 - acc: 0.6657\n",
      "Epoch 41/150\n",
      "350/350 [==============================] - 0s 303us/step - loss: 0.5274 - acc: 0.6714\n",
      "Epoch 42/150\n",
      "350/350 [==============================] - 0s 294us/step - loss: 0.4972 - acc: 0.6686\n",
      "Epoch 43/150\n",
      "350/350 [==============================] - 0s 280us/step - loss: 0.5506 - acc: 0.6657\n",
      "Epoch 44/150\n",
      "350/350 [==============================] - 0s 302us/step - loss: 0.4968 - acc: 0.6800\n",
      "Epoch 45/150\n",
      "350/350 [==============================] - 0s 298us/step - loss: 0.4904 - acc: 0.6800\n",
      "Epoch 46/150\n",
      "350/350 [==============================] - 0s 288us/step - loss: 0.5176 - acc: 0.6771\n",
      "Epoch 47/150\n",
      "350/350 [==============================] - 0s 288us/step - loss: 0.4922 - acc: 0.6829\n",
      "Epoch 48/150\n",
      "350/350 [==============================] - 0s 285us/step - loss: 0.5429 - acc: 0.6600\n",
      "Epoch 49/150\n",
      "350/350 [==============================] - 0s 297us/step - loss: 0.5518 - acc: 0.6657\n",
      "Epoch 50/150\n",
      "350/350 [==============================] - 0s 288us/step - loss: 0.5197 - acc: 0.6743\n",
      "Epoch 51/150\n",
      "350/350 [==============================] - 0s 271us/step - loss: 0.5204 - acc: 0.6743\n",
      "Epoch 52/150\n",
      "350/350 [==============================] - 0s 276us/step - loss: 0.5083 - acc: 0.6771\n",
      "Epoch 53/150\n",
      "350/350 [==============================] - 0s 250us/step - loss: 0.5535 - acc: 0.6657\n",
      "Epoch 54/150\n",
      "350/350 [==============================] - 0s 299us/step - loss: 0.4859 - acc: 0.6829\n",
      "Epoch 55/150\n",
      "350/350 [==============================] - 0s 246us/step - loss: 0.5357 - acc: 0.6686\n",
      "Epoch 56/150\n",
      "350/350 [==============================] - 0s 276us/step - loss: 0.4972 - acc: 0.6800\n",
      "Epoch 57/150\n",
      "350/350 [==============================] - 0s 335us/step - loss: 0.5239 - acc: 0.6714\n",
      "Epoch 58/150\n",
      "350/350 [==============================] - 0s 328us/step - loss: 0.5177 - acc: 0.6743\n",
      "Epoch 59/150\n",
      "350/350 [==============================] - 0s 302us/step - loss: 0.4829 - acc: 0.6829\n",
      "Epoch 60/150\n",
      "350/350 [==============================] - 0s 307us/step - loss: 0.5207 - acc: 0.6714\n",
      "Epoch 61/150\n",
      "350/350 [==============================] - 0s 310us/step - loss: 0.4947 - acc: 0.6800\n",
      "Epoch 62/150\n",
      "350/350 [==============================] - 0s 301us/step - loss: 0.4973 - acc: 0.6800\n",
      "Epoch 63/150\n",
      "350/350 [==============================] - 0s 318us/step - loss: 0.5100 - acc: 0.6771\n",
      "Epoch 64/150\n",
      "350/350 [==============================] - 0s 305us/step - loss: 0.5529 - acc: 0.6629\n",
      "Epoch 65/150\n",
      "350/350 [==============================] - 0s 323us/step - loss: 0.5160 - acc: 0.6743\n",
      "Epoch 66/150\n",
      "350/350 [==============================] - 0s 325us/step - loss: 0.5172 - acc: 0.6743\n",
      "Epoch 67/150\n",
      "350/350 [==============================] - 0s 307us/step - loss: 0.5337 - acc: 0.6686\n",
      "Epoch 68/150\n",
      "350/350 [==============================] - 0s 297us/step - loss: 0.4970 - acc: 0.6800\n",
      "Epoch 69/150\n",
      "350/350 [==============================] - 0s 331us/step - loss: 0.5924 - acc: 0.6543\n",
      "Epoch 70/150\n",
      "350/350 [==============================] - 0s 272us/step - loss: 0.4778 - acc: 0.6829\n",
      "Epoch 71/150\n",
      "350/350 [==============================] - 0s 348us/step - loss: 0.5427 - acc: 0.6686\n",
      "Epoch 72/150\n",
      "350/350 [==============================] - 0s 333us/step - loss: 0.4957 - acc: 0.6800\n",
      "Epoch 73/150\n",
      "350/350 [==============================] - 0s 317us/step - loss: 0.4972 - acc: 0.6800\n",
      "Epoch 74/150\n",
      "350/350 [==============================] - 0s 327us/step - loss: 0.4853 - acc: 0.6829\n",
      "Epoch 75/150\n",
      "350/350 [==============================] - 0s 317us/step - loss: 0.5054 - acc: 0.6771\n",
      "Epoch 76/150\n",
      "350/350 [==============================] - 0s 311us/step - loss: 0.5153 - acc: 0.6743\n",
      "Epoch 77/150\n",
      "350/350 [==============================] - 0s 311us/step - loss: 0.5192 - acc: 0.6743\n",
      "Epoch 78/150\n",
      "350/350 [==============================] - 0s 327us/step - loss: 0.5404 - acc: 0.6686\n",
      "Epoch 79/150\n",
      "350/350 [==============================] - 0s 313us/step - loss: 0.5410 - acc: 0.6686\n",
      "Epoch 80/150\n",
      "350/350 [==============================] - 0s 375us/step - loss: 0.5183 - acc: 0.6743\n",
      "Epoch 81/150\n",
      "350/350 [==============================] - 0s 364us/step - loss: 0.5356 - acc: 0.6686\n",
      "Epoch 82/150\n",
      "350/350 [==============================] - 0s 356us/step - loss: 0.5276 - acc: 0.6714\n",
      "Epoch 83/150\n"
     ]
    },
    {
     "name": "stdout",
     "output_type": "stream",
     "text": [
      "350/350 [==============================] - 0s 324us/step - loss: 0.5080 - acc: 0.6771\n",
      "Epoch 84/150\n",
      "350/350 [==============================] - 0s 352us/step - loss: 0.5875 - acc: 0.6571\n",
      "Epoch 85/150\n",
      "350/350 [==============================] - 0s 310us/step - loss: 0.5139 - acc: 0.6743\n",
      "Epoch 86/150\n",
      "350/350 [==============================] - 0s 346us/step - loss: 0.5294 - acc: 0.6714\n",
      "Epoch 87/150\n",
      "350/350 [==============================] - 0s 346us/step - loss: 0.5090 - acc: 0.6771\n",
      "Epoch 88/150\n",
      "350/350 [==============================] - 0s 311us/step - loss: 0.5114 - acc: 0.6771\n",
      "Epoch 89/150\n",
      "350/350 [==============================] - 0s 353us/step - loss: 0.5182 - acc: 0.6743\n",
      "Epoch 90/150\n",
      "350/350 [==============================] - 0s 335us/step - loss: 0.5486 - acc: 0.6657\n",
      "Epoch 91/150\n",
      "350/350 [==============================] - 0s 340us/step - loss: 0.4870 - acc: 0.6800\n",
      "Epoch 92/150\n",
      "350/350 [==============================] - 0s 346us/step - loss: 0.5169 - acc: 0.6743\n",
      "Epoch 93/150\n",
      "350/350 [==============================] - 0s 325us/step - loss: 0.5313 - acc: 0.6714\n",
      "Epoch 94/150\n",
      "350/350 [==============================] - 0s 307us/step - loss: 0.5094 - acc: 0.6771\n",
      "Epoch 95/150\n",
      "350/350 [==============================] - 0s 310us/step - loss: 0.5374 - acc: 0.6686\n",
      "Epoch 96/150\n",
      "350/350 [==============================] - 0s 314us/step - loss: 0.5183 - acc: 0.6743\n",
      "Epoch 97/150\n",
      "350/350 [==============================] - 0s 374us/step - loss: 0.4975 - acc: 0.6800\n",
      "Epoch 98/150\n",
      "350/350 [==============================] - 0s 341us/step - loss: 0.5168 - acc: 0.6743\n",
      "Epoch 99/150\n",
      "350/350 [==============================] - 0s 330us/step - loss: 0.4969 - acc: 0.6800\n",
      "Epoch 100/150\n",
      "350/350 [==============================] - 0s 351us/step - loss: 0.5059 - acc: 0.6771\n",
      "Epoch 101/150\n",
      "350/350 [==============================] - 0s 378us/step - loss: 0.5264 - acc: 0.6714\n",
      "Epoch 102/150\n",
      "350/350 [==============================] - 0s 299us/step - loss: 0.4976 - acc: 0.6800\n",
      "Epoch 103/150\n",
      "350/350 [==============================] - 0s 318us/step - loss: 0.4950 - acc: 0.6800\n",
      "Epoch 104/150\n",
      "350/350 [==============================] - 0s 327us/step - loss: 0.5255 - acc: 0.6714\n",
      "Epoch 105/150\n",
      "350/350 [==============================] - 0s 332us/step - loss: 0.5075 - acc: 0.6771\n",
      "Epoch 106/150\n",
      "350/350 [==============================] - 0s 279us/step - loss: 0.5507 - acc: 0.6657\n",
      "Epoch 107/150\n",
      "350/350 [==============================] - 0s 243us/step - loss: 0.5049 - acc: 0.6771\n",
      "Epoch 108/150\n",
      "350/350 [==============================] - 0s 267us/step - loss: 0.4843 - acc: 0.6829\n",
      "Epoch 109/150\n",
      "350/350 [==============================] - 0s 286us/step - loss: 0.4962 - acc: 0.6800\n",
      "Epoch 110/150\n",
      "350/350 [==============================] - 0s 340us/step - loss: 0.5589 - acc: 0.6629\n",
      "Epoch 111/150\n",
      "350/350 [==============================] - 0s 342us/step - loss: 0.5336 - acc: 0.6686\n",
      "Epoch 112/150\n",
      "350/350 [==============================] - 0s 312us/step - loss: 0.5534 - acc: 0.6657\n",
      "Epoch 113/150\n",
      "350/350 [==============================] - 0s 324us/step - loss: 0.5042 - acc: 0.6771\n",
      "Epoch 114/150\n",
      "350/350 [==============================] - 0s 259us/step - loss: 0.4912 - acc: 0.6800\n",
      "Epoch 115/150\n",
      "350/350 [==============================] - 0s 323us/step - loss: 0.5489 - acc: 0.6657\n",
      "Epoch 116/150\n",
      "350/350 [==============================] - 0s 297us/step - loss: 0.4843 - acc: 0.6829\n",
      "Epoch 117/150\n",
      "350/350 [==============================] - 0s 294us/step - loss: 0.5496 - acc: 0.6657\n",
      "Epoch 118/150\n",
      "350/350 [==============================] - 0s 284us/step - loss: 0.4857 - acc: 0.6829\n",
      "Epoch 119/150\n",
      "350/350 [==============================] - 0s 290us/step - loss: 0.5750 - acc: 0.6600\n",
      "Epoch 120/150\n",
      "350/350 [==============================] - 0s 287us/step - loss: 0.5267 - acc: 0.6714\n",
      "Epoch 121/150\n",
      "350/350 [==============================] - 0s 307us/step - loss: 0.4973 - acc: 0.6800\n",
      "Epoch 122/150\n",
      "350/350 [==============================] - 0s 299us/step - loss: 0.4839 - acc: 0.6829\n",
      "Epoch 123/150\n",
      "350/350 [==============================] - 0s 310us/step - loss: 0.4867 - acc: 0.6829\n",
      "Epoch 124/150\n",
      "350/350 [==============================] - 0s 298us/step - loss: 0.5175 - acc: 0.6743\n",
      "Epoch 125/150\n",
      "350/350 [==============================] - 0s 296us/step - loss: 0.4728 - acc: 0.6857\n",
      "Epoch 126/150\n",
      "350/350 [==============================] - 0s 287us/step - loss: 0.4845 - acc: 0.6657\n",
      "Epoch 127/150\n",
      "350/350 [==============================] - 0s 296us/step - loss: 0.4809 - acc: 0.6800\n",
      "Epoch 128/150\n",
      "350/350 [==============================] - 0s 311us/step - loss: 0.5258 - acc: 0.6714\n",
      "Epoch 129/150\n",
      "350/350 [==============================] - 0s 375us/step - loss: 0.5161 - acc: 0.6743\n",
      "Epoch 130/150\n",
      "350/350 [==============================] - 0s 319us/step - loss: 0.5538 - acc: 0.6657\n",
      "Epoch 131/150\n",
      "350/350 [==============================] - 0s 300us/step - loss: 0.5043 - acc: 0.6771\n",
      "Epoch 132/150\n",
      "350/350 [==============================] - 0s 312us/step - loss: 0.5398 - acc: 0.6686\n",
      "Epoch 133/150\n",
      "350/350 [==============================] - 0s 323us/step - loss: 0.5290 - acc: 0.6714\n",
      "Epoch 134/150\n",
      "350/350 [==============================] - 0s 329us/step - loss: 0.5271 - acc: 0.6714\n",
      "Epoch 135/150\n",
      "350/350 [==============================] - 0s 349us/step - loss: 0.5199 - acc: 0.6743\n",
      "Epoch 136/150\n",
      "350/350 [==============================] - 0s 331us/step - loss: 0.5161 - acc: 0.6743\n",
      "Epoch 137/150\n",
      "350/350 [==============================] - 0s 349us/step - loss: 0.5385 - acc: 0.6686\n",
      "Epoch 138/150\n",
      "350/350 [==============================] - 0s 327us/step - loss: 0.5721 - acc: 0.6600\n",
      "Epoch 139/150\n",
      "350/350 [==============================] - 0s 379us/step - loss: 0.5158 - acc: 0.6743\n",
      "Epoch 140/150\n",
      "350/350 [==============================] - 0s 448us/step - loss: 0.5172 - acc: 0.6743\n",
      "Epoch 141/150\n",
      "350/350 [==============================] - 0s 384us/step - loss: 0.4969 - acc: 0.6800\n",
      "Epoch 142/150\n",
      "350/350 [==============================] - 0s 350us/step - loss: 0.4980 - acc: 0.6800\n",
      "Epoch 143/150\n",
      "350/350 [==============================] - 0s 296us/step - loss: 0.5186 - acc: 0.6743\n",
      "Epoch 144/150\n",
      "350/350 [==============================] - 0s 337us/step - loss: 0.5270 - acc: 0.6714\n",
      "Epoch 145/150\n",
      "350/350 [==============================] - 0s 286us/step - loss: 0.4936 - acc: 0.6800\n",
      "Epoch 146/150\n",
      "350/350 [==============================] - 0s 319us/step - loss: 0.5377 - acc: 0.6686\n",
      "Epoch 147/150\n",
      "350/350 [==============================] - 0s 311us/step - loss: 0.5320 - acc: 0.6714\n",
      "Epoch 148/150\n",
      "350/350 [==============================] - 0s 315us/step - loss: 0.4975 - acc: 0.6800\n",
      "Epoch 149/150\n",
      "350/350 [==============================] - 0s 275us/step - loss: 0.5228 - acc: 0.6714\n",
      "Epoch 150/150\n",
      "350/350 [==============================] - 0s 308us/step - loss: 0.5288 - acc: 0.6714\n"
     ]
    },
    {
     "data": {
      "text/plain": [
       "<keras.callbacks.History at 0x1de84314b70>"
      ]
     },
     "execution_count": 179,
     "metadata": {},
     "output_type": "execute_result"
    }
   ],
   "source": [
    "class2.fit(X_train, Y_train, epochs=150, batch_size=64)"
   ]
  },
  {
   "cell_type": "code",
   "execution_count": 180,
   "metadata": {},
   "outputs": [
    {
     "data": {
      "text/plain": [
       "array([[0.46838132, 0.50900644, 0.02261222]], dtype=float32)"
      ]
     },
     "execution_count": 180,
     "metadata": {},
     "output_type": "execute_result"
    }
   ],
   "source": [
    "X_test = m_disk()\n",
    "X_test = X_test.reshape(1, X_test.shape[0])\n",
    "class2.predict(X_test)"
   ]
  },
  {
   "cell_type": "code",
   "execution_count": 181,
   "metadata": {},
   "outputs": [
    {
     "name": "stdout",
     "output_type": "stream",
     "text": [
      "Creating data:\n",
      "0\n",
      "10\n",
      "20\n",
      "30\n",
      "40\n",
      "50\n",
      "60\n",
      "70\n",
      "80\n",
      "90\n",
      "100\n",
      "110\n",
      "120\n",
      "130\n",
      "140\n",
      "150\n",
      "160\n",
      "170\n",
      "180\n",
      "190\n",
      "200\n",
      "210\n",
      "220\n",
      "230\n",
      "240\n",
      "250\n",
      "260\n",
      "270\n",
      "280\n",
      "290\n"
     ]
    }
   ],
   "source": [
    "[X_test, Y_test] = m_dta_class(300, 20)"
   ]
  },
  {
   "cell_type": "code",
   "execution_count": 182,
   "metadata": {},
   "outputs": [],
   "source": [
    "Y_test=keras.utils.to_categorical(Y_test, 3)"
   ]
  },
  {
   "cell_type": "code",
   "execution_count": 183,
   "metadata": {},
   "outputs": [
    {
     "name": "stdout",
     "output_type": "stream",
     "text": [
      "300/300 [==============================] - 1s 2ms/step\n"
     ]
    },
    {
     "data": {
      "text/plain": [
       "[0.48339714924494426, 0.683333334128062]"
      ]
     },
     "execution_count": 183,
     "metadata": {},
     "output_type": "execute_result"
    }
   ],
   "source": [
    "class2.evaluate(X_test, Y_test)"
   ]
  },
  {
   "cell_type": "markdown",
   "metadata": {},
   "source": [
    "## Visualization "
   ]
  },
  {
   "cell_type": "markdown",
   "metadata": {},
   "source": [
    "###  Stochastic Gradient Descent:"
   ]
  },
  {
   "cell_type": "code",
   "execution_count": 184,
   "metadata": {},
   "outputs": [
    {
     "data": {
      "text/plain": [
       "[array([[ 0.02857787, -0.00924891, -0.0566795 , ...,  0.04925467,\n",
       "         -0.01231375,  0.00396256],\n",
       "        [-0.03031432, -0.02117886, -0.01057098, ...,  0.00649414,\n",
       "          0.02985455, -0.05607876],\n",
       "        [-0.04031097,  0.03135011, -0.03942272, ...,  0.04953474,\n",
       "          0.02900839,  0.04158708],\n",
       "        ...,\n",
       "        [ 0.02330506,  0.03267567, -0.04176903, ...,  0.0090082 ,\n",
       "         -0.05477479, -0.01593697],\n",
       "        [ 0.02847643, -0.04635125,  0.00830125, ...,  0.00431921,\n",
       "         -0.06266011,  0.0153923 ],\n",
       "        [-0.04925165, -0.03987079,  0.00535977, ...,  0.03463411,\n",
       "         -0.01324886, -0.05712413]], dtype=float32),\n",
       " array([-7.95846514e-04, -3.26224486e-03, -1.42960306e-02, -1.25850383e-02,\n",
       "         0.00000000e+00,  0.00000000e+00, -1.23889325e-02, -2.65585445e-03,\n",
       "        -4.43038851e-04, -9.33059957e-03, -9.95177031e-03, -4.67493781e-04,\n",
       "         0.00000000e+00, -1.72385611e-04, -1.36343325e-02, -6.74486160e-03,\n",
       "        -3.37114162e-03, -5.36163461e-05, -3.29734350e-04, -8.18912126e-03,\n",
       "        -5.57222683e-03, -2.08146009e-03, -6.08796859e-03, -1.27785862e-03,\n",
       "        -8.36739875e-03, -5.45972027e-03, -2.02214840e-04, -2.78317672e-03,\n",
       "         0.00000000e+00, -7.39589287e-03, -6.64647901e-03,  0.00000000e+00,\n",
       "        -1.47651706e-03, -2.12952984e-03, -5.28292789e-04,  0.00000000e+00,\n",
       "        -6.19991697e-05, -1.03111053e-02, -3.42201954e-03,  0.00000000e+00,\n",
       "        -7.44069985e-04, -1.57342921e-03, -8.53249338e-03, -4.41786600e-04,\n",
       "        -1.17386356e-02, -1.04507373e-03, -1.14855738e-02,  0.00000000e+00,\n",
       "        -2.81340699e-03,  0.00000000e+00,  0.00000000e+00, -9.61164362e-04,\n",
       "         0.00000000e+00, -9.34011128e-04, -8.85811262e-03, -1.24069881e-02,\n",
       "        -1.21231854e-03, -5.84605755e-03, -6.88398909e-03, -9.25150886e-03,\n",
       "        -2.55382271e-03, -9.49111709e-05, -1.78843066e-02, -6.53434079e-03],\n",
       "       dtype=float32),\n",
       " array([[-0.0166979 , -0.00455247,  0.02860273, ..., -0.02916634,\n",
       "          0.0236296 , -0.01030844],\n",
       "        [-0.00899586,  0.08375995, -0.04585362, ...,  0.01747744,\n",
       "          0.05150457, -0.02199184],\n",
       "        [-0.04450165, -0.01201952,  0.10753736, ...,  0.01709506,\n",
       "         -0.03640136, -0.01618777],\n",
       "        ...,\n",
       "        [ 0.00780494, -0.0009727 , -0.01861473, ..., -0.01389185,\n",
       "         -0.04710234,  0.03176658],\n",
       "        [-0.01432287, -0.0623644 ,  0.0721705 , ..., -0.07437414,\n",
       "         -0.19622621, -0.0151714 ],\n",
       "        [-0.01948451, -0.25234687,  0.13215284, ...,  0.03071051,\n",
       "          0.00273752, -0.10915624]], dtype=float32),\n",
       " array([-0.00379927, -0.04238515, -0.01895537, -0.00877218, -0.01309907,\n",
       "         0.27671003, -0.00093017, -0.0029707 ,  0.3261043 , -0.02566979,\n",
       "        -0.02036429, -0.20069794, -0.0129268 ,  0.14142743,  0.30837187,\n",
       "        -0.06216409, -0.01363162,  0.3194421 ,  0.298896  , -0.02400381],\n",
       "       dtype=float32),\n",
       " array([[-0.05180885,  0.1460201 , -0.02401683],\n",
       "        [ 0.4672887 , -0.13735616, -0.3550649 ],\n",
       "        [-0.38534307, -0.23706608,  0.6032871 ],\n",
       "        [ 0.0072614 , -0.02617658,  0.01537036],\n",
       "        [-0.31571317, -0.24487342,  0.6175618 ],\n",
       "        [ 0.12941854,  0.19151847, -0.33279863],\n",
       "        [-0.19283164, -0.20456429,  0.49442768],\n",
       "        [ 0.00801693, -0.25316712,  0.2533324 ],\n",
       "        [ 0.34703562,  0.33398417, -0.72282743],\n",
       "        [-0.2124865 ,  0.2558187 , -0.13011236],\n",
       "        [ 0.24831533, -0.07771488, -0.14162676],\n",
       "        [ 0.448712  , -0.2198095 , -0.30967462],\n",
       "        [-0.41937277, -0.06766437,  0.47538036],\n",
       "        [ 0.10428662,  0.04493587, -0.14753799],\n",
       "        [ 0.36955324,  0.31250986, -0.6411873 ],\n",
       "        [ 0.3203943 , -0.32446623,  0.04132747],\n",
       "        [ 0.06284592, -0.00375356,  0.018426  ],\n",
       "        [ 0.3332214 ,  0.2844298 , -0.6029244 ],\n",
       "        [ 0.31701446,  0.35163054, -0.6563289 ],\n",
       "        [-0.03929752, -0.47655323,  0.50543886]], dtype=float32),\n",
       " array([ 0.5050865,  0.6065607, -1.111647 ], dtype=float32)]"
      ]
     },
     "execution_count": 184,
     "metadata": {},
     "output_type": "execute_result"
    }
   ],
   "source": [
    "class2.get_weights()"
   ]
  },
  {
   "cell_type": "code",
   "execution_count": 185,
   "metadata": {},
   "outputs": [],
   "source": [
    "A1=class2.get_weights()[0]"
   ]
  },
  {
   "cell_type": "code",
   "execution_count": 186,
   "metadata": {},
   "outputs": [],
   "source": [
    "i1=A1[:,0]\n",
    "i2=A1[:,1]\n",
    "i3=A1[:,2]"
   ]
  },
  {
   "cell_type": "code",
   "execution_count": 187,
   "metadata": {},
   "outputs": [
    {
     "data": {
      "text/plain": [
       "<matplotlib.image.AxesImage at 0x1ded079bf28>"
      ]
     },
     "execution_count": 187,
     "metadata": {},
     "output_type": "execute_result"
    },
    {
     "data": {
      "image/png": "[encoded data removed]",
      "text/plain": [
       "<Figure size 432x288 with 1 Axes>"
      ]
     },
     "metadata": {
      "needs_background": "light"
     },
     "output_type": "display_data"
    }
   ],
   "source": [
    "plt.imshow(i1.reshape(IMAGE_SIZE, IMAGE_SIZE), interpolation='nearest', cmap='gray')"
   ]
  },
  {
   "cell_type": "code",
   "execution_count": 188,
   "metadata": {},
   "outputs": [
    {
     "data": {
      "text/plain": [
       "<matplotlib.image.AxesImage at 0x1ded0bc1b70>"
      ]
     },
     "execution_count": 188,
     "metadata": {},
     "output_type": "execute_result"
    },
    {
     "data": {
      "image/png": "[encoded data removed]",
      "text/plain": [
       "<Figure size 432x288 with 1 Axes>"
      ]
     },
     "metadata": {
      "needs_background": "light"
     },
     "output_type": "display_data"
    }
   ],
   "source": [
    "plt.imshow(i2.reshape(IMAGE_SIZE, IMAGE_SIZE), interpolation='nearest')"
   ]
  },
  {
   "cell_type": "code",
   "execution_count": 189,
   "metadata": {},
   "outputs": [
    {
     "data": {
      "text/plain": [
       "<matplotlib.image.AxesImage at 0x1ded27a57b8>"
      ]
     },
     "execution_count": 189,
     "metadata": {},
     "output_type": "execute_result"
    },
    {
     "data": {
      "image/png": "[encoded data removed]",
      "text/plain": [
       "<Figure size 432x288 with 1 Axes>"
      ]
     },
     "metadata": {
      "needs_background": "light"
     },
     "output_type": "display_data"
    }
   ],
   "source": [
    "plt.imshow(i3.reshape(IMAGE_SIZE, IMAGE_SIZE), interpolation='nearest')"
   ]
  },
  {
   "cell_type": "markdown",
   "metadata": {},
   "source": [
    "### Adam:"
   ]
  },
  {
   "cell_type": "code",
   "execution_count": 190,
   "metadata": {},
   "outputs": [
    {
     "data": {
      "text/plain": [
       "[array([[ 0.04711089,  0.01469843,  0.01227014],\n",
       "        [ 0.01006752, -0.04775855,  0.03592027],\n",
       "        [ 0.02976719, -0.03157744,  0.01660763],\n",
       "        ...,\n",
       "        [ 0.044949  ,  0.04391314, -0.00193161],\n",
       "        [ 0.00277864,  0.01649582,  0.00225872],\n",
       "        [ 0.03555985, -0.00515882, -0.03088137]], dtype=float32),\n",
       " array([ 0.00192975, -0.0005239 , -0.00190714], dtype=float32)]"
      ]
     },
     "execution_count": 190,
     "metadata": {},
     "output_type": "execute_result"
    }
   ],
   "source": [
    "class1.get_weights()"
   ]
  },
  {
   "cell_type": "code",
   "execution_count": 191,
   "metadata": {},
   "outputs": [],
   "source": [
    "A2=class1.get_weights()[0]"
   ]
  },
  {
   "cell_type": "code",
   "execution_count": 192,
   "metadata": {},
   "outputs": [],
   "source": [
    "i4=A2[:,0]\n",
    "i5=A2[:,1]\n",
    "i6=A2[:,2]"
   ]
  },
  {
   "cell_type": "code",
   "execution_count": 193,
   "metadata": {},
   "outputs": [
    {
     "data": {
      "text/plain": [
       "<matplotlib.image.AxesImage at 0x1ded1dfe4e0>"
      ]
     },
     "execution_count": 193,
     "metadata": {},
     "output_type": "execute_result"
    },
    {
     "data": {
      "image/png": "[encoded data removed]",
      "text/plain": [
       "<Figure size 432x288 with 1 Axes>"
      ]
     },
     "metadata": {
      "needs_background": "light"
     },
     "output_type": "display_data"
    }
   ],
   "source": [
    "plt.imshow(i4.reshape(IMAGE_SIZE, IMAGE_SIZE))"
   ]
  },
  {
   "cell_type": "code",
   "execution_count": 194,
   "metadata": {},
   "outputs": [
    {
     "data": {
      "text/plain": [
       "<matplotlib.image.AxesImage at 0x1ded3f3e208>"
      ]
     },
     "execution_count": 194,
     "metadata": {},
     "output_type": "execute_result"
    },
    {
     "data": {
      "image/png": "[encoded data removed]",
      "text/plain": [
       "<Figure size 432x288 with 1 Axes>"
      ]
     },
     "metadata": {
      "needs_background": "light"
     },
     "output_type": "display_data"
    }
   ],
   "source": [
    "plt.imshow(i5.reshape(IMAGE_SIZE, IMAGE_SIZE), interpolation='nearest', cmap='ocean')"
   ]
  },
  {
   "cell_type": "code",
   "execution_count": 195,
   "metadata": {},
   "outputs": [
    {
     "data": {
      "text/plain": [
       "<matplotlib.image.AxesImage at 0x1ded662d1d0>"
      ]
     },
     "execution_count": 195,
     "metadata": {},
     "output_type": "execute_result"
    },
    {
     "data": {
      "image/png": "[encoded data removed]",
      "text/plain": [
       "<Figure size 432x288 with 1 Axes>"
      ]
     },
     "metadata": {
      "needs_background": "light"
     },
     "output_type": "display_data"
    }
   ],
   "source": [
    "plt.imshow(i6.reshape(IMAGE_SIZE, IMAGE_SIZE), interpolation='nearest')"
   ]
  },
  {
   "cell_type": "markdown",
   "metadata": {},
   "source": [
    "### Classicification2"
   ]
  },
  {
   "cell_type": "code",
   "execution_count": 196,
   "metadata": {},
   "outputs": [
    {
     "name": "stdout",
     "output_type": "stream",
     "text": [
      "Creating data:\n",
      "0\n",
      "10\n",
      "20\n",
      "30\n",
      "40\n",
      "50\n",
      "60\n",
      "70\n",
      "80\n",
      "90\n",
      "100\n",
      "110\n",
      "120\n",
      "130\n",
      "140\n",
      "150\n",
      "160\n",
      "170\n",
      "180\n",
      "190\n",
      "200\n",
      "210\n",
      "220\n",
      "230\n",
      "240\n",
      "250\n",
      "260\n",
      "270\n",
      "280\n",
      "290\n",
      "300\n",
      "310\n",
      "320\n",
      "330\n",
      "340\n"
     ]
    }
   ],
   "source": [
    "[X_train2, Y_train2] = m_dta_class(350, 20, True)\n",
    "Y_trainc2 = keras.utils.to_categorical(Y_train2, 3)"
   ]
  },
  {
   "cell_type": "code",
   "execution_count": 202,
   "metadata": {},
   "outputs": [
    {
     "data": {
      "text/plain": [
       "<matplotlib.image.AxesImage at 0x1de8761c518>"
      ]
     },
     "execution_count": 202,
     "metadata": {},
     "output_type": "execute_result"
    },
    {
     "data": {
      "image/png": "[encoded data removed]",
      "text/plain": [
       "<Figure size 432x288 with 1 Axes>"
      ]
     },
     "metadata": {
      "needs_background": "light"
     },
     "output_type": "display_data"
    }
   ],
   "source": [
    "plt.imshow(X_train2[200].reshape(IMAGE_SIZE, IMAGE_SIZE), cmap='gray')"
   ]
  },
  {
   "cell_type": "code",
   "execution_count": 198,
   "metadata": {},
   "outputs": [],
   "source": [
    "class3 = Sequential()\n",
    "class3.add(Dense(units=20,kernel_initializer= 'uniform',activation=\"relu\", input_shape=(X_train.shape[1],)))\n",
    "class3.add(Dropout(rate=0.2))\n",
    "class3.add(Dense(units=9,kernel_initializer= 'uniform',activation=\"relu\"))\n",
    "class3.add(Dropout(rate=0.2))\n",
    "class3.add(Dense(units=3,kernel_initializer= 'uniform',activation=\"softmax\"))\n",
    "\n"
   ]
  },
  {
   "cell_type": "code",
   "execution_count": 199,
   "metadata": {},
   "outputs": [],
   "source": [
    "dsct = SGD(lr=0.01,decay=1e-6, momentum=0.9,nesterov=True)\n",
    "class3.compile(loss='categorical_crossentropy',optimizer=dsct, metrics=[\"accuracy\"])"
   ]
  },
  {
   "cell_type": "code",
   "execution_count": 200,
   "metadata": {},
   "outputs": [
    {
     "name": "stdout",
     "output_type": "stream",
     "text": [
      "Epoch 1/200\n",
      "350/350 [==============================] - 2s 5ms/step - loss: 1.0987 - acc: 0.3486\n",
      "Epoch 2/200\n",
      "350/350 [==============================] - 0s 238us/step - loss: 1.0967 - acc: 0.3771\n",
      "Epoch 3/200\n",
      "350/350 [==============================] - 0s 268us/step - loss: 1.0954 - acc: 0.3771\n",
      "Epoch 4/200\n",
      "350/350 [==============================] - 0s 331us/step - loss: 1.0934 - acc: 0.3771\n",
      "Epoch 5/200\n",
      "350/350 [==============================] - 0s 261us/step - loss: 1.0930 - acc: 0.3771\n",
      "Epoch 6/200\n",
      "350/350 [==============================] - 0s 264us/step - loss: 1.0938 - acc: 0.3771\n",
      "Epoch 7/200\n",
      "350/350 [==============================] - 0s 161us/step - loss: 1.0908 - acc: 0.3771\n",
      "Epoch 8/200\n",
      "350/350 [==============================] - 0s 285us/step - loss: 1.0891 - acc: 0.3857\n",
      "Epoch 9/200\n",
      "350/350 [==============================] - 0s 285us/step - loss: 1.0847 - acc: 0.4000\n",
      "Epoch 10/200\n",
      "350/350 [==============================] - 0s 220us/step - loss: 1.0738 - acc: 0.4171\n",
      "Epoch 11/200\n",
      "350/350 [==============================] - 0s 206us/step - loss: 1.0574 - acc: 0.4314\n",
      "Epoch 12/200\n",
      "350/350 [==============================] - 0s 233us/step - loss: 1.0340 - acc: 0.4229\n",
      "Epoch 13/200\n",
      "350/350 [==============================] - 0s 234us/step - loss: 0.9968 - acc: 0.4543\n",
      "Epoch 14/200\n",
      "350/350 [==============================] - 0s 288us/step - loss: 1.0270 - acc: 0.4629\n",
      "Epoch 15/200\n",
      "350/350 [==============================] - 0s 241us/step - loss: 0.9570 - acc: 0.5057\n",
      "Epoch 16/200\n",
      "350/350 [==============================] - 0s 212us/step - loss: 0.9297 - acc: 0.4886\n",
      "Epoch 17/200\n",
      "350/350 [==============================] - 0s 232us/step - loss: 0.9610 - acc: 0.5000\n",
      "Epoch 18/200\n",
      "350/350 [==============================] - 0s 239us/step - loss: 0.9765 - acc: 0.5143\n",
      "Epoch 19/200\n",
      "350/350 [==============================] - 0s 208us/step - loss: 0.8953 - acc: 0.5229\n",
      "Epoch 20/200\n",
      "350/350 [==============================] - 0s 257us/step - loss: 0.9752 - acc: 0.4971\n",
      "Epoch 21/200\n",
      "350/350 [==============================] - 0s 234us/step - loss: 0.9292 - acc: 0.5171\n",
      "Epoch 22/200\n",
      "350/350 [==============================] - 0s 231us/step - loss: 0.9330 - acc: 0.5171\n",
      "Epoch 23/200\n",
      "350/350 [==============================] - 0s 271us/step - loss: 0.8871 - acc: 0.5486\n",
      "Epoch 24/200\n",
      "350/350 [==============================] - 0s 234us/step - loss: 0.9559 - acc: 0.5314\n",
      "Epoch 25/200\n",
      "350/350 [==============================] - 0s 227us/step - loss: 0.8811 - acc: 0.5457\n",
      "Epoch 26/200\n",
      "350/350 [==============================] - 0s 248us/step - loss: 0.8929 - acc: 0.5486\n",
      "Epoch 27/200\n",
      "350/350 [==============================] - 0s 217us/step - loss: 0.9189 - acc: 0.5514\n",
      "Epoch 28/200\n",
      "350/350 [==============================] - 0s 226us/step - loss: 0.8441 - acc: 0.5829\n",
      "Epoch 29/200\n",
      "350/350 [==============================] - 0s 233us/step - loss: 0.8649 - acc: 0.5686\n",
      "Epoch 30/200\n",
      "350/350 [==============================] - 0s 262us/step - loss: 0.9319 - acc: 0.5657\n",
      "Epoch 31/200\n",
      "350/350 [==============================] - 0s 259us/step - loss: 0.9636 - acc: 0.5457\n",
      "Epoch 32/200\n",
      "350/350 [==============================] - 0s 241us/step - loss: 0.9381 - acc: 0.5743\n",
      "Epoch 33/200\n",
      "350/350 [==============================] - 0s 225us/step - loss: 0.9582 - acc: 0.5686\n",
      "Epoch 34/200\n",
      "350/350 [==============================] - 0s 231us/step - loss: 0.9573 - acc: 0.5514\n",
      "Epoch 35/200\n",
      "350/350 [==============================] - 0s 218us/step - loss: 0.9556 - acc: 0.5286\n",
      "Epoch 36/200\n",
      "350/350 [==============================] - 0s 192us/step - loss: 1.0107 - acc: 0.4800\n",
      "Epoch 37/200\n",
      "350/350 [==============================] - 0s 302us/step - loss: 0.9449 - acc: 0.5314\n",
      "Epoch 38/200\n",
      "350/350 [==============================] - 0s 271us/step - loss: 0.9398 - acc: 0.5257\n",
      "Epoch 39/200\n",
      "350/350 [==============================] - 0s 203us/step - loss: 0.9661 - acc: 0.5400\n",
      "Epoch 40/200\n",
      "350/350 [==============================] - 0s 222us/step - loss: 0.9059 - acc: 0.5543\n",
      "Epoch 41/200\n",
      "350/350 [==============================] - 0s 209us/step - loss: 0.9394 - acc: 0.5486\n",
      "Epoch 42/200\n",
      "350/350 [==============================] - 0s 231us/step - loss: 1.0151 - acc: 0.4857\n",
      "Epoch 43/200\n",
      "350/350 [==============================] - 0s 229us/step - loss: 0.9981 - acc: 0.4886\n",
      "Epoch 44/200\n",
      "350/350 [==============================] - 0s 207us/step - loss: 0.9239 - acc: 0.5457\n",
      "Epoch 45/200\n",
      "350/350 [==============================] - 0s 245us/step - loss: 0.9362 - acc: 0.5457\n",
      "Epoch 46/200\n",
      "350/350 [==============================] - 0s 242us/step - loss: 0.9749 - acc: 0.5229\n",
      "Epoch 47/200\n",
      "350/350 [==============================] - 0s 238us/step - loss: 0.9300 - acc: 0.5486\n",
      "Epoch 48/200\n",
      "350/350 [==============================] - 0s 224us/step - loss: 0.9820 - acc: 0.5086\n",
      "Epoch 49/200\n",
      "350/350 [==============================] - 0s 248us/step - loss: 0.9032 - acc: 0.5600\n",
      "Epoch 50/200\n",
      "350/350 [==============================] - 0s 296us/step - loss: 0.9091 - acc: 0.5286\n",
      "Epoch 51/200\n",
      "350/350 [==============================] - 0s 203us/step - loss: 0.9201 - acc: 0.5400\n",
      "Epoch 52/200\n",
      "350/350 [==============================] - 0s 243us/step - loss: 0.9291 - acc: 0.5457\n",
      "Epoch 53/200\n",
      "350/350 [==============================] - 0s 201us/step - loss: 0.9028 - acc: 0.5686\n",
      "Epoch 54/200\n",
      "350/350 [==============================] - 0s 232us/step - loss: 0.9223 - acc: 0.5486\n",
      "Epoch 55/200\n",
      "350/350 [==============================] - 0s 205us/step - loss: 0.9433 - acc: 0.5314\n",
      "Epoch 56/200\n",
      "350/350 [==============================] - 0s 240us/step - loss: 0.9461 - acc: 0.5486\n",
      "Epoch 57/200\n",
      "350/350 [==============================] - 0s 224us/step - loss: 0.8886 - acc: 0.5800\n",
      "Epoch 58/200\n",
      "350/350 [==============================] - 0s 205us/step - loss: 0.9058 - acc: 0.5429\n",
      "Epoch 59/200\n",
      "350/350 [==============================] - 0s 251us/step - loss: 0.9456 - acc: 0.5314\n",
      "Epoch 60/200\n",
      "350/350 [==============================] - 0s 255us/step - loss: 0.9391 - acc: 0.5400\n",
      "Epoch 61/200\n",
      "350/350 [==============================] - 0s 270us/step - loss: 0.8599 - acc: 0.5800\n",
      "Epoch 62/200\n",
      "350/350 [==============================] - 0s 240us/step - loss: 0.9952 - acc: 0.5429\n",
      "Epoch 63/200\n",
      "350/350 [==============================] - 0s 237us/step - loss: 1.1318 - acc: 0.4143\n",
      "Epoch 64/200\n",
      "350/350 [==============================] - 0s 244us/step - loss: 1.1301 - acc: 0.3771\n",
      "Epoch 65/200\n",
      "350/350 [==============================] - 0s 245us/step - loss: 1.0977 - acc: 0.3771\n",
      "Epoch 66/200\n",
      "350/350 [==============================] - 0s 223us/step - loss: 1.0941 - acc: 0.3771\n",
      "Epoch 67/200\n",
      "350/350 [==============================] - 0s 239us/step - loss: 1.0944 - acc: 0.3800\n",
      "Epoch 68/200\n",
      "350/350 [==============================] - 0s 246us/step - loss: 1.0921 - acc: 0.3771\n",
      "Epoch 69/200\n",
      "350/350 [==============================] - 0s 271us/step - loss: 1.0961 - acc: 0.3800\n",
      "Epoch 70/200\n",
      "350/350 [==============================] - 0s 246us/step - loss: 1.0934 - acc: 0.3686\n",
      "Epoch 71/200\n",
      "350/350 [==============================] - 0s 253us/step - loss: 1.0966 - acc: 0.3629\n",
      "Epoch 72/200\n",
      "350/350 [==============================] - 0s 247us/step - loss: 1.0936 - acc: 0.3771\n",
      "Epoch 73/200\n",
      "350/350 [==============================] - 0s 253us/step - loss: 1.0965 - acc: 0.3771\n",
      "Epoch 74/200\n",
      "350/350 [==============================] - 0s 274us/step - loss: 1.0947 - acc: 0.3743\n",
      "Epoch 75/200\n",
      "350/350 [==============================] - 0s 256us/step - loss: 1.0957 - acc: 0.3714\n",
      "Epoch 76/200\n",
      "350/350 [==============================] - 0s 248us/step - loss: 1.0996 - acc: 0.3771\n",
      "Epoch 77/200\n",
      "350/350 [==============================] - 0s 256us/step - loss: 1.0947 - acc: 0.3829\n",
      "Epoch 78/200\n",
      "350/350 [==============================] - 0s 265us/step - loss: 1.0976 - acc: 0.3743\n",
      "Epoch 79/200\n",
      "350/350 [==============================] - 0s 258us/step - loss: 1.0938 - acc: 0.3771\n",
      "Epoch 80/200\n",
      "350/350 [==============================] - 0s 247us/step - loss: 1.0961 - acc: 0.3771\n",
      "Epoch 81/200\n",
      "350/350 [==============================] - 0s 245us/step - loss: 1.0961 - acc: 0.3771\n",
      "Epoch 82/200\n",
      "350/350 [==============================] - 0s 237us/step - loss: 1.0950 - acc: 0.3771\n",
      "Epoch 83/200\n"
     ]
    },
    {
     "name": "stdout",
     "output_type": "stream",
     "text": [
      "350/350 [==============================] - 0s 241us/step - loss: 1.0931 - acc: 0.3771\n",
      "Epoch 84/200\n",
      "350/350 [==============================] - 0s 245us/step - loss: 1.0954 - acc: 0.3771\n",
      "Epoch 85/200\n",
      "350/350 [==============================] - 0s 334us/step - loss: 1.0945 - acc: 0.3771\n",
      "Epoch 86/200\n",
      "350/350 [==============================] - 0s 283us/step - loss: 1.0963 - acc: 0.3771\n",
      "Epoch 87/200\n",
      "350/350 [==============================] - 0s 288us/step - loss: 1.0950 - acc: 0.3771\n",
      "Epoch 88/200\n",
      "350/350 [==============================] - 0s 270us/step - loss: 1.0940 - acc: 0.3771\n",
      "Epoch 89/200\n",
      "350/350 [==============================] - 0s 295us/step - loss: 1.0948 - acc: 0.3771\n",
      "Epoch 90/200\n",
      "350/350 [==============================] - 0s 290us/step - loss: 1.0954 - acc: 0.3771\n",
      "Epoch 91/200\n",
      "350/350 [==============================] - 0s 264us/step - loss: 1.0931 - acc: 0.3771\n",
      "Epoch 92/200\n",
      "350/350 [==============================] - 0s 245us/step - loss: 1.0934 - acc: 0.3771\n",
      "Epoch 93/200\n",
      "350/350 [==============================] - 0s 289us/step - loss: 1.0941 - acc: 0.3771\n",
      "Epoch 94/200\n",
      "350/350 [==============================] - 0s 348us/step - loss: 1.0964 - acc: 0.3771\n",
      "Epoch 95/200\n",
      "350/350 [==============================] - 0s 235us/step - loss: 1.0937 - acc: 0.3771\n",
      "Epoch 96/200\n",
      "350/350 [==============================] - 0s 224us/step - loss: 1.0959 - acc: 0.3771\n",
      "Epoch 97/200\n",
      "350/350 [==============================] - 0s 258us/step - loss: 1.0932 - acc: 0.3771\n",
      "Epoch 98/200\n",
      "350/350 [==============================] - 0s 272us/step - loss: 1.0950 - acc: 0.3771\n",
      "Epoch 99/200\n",
      "350/350 [==============================] - 0s 271us/step - loss: 1.0955 - acc: 0.3771\n",
      "Epoch 100/200\n",
      "350/350 [==============================] - 0s 293us/step - loss: 1.0962 - acc: 0.3771\n",
      "Epoch 101/200\n",
      "350/350 [==============================] - 0s 322us/step - loss: 1.0948 - acc: 0.3771\n",
      "Epoch 102/200\n",
      "350/350 [==============================] - 0s 331us/step - loss: 1.0958 - acc: 0.3771\n",
      "Epoch 103/200\n",
      "350/350 [==============================] - 0s 236us/step - loss: 1.0957 - acc: 0.3771\n",
      "Epoch 104/200\n",
      "350/350 [==============================] - 0s 232us/step - loss: 1.0943 - acc: 0.3771\n",
      "Epoch 105/200\n",
      "350/350 [==============================] - 0s 293us/step - loss: 1.0945 - acc: 0.3771\n",
      "Epoch 106/200\n",
      "350/350 [==============================] - 0s 259us/step - loss: 1.0972 - acc: 0.3771\n",
      "Epoch 107/200\n",
      "350/350 [==============================] - 0s 357us/step - loss: 1.0937 - acc: 0.3771\n",
      "Epoch 108/200\n",
      "350/350 [==============================] - ETA: 0s - loss: 1.0979 - acc: 0.361 - 0s 328us/step - loss: 1.0953 - acc: 0.3771\n",
      "Epoch 109/200\n",
      "350/350 [==============================] - 0s 266us/step - loss: 1.0967 - acc: 0.3771\n",
      "Epoch 110/200\n",
      "350/350 [==============================] - 0s 245us/step - loss: 1.0939 - acc: 0.3771\n",
      "Epoch 111/200\n",
      "350/350 [==============================] - 0s 236us/step - loss: 1.0936 - acc: 0.3771\n",
      "Epoch 112/200\n",
      "350/350 [==============================] - 0s 255us/step - loss: 1.0947 - acc: 0.3771\n",
      "Epoch 113/200\n",
      "350/350 [==============================] - 0s 249us/step - loss: 1.0953 - acc: 0.3771\n",
      "Epoch 114/200\n",
      "350/350 [==============================] - 0s 286us/step - loss: 1.0962 - acc: 0.3771\n",
      "Epoch 115/200\n",
      "350/350 [==============================] - 0s 300us/step - loss: 1.0947 - acc: 0.3771\n",
      "Epoch 116/200\n",
      "350/350 [==============================] - 0s 271us/step - loss: 1.0958 - acc: 0.3771\n",
      "Epoch 117/200\n",
      "350/350 [==============================] - 0s 279us/step - loss: 1.0956 - acc: 0.3771\n",
      "Epoch 118/200\n",
      "350/350 [==============================] - 0s 281us/step - loss: 1.0966 - acc: 0.3771\n",
      "Epoch 119/200\n",
      "350/350 [==============================] - 0s 250us/step - loss: 1.0955 - acc: 0.3771\n",
      "Epoch 120/200\n",
      "350/350 [==============================] - 0s 264us/step - loss: 1.0952 - acc: 0.3771\n",
      "Epoch 121/200\n",
      "350/350 [==============================] - 0s 212us/step - loss: 1.0955 - acc: 0.3771\n",
      "Epoch 122/200\n",
      "350/350 [==============================] - 0s 242us/step - loss: 1.0953 - acc: 0.3771\n",
      "Epoch 123/200\n",
      "350/350 [==============================] - 0s 299us/step - loss: 1.0957 - acc: 0.3771\n",
      "Epoch 124/200\n",
      "350/350 [==============================] - 0s 303us/step - loss: 1.0950 - acc: 0.3771\n",
      "Epoch 125/200\n",
      "350/350 [==============================] - 0s 271us/step - loss: 1.0947 - acc: 0.3771\n",
      "Epoch 126/200\n",
      "350/350 [==============================] - 0s 304us/step - loss: 1.0948 - acc: 0.3771\n",
      "Epoch 127/200\n",
      "350/350 [==============================] - 0s 293us/step - loss: 1.0945 - acc: 0.3771\n",
      "Epoch 128/200\n",
      "350/350 [==============================] - 0s 310us/step - loss: 1.0946 - acc: 0.3771\n",
      "Epoch 129/200\n",
      "350/350 [==============================] - 0s 298us/step - loss: 1.0946 - acc: 0.3771\n",
      "Epoch 130/200\n",
      "350/350 [==============================] - 0s 322us/step - loss: 1.0943 - acc: 0.3771\n",
      "Epoch 131/200\n",
      "350/350 [==============================] - 0s 343us/step - loss: 1.0957 - acc: 0.3771\n",
      "Epoch 132/200\n",
      "350/350 [==============================] - 0s 288us/step - loss: 1.0947 - acc: 0.3771 0s - loss: 1.0930 - acc: 0.386\n",
      "Epoch 133/200\n",
      "350/350 [==============================] - 0s 246us/step - loss: 1.0951 - acc: 0.3771\n",
      "Epoch 134/200\n",
      "350/350 [==============================] - 0s 224us/step - loss: 1.0953 - acc: 0.3771\n",
      "Epoch 135/200\n",
      "350/350 [==============================] - 0s 247us/step - loss: 1.0952 - acc: 0.3771\n",
      "Epoch 136/200\n",
      "350/350 [==============================] - 0s 242us/step - loss: 1.0946 - acc: 0.3771\n",
      "Epoch 137/200\n",
      "350/350 [==============================] - 0s 256us/step - loss: 1.0950 - acc: 0.3771\n",
      "Epoch 138/200\n",
      "350/350 [==============================] - 0s 280us/step - loss: 1.0953 - acc: 0.3771\n",
      "Epoch 139/200\n",
      "350/350 [==============================] - 0s 229us/step - loss: 1.0948 - acc: 0.3771\n",
      "Epoch 140/200\n",
      "350/350 [==============================] - 0s 268us/step - loss: 1.0950 - acc: 0.3771\n",
      "Epoch 141/200\n",
      "350/350 [==============================] - 0s 270us/step - loss: 1.0952 - acc: 0.3771\n",
      "Epoch 142/200\n",
      "350/350 [==============================] - 0s 296us/step - loss: 1.0947 - acc: 0.3771\n",
      "Epoch 143/200\n",
      "350/350 [==============================] - 0s 301us/step - loss: 1.0949 - acc: 0.3771\n",
      "Epoch 144/200\n",
      "350/350 [==============================] - 0s 226us/step - loss: 1.0950 - acc: 0.3771\n",
      "Epoch 145/200\n",
      "350/350 [==============================] - 0s 232us/step - loss: 1.0950 - acc: 0.3771\n",
      "Epoch 146/200\n",
      "350/350 [==============================] - 0s 222us/step - loss: 1.0946 - acc: 0.3771\n",
      "Epoch 147/200\n",
      "350/350 [==============================] - 0s 244us/step - loss: 1.0951 - acc: 0.3771\n",
      "Epoch 148/200\n",
      "350/350 [==============================] - 0s 253us/step - loss: 1.0950 - acc: 0.3771\n",
      "Epoch 149/200\n",
      "350/350 [==============================] - 0s 258us/step - loss: 1.0948 - acc: 0.3771\n",
      "Epoch 150/200\n",
      "350/350 [==============================] - 0s 252us/step - loss: 1.0947 - acc: 0.3771\n",
      "Epoch 151/200\n",
      "350/350 [==============================] - 0s 248us/step - loss: 1.0942 - acc: 0.3771\n",
      "Epoch 152/200\n",
      "350/350 [==============================] - 0s 244us/step - loss: 1.0947 - acc: 0.3771\n",
      "Epoch 153/200\n",
      "350/350 [==============================] - 0s 246us/step - loss: 1.0944 - acc: 0.3771\n",
      "Epoch 154/200\n",
      "350/350 [==============================] - 0s 244us/step - loss: 1.0950 - acc: 0.3771\n",
      "Epoch 155/200\n",
      "350/350 [==============================] - 0s 235us/step - loss: 1.0946 - acc: 0.3771\n",
      "Epoch 156/200\n",
      "350/350 [==============================] - 0s 240us/step - loss: 1.0949 - acc: 0.3771\n",
      "Epoch 157/200\n",
      "350/350 [==============================] - 0s 240us/step - loss: 1.0947 - acc: 0.3771\n",
      "Epoch 158/200\n",
      "350/350 [==============================] - 0s 251us/step - loss: 1.0948 - acc: 0.3771\n",
      "Epoch 159/200\n",
      "350/350 [==============================] - 0s 242us/step - loss: 1.0946 - acc: 0.3771\n",
      "Epoch 160/200\n",
      "350/350 [==============================] - 0s 227us/step - loss: 1.0946 - acc: 0.3771\n",
      "Epoch 161/200\n",
      "350/350 [==============================] - 0s 234us/step - loss: 1.0948 - acc: 0.3771\n",
      "Epoch 162/200\n",
      "350/350 [==============================] - 0s 250us/step - loss: 1.0948 - acc: 0.3771\n",
      "Epoch 163/200\n",
      "350/350 [==============================] - 0s 257us/step - loss: 1.0947 - acc: 0.3771\n",
      "Epoch 164/200\n"
     ]
    },
    {
     "name": "stdout",
     "output_type": "stream",
     "text": [
      "350/350 [==============================] - 0s 245us/step - loss: 1.0948 - acc: 0.3771\n",
      "Epoch 165/200\n",
      "350/350 [==============================] - 0s 237us/step - loss: 1.0948 - acc: 0.3771\n",
      "Epoch 166/200\n",
      "350/350 [==============================] - 0s 244us/step - loss: 1.0950 - acc: 0.3771\n",
      "Epoch 167/200\n",
      "350/350 [==============================] - 0s 303us/step - loss: 1.0943 - acc: 0.3771\n",
      "Epoch 168/200\n",
      "350/350 [==============================] - 0s 262us/step - loss: 1.0947 - acc: 0.3771 0s - loss: 1.0948 - acc: 0.378\n",
      "Epoch 169/200\n",
      "350/350 [==============================] - 0s 284us/step - loss: 1.0952 - acc: 0.3771\n",
      "Epoch 170/200\n",
      "350/350 [==============================] - 0s 266us/step - loss: 1.0944 - acc: 0.3771\n",
      "Epoch 171/200\n",
      "350/350 [==============================] - 0s 251us/step - loss: 1.0947 - acc: 0.3771\n",
      "Epoch 172/200\n",
      "350/350 [==============================] - 0s 242us/step - loss: 1.0946 - acc: 0.3771\n",
      "Epoch 173/200\n",
      "350/350 [==============================] - 0s 254us/step - loss: 1.0948 - acc: 0.3771\n",
      "Epoch 174/200\n",
      "350/350 [==============================] - 0s 271us/step - loss: 1.0952 - acc: 0.3771\n",
      "Epoch 175/200\n",
      "350/350 [==============================] - 0s 266us/step - loss: 1.0947 - acc: 0.3771\n",
      "Epoch 176/200\n",
      "350/350 [==============================] - 0s 252us/step - loss: 1.0946 - acc: 0.3771\n",
      "Epoch 177/200\n",
      "350/350 [==============================] - 0s 254us/step - loss: 1.0943 - acc: 0.3771\n",
      "Epoch 178/200\n",
      "350/350 [==============================] - 0s 244us/step - loss: 1.0945 - acc: 0.3771\n",
      "Epoch 179/200\n",
      "350/350 [==============================] - 0s 253us/step - loss: 1.0949 - acc: 0.3771\n",
      "Epoch 180/200\n",
      "350/350 [==============================] - 0s 268us/step - loss: 1.0948 - acc: 0.3771\n",
      "Epoch 181/200\n",
      "350/350 [==============================] - 0s 250us/step - loss: 1.0945 - acc: 0.3771\n",
      "Epoch 182/200\n",
      "350/350 [==============================] - 0s 241us/step - loss: 1.0947 - acc: 0.3771\n",
      "Epoch 183/200\n",
      "350/350 [==============================] - 0s 267us/step - loss: 1.0956 - acc: 0.3771\n",
      "Epoch 184/200\n",
      "350/350 [==============================] - 0s 242us/step - loss: 1.0952 - acc: 0.3771\n",
      "Epoch 185/200\n",
      "350/350 [==============================] - 0s 270us/step - loss: 1.0941 - acc: 0.3771\n",
      "Epoch 186/200\n",
      "350/350 [==============================] - 0s 246us/step - loss: 1.0945 - acc: 0.3771\n",
      "Epoch 187/200\n",
      "350/350 [==============================] - 0s 224us/step - loss: 1.0951 - acc: 0.3771\n",
      "Epoch 188/200\n",
      "350/350 [==============================] - 0s 256us/step - loss: 1.0949 - acc: 0.3771\n",
      "Epoch 189/200\n",
      "350/350 [==============================] - 0s 229us/step - loss: 1.0949 - acc: 0.3771\n",
      "Epoch 190/200\n",
      "350/350 [==============================] - 0s 244us/step - loss: 1.0947 - acc: 0.3771\n",
      "Epoch 191/200\n",
      "350/350 [==============================] - 0s 235us/step - loss: 1.0947 - acc: 0.3771\n",
      "Epoch 192/200\n",
      "350/350 [==============================] - 0s 241us/step - loss: 1.0953 - acc: 0.3771\n",
      "Epoch 193/200\n",
      "350/350 [==============================] - 0s 255us/step - loss: 1.0948 - acc: 0.3771\n",
      "Epoch 194/200\n",
      "350/350 [==============================] - 0s 264us/step - loss: 1.0951 - acc: 0.3771\n",
      "Epoch 195/200\n",
      "350/350 [==============================] - 0s 269us/step - loss: 1.0948 - acc: 0.3771\n",
      "Epoch 196/200\n",
      "350/350 [==============================] - 0s 232us/step - loss: 1.0947 - acc: 0.3771\n",
      "Epoch 197/200\n",
      "350/350 [==============================] - 0s 237us/step - loss: 1.0951 - acc: 0.3771\n",
      "Epoch 198/200\n",
      "350/350 [==============================] - 0s 301us/step - loss: 1.0949 - acc: 0.3771\n",
      "Epoch 199/200\n",
      "350/350 [==============================] - 0s 264us/step - loss: 1.0945 - acc: 0.3771\n",
      "Epoch 200/200\n",
      "350/350 [==============================] - 0s 253us/step - loss: 1.0949 - acc: 0.3771\n"
     ]
    },
    {
     "data": {
      "text/plain": [
       "<keras.callbacks.History at 0x1de86150588>"
      ]
     },
     "execution_count": 200,
     "metadata": {},
     "output_type": "execute_result"
    }
   ],
   "source": [
    "class3.fit(X_train2, Y_trainc2, epochs=200, batch_size=32)"
   ]
  },
  {
   "cell_type": "code",
   "execution_count": 203,
   "metadata": {},
   "outputs": [
    {
     "name": "stdout",
     "output_type": "stream",
     "text": [
      "Creating data:\n",
      "0\n",
      "10\n",
      "20\n",
      "30\n",
      "40\n",
      "50\n",
      "60\n",
      "70\n",
      "80\n",
      "90\n",
      "100\n",
      "110\n",
      "120\n",
      "130\n",
      "140\n",
      "150\n",
      "160\n",
      "170\n",
      "180\n",
      "190\n",
      "200\n",
      "210\n",
      "220\n",
      "230\n",
      "240\n",
      "250\n",
      "260\n",
      "270\n",
      "280\n",
      "290\n"
     ]
    }
   ],
   "source": [
    "[X_test2, Y_test2] = m_test_class()"
   ]
  },
  {
   "cell_type": "code",
   "execution_count": 204,
   "metadata": {},
   "outputs": [
    {
     "name": "stdout",
     "output_type": "stream",
     "text": [
      "300/300 [==============================] - 1s 2ms/step\n"
     ]
    },
    {
     "data": {
      "text/plain": [
       "[1.1016711044311522, 0.336666667064031]"
      ]
     },
     "execution_count": 204,
     "metadata": {},
     "output_type": "execute_result"
    }
   ],
   "source": [
    "#Evaluate model \n",
    "class3.evaluate(X_test2, Y_test2)"
   ]
  },
  {
   "cell_type": "code",
   "execution_count": 205,
   "metadata": {},
   "outputs": [],
   "source": [
    "#Reshape X_train \n",
    "X_train2 = X_train2.reshape(X_train2.shape[0],72,72,1)"
   ]
  },
  {
   "cell_type": "code",
   "execution_count": 206,
   "metadata": {},
   "outputs": [],
   "source": [
    "from keras.layers import MaxPooling2D\n",
    "from keras.layers import Conv2D\n",
    "from keras.layers import Flatten"
   ]
  },
  {
   "cell_type": "code",
   "execution_count": 207,
   "metadata": {},
   "outputs": [],
   "source": [
    "#Convolutional model\n",
    "class4 = Sequential()\n",
    "class4.add(Conv2D(16, kernel_size=(5, 5), activation='relu', input_shape=(72,72,1)))\n",
    "class4.add(MaxPooling2D(pool_size=(2, 2)))\n",
    "class4.add(Flatten())\n",
    "class4.add(Dense(70, activation='relu'))\n",
    "class4.add(Dense(3, activation='sigmoid'))"
   ]
  },
  {
   "cell_type": "code",
   "execution_count": 208,
   "metadata": {},
   "outputs": [],
   "source": [
    "# using cross entropy for classification problem "
   ]
  },
  {
   "cell_type": "code",
   "execution_count": 209,
   "metadata": {},
   "outputs": [],
   "source": [
    "class4.compile(loss='categorical_crossentropy',optimizer=sgd, metrics=[\"accuracy\"])"
   ]
  },
  {
   "cell_type": "code",
   "execution_count": 210,
   "metadata": {},
   "outputs": [
    {
     "name": "stdout",
     "output_type": "stream",
     "text": [
      "Epoch 1/15\n",
      "350/350 [==============================] - 4s 13ms/step - loss: 1.0920 - acc: 0.3771\n",
      "Epoch 2/15\n",
      "350/350 [==============================] - 3s 8ms/step - loss: 1.0519 - acc: 0.4600\n",
      "Epoch 3/15\n",
      "350/350 [==============================] - 3s 8ms/step - loss: 0.9388 - acc: 0.5886\n",
      "Epoch 4/15\n",
      "350/350 [==============================] - 3s 8ms/step - loss: 0.7826 - acc: 0.6800\n",
      "Epoch 5/15\n",
      "350/350 [==============================] - 3s 7ms/step - loss: 0.5967 - acc: 0.8000\n",
      "Epoch 6/15\n",
      "350/350 [==============================] - 3s 7ms/step - loss: 0.5455 - acc: 0.8343\n",
      "Epoch 7/15\n",
      "350/350 [==============================] - 3s 8ms/step - loss: 0.4157 - acc: 0.8543\n",
      "Epoch 8/15\n",
      "350/350 [==============================] - 3s 8ms/step - loss: 0.3037 - acc: 0.8914\n",
      "Epoch 9/15\n",
      "350/350 [==============================] - 3s 8ms/step - loss: 0.1880 - acc: 0.9400A: 2s \n",
      "Epoch 10/15\n",
      "350/350 [==============================] - 3s 8ms/step - loss: 0.1092 - acc: 0.9771\n",
      "Epoch 11/15\n",
      "350/350 [==============================] - 3s 7ms/step - loss: 0.0890 - acc: 0.9771\n",
      "Epoch 12/15\n",
      "350/350 [==============================] - 3s 8ms/step - loss: 0.0436 - acc: 0.9914\n",
      "Epoch 13/15\n",
      "350/350 [==============================] - 3s 8ms/step - loss: 0.0223 - acc: 0.9943\n",
      "Epoch 14/15\n",
      "350/350 [==============================] - 3s 8ms/step - loss: 0.0135 - acc: 0.9971A: 0s - loss: 0.0107 - acc: 1.00\n",
      "Epoch 15/15\n",
      "350/350 [==============================] - 3s 8ms/step - loss: 0.0181 - acc: 0.9971\n"
     ]
    },
    {
     "data": {
      "text/plain": [
       "<keras.callbacks.History at 0x1ded5fcc240>"
      ]
     },
     "execution_count": 210,
     "metadata": {},
     "output_type": "execute_result"
    }
   ],
   "source": [
    "class4.fit(X_train2, Y_trainc2, batch_size=10, epochs=15)"
   ]
  },
  {
   "cell_type": "code",
   "execution_count": 211,
   "metadata": {},
   "outputs": [
    {
     "name": "stdout",
     "output_type": "stream",
     "text": [
      "Creating data:\n",
      "0\n",
      "10\n",
      "20\n",
      "30\n",
      "40\n",
      "50\n",
      "60\n",
      "70\n",
      "80\n",
      "90\n",
      "100\n",
      "110\n",
      "120\n",
      "130\n",
      "140\n",
      "150\n",
      "160\n",
      "170\n",
      "180\n",
      "190\n",
      "200\n",
      "210\n",
      "220\n",
      "230\n",
      "240\n",
      "250\n",
      "260\n",
      "270\n",
      "280\n",
      "290\n"
     ]
    }
   ],
   "source": [
    "[X_test2, Y_test2] = m_test_class()"
   ]
  },
  {
   "cell_type": "code",
   "execution_count": 212,
   "metadata": {},
   "outputs": [
    {
     "name": "stdout",
     "output_type": "stream",
     "text": [
      "350/350 [==============================] - 2s 6ms/step\n"
     ]
    },
    {
     "data": {
      "text/plain": [
       "[0.012961714629616056, 0.9971428547586714]"
      ]
     },
     "execution_count": 212,
     "metadata": {},
     "output_type": "execute_result"
    }
   ],
   "source": [
    "class4.evaluate(X_train2, Y_trainc2)"
   ]
  },
  {
   "cell_type": "code",
   "execution_count": 213,
   "metadata": {},
   "outputs": [
    {
     "data": {
      "text/plain": [
       "['loss', 'acc']"
      ]
     },
     "execution_count": 213,
     "metadata": {},
     "output_type": "execute_result"
    }
   ],
   "source": [
    "class4.metrics_names"
   ]
  },
  {
   "cell_type": "markdown",
   "metadata": {},
   "source": [
    "# Regression "
   ]
  },
  {
   "cell_type": "markdown",
   "metadata": {},
   "source": [
    "####  Predict image locations of  vertices of  triangle"
   ]
  },
  {
   "cell_type": "markdown",
   "metadata": {},
   "source": [
    "Training set: "
   ]
  },
  {
   "cell_type": "code",
   "execution_count": 241,
   "metadata": {},
   "outputs": [
    {
     "name": "stdout",
     "output_type": "stream",
     "text": [
      "Creating data:\n",
      "0\n",
      "10\n",
      "20\n",
      "30\n",
      "40\n",
      "50\n",
      "60\n",
      "70\n",
      "80\n",
      "90\n",
      "100\n",
      "110\n",
      "120\n",
      "130\n",
      "140\n",
      "150\n",
      "160\n",
      "170\n",
      "180\n",
      "190\n",
      "200\n",
      "210\n",
      "220\n",
      "230\n",
      "240\n"
     ]
    }
   ],
   "source": [
    "[X_train, Y_train] = m_dta_regr(250, 20)"
   ]
  },
  {
   "cell_type": "code",
   "execution_count": 242,
   "metadata": {},
   "outputs": [
    {
     "data": {
      "image/png": "[encoded data removed]",
      "text/plain": [
       "<Figure size 360x360 with 1 Axes>"
      ]
     },
     "metadata": {
      "needs_background": "light"
     },
     "output_type": "display_data"
    }
   ],
   "source": [
    "visu_pred(X_train[10], Y_train[10])"
   ]
  },
  {
   "cell_type": "code",
   "execution_count": 244,
   "metadata": {},
   "outputs": [
    {
     "name": "stdout",
     "output_type": "stream",
     "text": [
      "Creating data:\n",
      "0\n",
      "10\n",
      "20\n",
      "30\n",
      "40\n",
      "50\n",
      "60\n",
      "70\n",
      "80\n",
      "90\n",
      "100\n",
      "110\n",
      "120\n",
      "130\n",
      "140\n",
      "150\n",
      "160\n",
      "170\n",
      "180\n",
      "190\n",
      "200\n",
      "210\n",
      "220\n",
      "230\n",
      "240\n"
     ]
    }
   ],
   "source": [
    "[X_vali, Y_vali] = m_dta_regr(250, 20)"
   ]
  },
  {
   "cell_type": "code",
   "execution_count": 245,
   "metadata": {},
   "outputs": [],
   "source": [
    "regr = Sequential()"
   ]
  },
  {
   "cell_type": "code",
   "execution_count": 246,
   "metadata": {},
   "outputs": [
    {
     "name": "stdout",
     "output_type": "stream",
     "text": [
      "Train on 250 samples, validate on 250 samples\n",
      "Epoch 1/300\n",
      "250/250 [==============================] - 4s 17ms/step - loss: 0.1753 - mean_squared_error: 0.1753 - val_loss: 0.0998 - val_mean_squared_error: 0.0998\n",
      "Epoch 2/300\n",
      "250/250 [==============================] - 0s 1ms/step - loss: 0.1221 - mean_squared_error: 0.1221 - val_loss: 0.1063 - val_mean_squared_error: 0.1063\n",
      "Epoch 3/300\n",
      "250/250 [==============================] - 0s 1ms/step - loss: 0.1089 - mean_squared_error: 0.1089 - val_loss: 0.0943 - val_mean_squared_error: 0.0943\n",
      "Epoch 4/300\n",
      "250/250 [==============================] - 0s 1ms/step - loss: 0.1061 - mean_squared_error: 0.1061 - val_loss: 0.0876 - val_mean_squared_error: 0.0876\n",
      "Epoch 5/300\n",
      "250/250 [==============================] - 0s 1ms/step - loss: 0.0991 - mean_squared_error: 0.0991 - val_loss: 0.0845 - val_mean_squared_error: 0.0845\n",
      "Epoch 6/300\n",
      "250/250 [==============================] - 0s 1ms/step - loss: 0.0986 - mean_squared_error: 0.0986 - val_loss: 0.0861 - val_mean_squared_error: 0.0861\n",
      "Epoch 7/300\n",
      "250/250 [==============================] - 0s 1ms/step - loss: 0.0984 - mean_squared_error: 0.0984 - val_loss: 0.0823 - val_mean_squared_error: 0.0823\n",
      "Epoch 8/300\n",
      "250/250 [==============================] - 0s 1ms/step - loss: 0.0959 - mean_squared_error: 0.0959 - val_loss: 0.0843 - val_mean_squared_error: 0.0843\n",
      "Epoch 9/300\n",
      "250/250 [==============================] - 0s 1ms/step - loss: 0.0941 - mean_squared_error: 0.0941 - val_loss: 0.0876 - val_mean_squared_error: 0.0876\n",
      "Epoch 10/300\n",
      "250/250 [==============================] - 0s 1ms/step - loss: 0.0894 - mean_squared_error: 0.0894 - val_loss: 0.0826 - val_mean_squared_error: 0.0826\n",
      "Epoch 11/300\n",
      "250/250 [==============================] - 0s 1ms/step - loss: 0.0894 - mean_squared_error: 0.0894 - val_loss: 0.0791 - val_mean_squared_error: 0.0791\n",
      "Epoch 12/300\n",
      "250/250 [==============================] - 0s 1ms/step - loss: 0.0865 - mean_squared_error: 0.0865 - val_loss: 0.0826 - val_mean_squared_error: 0.0826\n",
      "Epoch 13/300\n",
      "250/250 [==============================] - 0s 1ms/step - loss: 0.0943 - mean_squared_error: 0.0943 - val_loss: 0.0786 - val_mean_squared_error: 0.0786\n",
      "Epoch 14/300\n",
      "250/250 [==============================] - 0s 1ms/step - loss: 0.0897 - mean_squared_error: 0.0897 - val_loss: 0.0847 - val_mean_squared_error: 0.0847\n",
      "Epoch 15/300\n",
      "250/250 [==============================] - 0s 1ms/step - loss: 0.0883 - mean_squared_error: 0.0883 - val_loss: 0.0896 - val_mean_squared_error: 0.0896\n",
      "Epoch 16/300\n",
      "250/250 [==============================] - 0s 1ms/step - loss: 0.0869 - mean_squared_error: 0.0869 - val_loss: 0.0977 - val_mean_squared_error: 0.0977\n",
      "Epoch 17/300\n",
      "250/250 [==============================] - 0s 1ms/step - loss: 0.0867 - mean_squared_error: 0.0867 - val_loss: 0.0949 - val_mean_squared_error: 0.0949\n",
      "Epoch 18/300\n",
      "250/250 [==============================] - 0s 1ms/step - loss: 0.0846 - mean_squared_error: 0.0846 - val_loss: 0.0860 - val_mean_squared_error: 0.0860\n",
      "Epoch 19/300\n",
      "250/250 [==============================] - 0s 1ms/step - loss: 0.0836 - mean_squared_error: 0.0836 - val_loss: 0.0952 - val_mean_squared_error: 0.0952\n",
      "Epoch 20/300\n",
      "250/250 [==============================] - 0s 1ms/step - loss: 0.0825 - mean_squared_error: 0.0825 - val_loss: 0.0944 - val_mean_squared_error: 0.0944\n",
      "Epoch 21/300\n",
      "250/250 [==============================] - 0s 1ms/step - loss: 0.0812 - mean_squared_error: 0.0812 - val_loss: 0.0911 - val_mean_squared_error: 0.0911\n",
      "Epoch 22/300\n",
      "250/250 [==============================] - 0s 1ms/step - loss: 0.0825 - mean_squared_error: 0.0825 - val_loss: 0.0810 - val_mean_squared_error: 0.0810\n",
      "Epoch 23/300\n",
      "250/250 [==============================] - 0s 1ms/step - loss: 0.0879 - mean_squared_error: 0.0879 - val_loss: 0.0853 - val_mean_squared_error: 0.0853\n",
      "Epoch 24/300\n",
      "250/250 [==============================] - 0s 1ms/step - loss: 0.0835 - mean_squared_error: 0.0835 - val_loss: 0.0862 - val_mean_squared_error: 0.0862\n",
      "Epoch 25/300\n",
      "250/250 [==============================] - 0s 1ms/step - loss: 0.0838 - mean_squared_error: 0.0838 - val_loss: 0.0801 - val_mean_squared_error: 0.0801\n",
      "Epoch 26/300\n",
      "250/250 [==============================] - 0s 1ms/step - loss: 0.0848 - mean_squared_error: 0.0848 - val_loss: 0.0874 - val_mean_squared_error: 0.0874\n",
      "Epoch 27/300\n",
      "250/250 [==============================] - 0s 1ms/step - loss: 0.0797 - mean_squared_error: 0.0797 - val_loss: 0.0884 - val_mean_squared_error: 0.0884\n",
      "Epoch 28/300\n",
      "250/250 [==============================] - 0s 1ms/step - loss: 0.0825 - mean_squared_error: 0.0825 - val_loss: 0.0838 - val_mean_squared_error: 0.0838\n",
      "Epoch 29/300\n",
      "250/250 [==============================] - 0s 1ms/step - loss: 0.0828 - mean_squared_error: 0.0828 - val_loss: 0.0845 - val_mean_squared_error: 0.0845\n",
      "Epoch 30/300\n",
      "250/250 [==============================] - 0s 1ms/step - loss: 0.0817 - mean_squared_error: 0.0817 - val_loss: 0.0939 - val_mean_squared_error: 0.0939\n",
      "Epoch 31/300\n",
      "250/250 [==============================] - 0s 1ms/step - loss: 0.0823 - mean_squared_error: 0.0823 - val_loss: 0.0955 - val_mean_squared_error: 0.0955\n",
      "Epoch 32/300\n",
      "250/250 [==============================] - 0s 1ms/step - loss: 0.0813 - mean_squared_error: 0.0813 - val_loss: 0.0960 - val_mean_squared_error: 0.0960\n",
      "Epoch 33/300\n",
      "250/250 [==============================] - 0s 1ms/step - loss: 0.0847 - mean_squared_error: 0.0847 - val_loss: 0.0889 - val_mean_squared_error: 0.0889\n",
      "Epoch 34/300\n",
      "250/250 [==============================] - 0s 1ms/step - loss: 0.0785 - mean_squared_error: 0.0785 - val_loss: 0.0896 - val_mean_squared_error: 0.0896\n",
      "Epoch 35/300\n",
      "250/250 [==============================] - 0s 1ms/step - loss: 0.0826 - mean_squared_error: 0.0826 - val_loss: 0.0892 - val_mean_squared_error: 0.0892\n",
      "Epoch 36/300\n",
      "250/250 [==============================] - 0s 1ms/step - loss: 0.0855 - mean_squared_error: 0.0855 - val_loss: 0.0794 - val_mean_squared_error: 0.0794\n",
      "Epoch 37/300\n",
      "250/250 [==============================] - 0s 1ms/step - loss: 0.0820 - mean_squared_error: 0.0820 - val_loss: 0.0809 - val_mean_squared_error: 0.0809\n",
      "Epoch 38/300\n",
      "250/250 [==============================] - 0s 1ms/step - loss: 0.0777 - mean_squared_error: 0.0777 - val_loss: 0.0817 - val_mean_squared_error: 0.0817\n",
      "Epoch 39/300\n",
      "250/250 [==============================] - 0s 1ms/step - loss: 0.0771 - mean_squared_error: 0.0771 - val_loss: 0.0829 - val_mean_squared_error: 0.0829\n",
      "Epoch 40/300\n",
      "250/250 [==============================] - 0s 2ms/step - loss: 0.0803 - mean_squared_error: 0.0803 - val_loss: 0.0807 - val_mean_squared_error: 0.0807\n",
      "Epoch 41/300\n",
      "250/250 [==============================] - 0s 1ms/step - loss: 0.0797 - mean_squared_error: 0.0797 - val_loss: 0.0885 - val_mean_squared_error: 0.0885\n",
      "Epoch 42/300\n",
      "250/250 [==============================] - 0s 1ms/step - loss: 0.0813 - mean_squared_error: 0.0813 - val_loss: 0.0958 - val_mean_squared_error: 0.0958\n",
      "Epoch 43/300\n",
      "250/250 [==============================] - 0s 1ms/step - loss: 0.0828 - mean_squared_error: 0.0828 - val_loss: 0.0960 - val_mean_squared_error: 0.0960\n",
      "Epoch 44/300\n",
      "250/250 [==============================] - 0s 1ms/step - loss: 0.0836 - mean_squared_error: 0.0836 - val_loss: 0.0949 - val_mean_squared_error: 0.0949\n",
      "Epoch 45/300\n",
      "250/250 [==============================] - 0s 1ms/step - loss: 0.0806 - mean_squared_error: 0.0806 - val_loss: 0.0848 - val_mean_squared_error: 0.0848\n",
      "Epoch 46/300\n",
      "250/250 [==============================] - 0s 1ms/step - loss: 0.0782 - mean_squared_error: 0.0782 - val_loss: 0.0806 - val_mean_squared_error: 0.0806\n",
      "Epoch 47/300\n",
      "250/250 [==============================] - 0s 1ms/step - loss: 0.0753 - mean_squared_error: 0.0753 - val_loss: 0.0835 - val_mean_squared_error: 0.0835\n",
      "Epoch 48/300\n",
      "250/250 [==============================] - 0s 1ms/step - loss: 0.0775 - mean_squared_error: 0.0775 - val_loss: 0.0810 - val_mean_squared_error: 0.0810\n",
      "Epoch 49/300\n",
      "250/250 [==============================] - 0s 1ms/step - loss: 0.0760 - mean_squared_error: 0.0760 - val_loss: 0.0829 - val_mean_squared_error: 0.0829\n",
      "Epoch 50/300\n",
      "250/250 [==============================] - 0s 1ms/step - loss: 0.0752 - mean_squared_error: 0.0752 - val_loss: 0.0756 - val_mean_squared_error: 0.0756\n"
     ]
    },
    {
     "name": "stdout",
     "output_type": "stream",
     "text": [
      "Epoch 51/300\n",
      "250/250 [==============================] - 0s 1ms/step - loss: 0.0756 - mean_squared_error: 0.0756 - val_loss: 0.0775 - val_mean_squared_error: 0.0775\n",
      "Epoch 52/300\n",
      "250/250 [==============================] - 0s 1ms/step - loss: 0.0762 - mean_squared_error: 0.0762 - val_loss: 0.0801 - val_mean_squared_error: 0.0801\n",
      "Epoch 53/300\n",
      "250/250 [==============================] - 0s 1ms/step - loss: 0.0759 - mean_squared_error: 0.0759 - val_loss: 0.0784 - val_mean_squared_error: 0.0784\n",
      "Epoch 54/300\n",
      "250/250 [==============================] - 0s 1ms/step - loss: 0.0768 - mean_squared_error: 0.0768 - val_loss: 0.0798 - val_mean_squared_error: 0.0798\n",
      "Epoch 55/300\n",
      "250/250 [==============================] - 0s 1ms/step - loss: 0.0735 - mean_squared_error: 0.0735 - val_loss: 0.0829 - val_mean_squared_error: 0.0829\n",
      "Epoch 56/300\n",
      "250/250 [==============================] - 0s 1ms/step - loss: 0.0746 - mean_squared_error: 0.0746 - val_loss: 0.0854 - val_mean_squared_error: 0.0854\n",
      "Epoch 57/300\n",
      "250/250 [==============================] - 0s 1ms/step - loss: 0.0743 - mean_squared_error: 0.0743 - val_loss: 0.0854 - val_mean_squared_error: 0.0854\n",
      "Epoch 58/300\n",
      "250/250 [==============================] - 0s 1ms/step - loss: 0.0750 - mean_squared_error: 0.0750 - val_loss: 0.0807 - val_mean_squared_error: 0.0807\n",
      "Epoch 59/300\n",
      "250/250 [==============================] - 0s 1ms/step - loss: 0.0786 - mean_squared_error: 0.0786 - val_loss: 0.0837 - val_mean_squared_error: 0.0837\n",
      "Epoch 60/300\n",
      "250/250 [==============================] - 0s 1ms/step - loss: 0.0763 - mean_squared_error: 0.0763 - val_loss: 0.0801 - val_mean_squared_error: 0.0801\n",
      "Epoch 61/300\n",
      "250/250 [==============================] - 0s 1ms/step - loss: 0.0756 - mean_squared_error: 0.0756 - val_loss: 0.0811 - val_mean_squared_error: 0.0811\n",
      "Epoch 62/300\n",
      "250/250 [==============================] - 0s 1ms/step - loss: 0.0770 - mean_squared_error: 0.0770 - val_loss: 0.0796 - val_mean_squared_error: 0.0796\n",
      "Epoch 63/300\n",
      "250/250 [==============================] - 0s 1ms/step - loss: 0.0759 - mean_squared_error: 0.0759 - val_loss: 0.0785 - val_mean_squared_error: 0.0785\n",
      "Epoch 64/300\n",
      "250/250 [==============================] - 0s 1ms/step - loss: 0.0752 - mean_squared_error: 0.0752 - val_loss: 0.0773 - val_mean_squared_error: 0.0773\n",
      "Epoch 65/300\n",
      "250/250 [==============================] - 0s 1ms/step - loss: 0.0725 - mean_squared_error: 0.0725 - val_loss: 0.0809 - val_mean_squared_error: 0.0809\n",
      "Epoch 66/300\n",
      "250/250 [==============================] - 0s 1ms/step - loss: 0.0730 - mean_squared_error: 0.0730 - val_loss: 0.0765 - val_mean_squared_error: 0.0765\n",
      "Epoch 67/300\n",
      "250/250 [==============================] - 0s 1ms/step - loss: 0.0716 - mean_squared_error: 0.0716 - val_loss: 0.0735 - val_mean_squared_error: 0.0735\n",
      "Epoch 68/300\n",
      "250/250 [==============================] - 0s 1ms/step - loss: 0.0746 - mean_squared_error: 0.0746 - val_loss: 0.0736 - val_mean_squared_error: 0.0736\n",
      "Epoch 69/300\n",
      "250/250 [==============================] - 0s 1ms/step - loss: 0.0738 - mean_squared_error: 0.0738 - val_loss: 0.0784 - val_mean_squared_error: 0.0784\n",
      "Epoch 70/300\n",
      "250/250 [==============================] - 0s 1ms/step - loss: 0.0743 - mean_squared_error: 0.0743 - val_loss: 0.0876 - val_mean_squared_error: 0.0876\n",
      "Epoch 71/300\n",
      "250/250 [==============================] - 0s 1ms/step - loss: 0.0738 - mean_squared_error: 0.0738 - val_loss: 0.0777 - val_mean_squared_error: 0.0777\n",
      "Epoch 72/300\n",
      "250/250 [==============================] - 0s 1ms/step - loss: 0.0739 - mean_squared_error: 0.0739 - val_loss: 0.0783 - val_mean_squared_error: 0.0783\n",
      "Epoch 73/300\n",
      "250/250 [==============================] - 0s 1ms/step - loss: 0.0715 - mean_squared_error: 0.0715 - val_loss: 0.0742 - val_mean_squared_error: 0.0742\n",
      "Epoch 74/300\n",
      "250/250 [==============================] - 0s 1ms/step - loss: 0.0723 - mean_squared_error: 0.0723 - val_loss: 0.0824 - val_mean_squared_error: 0.0824\n",
      "Epoch 75/300\n",
      "250/250 [==============================] - 0s 1ms/step - loss: 0.0744 - mean_squared_error: 0.0744 - val_loss: 0.0819 - val_mean_squared_error: 0.0819\n",
      "Epoch 76/300\n",
      "250/250 [==============================] - 0s 1ms/step - loss: 0.0735 - mean_squared_error: 0.0735 - val_loss: 0.0809 - val_mean_squared_error: 0.0809\n",
      "Epoch 77/300\n",
      "250/250 [==============================] - 0s 1ms/step - loss: 0.0702 - mean_squared_error: 0.0702 - val_loss: 0.0821 - val_mean_squared_error: 0.0821\n",
      "Epoch 78/300\n",
      "250/250 [==============================] - 0s 1ms/step - loss: 0.0699 - mean_squared_error: 0.0699 - val_loss: 0.0878 - val_mean_squared_error: 0.0878\n",
      "Epoch 79/300\n",
      "250/250 [==============================] - 0s 1ms/step - loss: 0.0720 - mean_squared_error: 0.0720 - val_loss: 0.0773 - val_mean_squared_error: 0.0773\n",
      "Epoch 80/300\n",
      "250/250 [==============================] - 0s 1ms/step - loss: 0.0713 - mean_squared_error: 0.0713 - val_loss: 0.0761 - val_mean_squared_error: 0.0761\n",
      "Epoch 81/300\n",
      "250/250 [==============================] - 0s 1ms/step - loss: 0.0719 - mean_squared_error: 0.0719 - val_loss: 0.0754 - val_mean_squared_error: 0.0754\n",
      "Epoch 82/300\n",
      "250/250 [==============================] - 0s 1ms/step - loss: 0.0732 - mean_squared_error: 0.0732 - val_loss: 0.0745 - val_mean_squared_error: 0.0745\n",
      "Epoch 83/300\n",
      "250/250 [==============================] - 0s 1ms/step - loss: 0.0736 - mean_squared_error: 0.0736 - val_loss: 0.0711 - val_mean_squared_error: 0.0711\n",
      "Epoch 84/300\n",
      "250/250 [==============================] - 0s 1ms/step - loss: 0.0712 - mean_squared_error: 0.0712 - val_loss: 0.0804 - val_mean_squared_error: 0.0804\n",
      "Epoch 85/300\n",
      "250/250 [==============================] - 0s 1ms/step - loss: 0.0735 - mean_squared_error: 0.0735 - val_loss: 0.0812 - val_mean_squared_error: 0.0812\n",
      "Epoch 86/300\n",
      "250/250 [==============================] - 0s 1ms/step - loss: 0.0734 - mean_squared_error: 0.0734 - val_loss: 0.0864 - val_mean_squared_error: 0.0864\n",
      "Epoch 87/300\n",
      "250/250 [==============================] - 0s 1ms/step - loss: 0.0710 - mean_squared_error: 0.0710 - val_loss: 0.0775 - val_mean_squared_error: 0.0775\n",
      "Epoch 88/300\n",
      "250/250 [==============================] - 0s 1ms/step - loss: 0.0716 - mean_squared_error: 0.0716 - val_loss: 0.0777 - val_mean_squared_error: 0.0777\n",
      "Epoch 89/300\n",
      "250/250 [==============================] - 0s 1ms/step - loss: 0.0694 - mean_squared_error: 0.0694 - val_loss: 0.0765 - val_mean_squared_error: 0.0765\n",
      "Epoch 90/300\n",
      "250/250 [==============================] - 0s 1ms/step - loss: 0.0705 - mean_squared_error: 0.0705 - val_loss: 0.0719 - val_mean_squared_error: 0.0719\n",
      "Epoch 91/300\n",
      "250/250 [==============================] - 0s 1ms/step - loss: 0.0726 - mean_squared_error: 0.0726 - val_loss: 0.0716 - val_mean_squared_error: 0.0716\n",
      "Epoch 92/300\n",
      "250/250 [==============================] - 0s 1ms/step - loss: 0.0752 - mean_squared_error: 0.0752 - val_loss: 0.0763 - val_mean_squared_error: 0.0763\n",
      "Epoch 93/300\n",
      "250/250 [==============================] - 0s 1ms/step - loss: 0.0729 - mean_squared_error: 0.0729 - val_loss: 0.0844 - val_mean_squared_error: 0.0844\n",
      "Epoch 94/300\n",
      "250/250 [==============================] - 0s 1ms/step - loss: 0.0734 - mean_squared_error: 0.0734 - val_loss: 0.0853 - val_mean_squared_error: 0.0853\n",
      "Epoch 95/300\n",
      "250/250 [==============================] - 0s 1ms/step - loss: 0.0760 - mean_squared_error: 0.0760 - val_loss: 0.0822 - val_mean_squared_error: 0.0822\n",
      "Epoch 96/300\n",
      "250/250 [==============================] - 0s 1ms/step - loss: 0.0753 - mean_squared_error: 0.0753 - val_loss: 0.0768 - val_mean_squared_error: 0.0768\n",
      "Epoch 97/300\n",
      "250/250 [==============================] - 0s 1ms/step - loss: 0.0736 - mean_squared_error: 0.0736 - val_loss: 0.0759 - val_mean_squared_error: 0.0759\n",
      "Epoch 98/300\n",
      "250/250 [==============================] - 0s 1ms/step - loss: 0.0722 - mean_squared_error: 0.0722 - val_loss: 0.0799 - val_mean_squared_error: 0.0799\n",
      "Epoch 99/300\n",
      "250/250 [==============================] - 0s 1ms/step - loss: 0.0701 - mean_squared_error: 0.0701 - val_loss: 0.0722 - val_mean_squared_error: 0.0722\n",
      "Epoch 100/300\n",
      "250/250 [==============================] - 0s 1ms/step - loss: 0.0732 - mean_squared_error: 0.0732 - val_loss: 0.0725 - val_mean_squared_error: 0.0725\n"
     ]
    },
    {
     "name": "stdout",
     "output_type": "stream",
     "text": [
      "Epoch 101/300\n",
      "250/250 [==============================] - 0s 1ms/step - loss: 0.0730 - mean_squared_error: 0.0730 - val_loss: 0.0800 - val_mean_squared_error: 0.0800\n",
      "Epoch 102/300\n",
      "250/250 [==============================] - 0s 1ms/step - loss: 0.0736 - mean_squared_error: 0.0736 - val_loss: 0.0818 - val_mean_squared_error: 0.0818\n",
      "Epoch 103/300\n",
      "250/250 [==============================] - 0s 1ms/step - loss: 0.0762 - mean_squared_error: 0.0762 - val_loss: 0.0772 - val_mean_squared_error: 0.0772\n",
      "Epoch 104/300\n",
      "250/250 [==============================] - 0s 1ms/step - loss: 0.0760 - mean_squared_error: 0.0760 - val_loss: 0.0734 - val_mean_squared_error: 0.0734\n",
      "Epoch 105/300\n",
      "250/250 [==============================] - 0s 1ms/step - loss: 0.0753 - mean_squared_error: 0.0753 - val_loss: 0.0742 - val_mean_squared_error: 0.0742\n",
      "Epoch 106/300\n",
      "250/250 [==============================] - 0s 1ms/step - loss: 0.0726 - mean_squared_error: 0.0726 - val_loss: 0.0734 - val_mean_squared_error: 0.0734\n",
      "Epoch 107/300\n",
      "250/250 [==============================] - 0s 1ms/step - loss: 0.0733 - mean_squared_error: 0.0733 - val_loss: 0.0746 - val_mean_squared_error: 0.0746\n",
      "Epoch 108/300\n",
      "250/250 [==============================] - 0s 1ms/step - loss: 0.0715 - mean_squared_error: 0.0715 - val_loss: 0.0755 - val_mean_squared_error: 0.0755\n",
      "Epoch 109/300\n",
      "250/250 [==============================] - 0s 1ms/step - loss: 0.0721 - mean_squared_error: 0.0721 - val_loss: 0.0749 - val_mean_squared_error: 0.0749\n",
      "Epoch 110/300\n",
      "250/250 [==============================] - 0s 1ms/step - loss: 0.0708 - mean_squared_error: 0.0708 - val_loss: 0.0768 - val_mean_squared_error: 0.0768\n",
      "Epoch 111/300\n",
      "250/250 [==============================] - 0s 1ms/step - loss: 0.0725 - mean_squared_error: 0.0725 - val_loss: 0.0790 - val_mean_squared_error: 0.0790\n",
      "Epoch 112/300\n",
      "250/250 [==============================] - 0s 1ms/step - loss: 0.0729 - mean_squared_error: 0.0729 - val_loss: 0.0779 - val_mean_squared_error: 0.0779\n",
      "Epoch 113/300\n",
      "250/250 [==============================] - 0s 1ms/step - loss: 0.0716 - mean_squared_error: 0.0716 - val_loss: 0.0758 - val_mean_squared_error: 0.0758\n",
      "Epoch 114/300\n",
      "250/250 [==============================] - 0s 1ms/step - loss: 0.0717 - mean_squared_error: 0.0717 - val_loss: 0.0761 - val_mean_squared_error: 0.0761\n",
      "Epoch 115/300\n",
      "250/250 [==============================] - 0s 1ms/step - loss: 0.0708 - mean_squared_error: 0.0708 - val_loss: 0.0806 - val_mean_squared_error: 0.0806\n",
      "Epoch 116/300\n",
      "250/250 [==============================] - 0s 1ms/step - loss: 0.0710 - mean_squared_error: 0.0710 - val_loss: 0.0762 - val_mean_squared_error: 0.0762\n",
      "Epoch 117/300\n",
      "250/250 [==============================] - 0s 1ms/step - loss: 0.0711 - mean_squared_error: 0.0711 - val_loss: 0.0778 - val_mean_squared_error: 0.0778\n",
      "Epoch 118/300\n",
      "250/250 [==============================] - 0s 1ms/step - loss: 0.0734 - mean_squared_error: 0.0734 - val_loss: 0.0819 - val_mean_squared_error: 0.0819\n",
      "Epoch 119/300\n",
      "250/250 [==============================] - 0s 1ms/step - loss: 0.0753 - mean_squared_error: 0.0753 - val_loss: 0.0785 - val_mean_squared_error: 0.0785\n",
      "Epoch 120/300\n",
      "250/250 [==============================] - 0s 1ms/step - loss: 0.0747 - mean_squared_error: 0.0747 - val_loss: 0.0814 - val_mean_squared_error: 0.0814\n",
      "Epoch 121/300\n",
      "250/250 [==============================] - 0s 1ms/step - loss: 0.0753 - mean_squared_error: 0.0753 - val_loss: 0.0830 - val_mean_squared_error: 0.0830\n",
      "Epoch 122/300\n",
      "250/250 [==============================] - 0s 1ms/step - loss: 0.0750 - mean_squared_error: 0.0750 - val_loss: 0.0780 - val_mean_squared_error: 0.0780\n",
      "Epoch 123/300\n",
      "250/250 [==============================] - 0s 1ms/step - loss: 0.0749 - mean_squared_error: 0.0749 - val_loss: 0.0746 - val_mean_squared_error: 0.0746\n",
      "Epoch 124/300\n",
      "250/250 [==============================] - 0s 1ms/step - loss: 0.0757 - mean_squared_error: 0.0757 - val_loss: 0.0755 - val_mean_squared_error: 0.0755\n",
      "Epoch 125/300\n",
      "250/250 [==============================] - 0s 1ms/step - loss: 0.0738 - mean_squared_error: 0.0738 - val_loss: 0.0774 - val_mean_squared_error: 0.0774\n",
      "Epoch 126/300\n",
      "250/250 [==============================] - 0s 1ms/step - loss: 0.0746 - mean_squared_error: 0.0746 - val_loss: 0.0845 - val_mean_squared_error: 0.0845\n",
      "Epoch 127/300\n",
      "250/250 [==============================] - 0s 1ms/step - loss: 0.0754 - mean_squared_error: 0.0754 - val_loss: 0.0785 - val_mean_squared_error: 0.0785\n",
      "Epoch 128/300\n",
      "250/250 [==============================] - 0s 1ms/step - loss: 0.0751 - mean_squared_error: 0.0751 - val_loss: 0.0745 - val_mean_squared_error: 0.0745\n",
      "Epoch 129/300\n",
      "250/250 [==============================] - 0s 1ms/step - loss: 0.0750 - mean_squared_error: 0.0750 - val_loss: 0.0764 - val_mean_squared_error: 0.0764\n",
      "Epoch 130/300\n",
      "250/250 [==============================] - 0s 1ms/step - loss: 0.0739 - mean_squared_error: 0.0739 - val_loss: 0.0779 - val_mean_squared_error: 0.0779\n",
      "Epoch 131/300\n",
      "250/250 [==============================] - 0s 1ms/step - loss: 0.0737 - mean_squared_error: 0.0737 - val_loss: 0.0788 - val_mean_squared_error: 0.0788\n",
      "Epoch 132/300\n",
      "250/250 [==============================] - 0s 1ms/step - loss: 0.0750 - mean_squared_error: 0.0750 - val_loss: 0.0817 - val_mean_squared_error: 0.0817\n",
      "Epoch 133/300\n",
      "250/250 [==============================] - 0s 1ms/step - loss: 0.0727 - mean_squared_error: 0.0727 - val_loss: 0.0793 - val_mean_squared_error: 0.0793\n",
      "Epoch 134/300\n",
      "250/250 [==============================] - 0s 1ms/step - loss: 0.0738 - mean_squared_error: 0.0738 - val_loss: 0.0749 - val_mean_squared_error: 0.0749\n",
      "Epoch 135/300\n",
      "250/250 [==============================] - 0s 1ms/step - loss: 0.0732 - mean_squared_error: 0.0732 - val_loss: 0.0786 - val_mean_squared_error: 0.0786\n",
      "Epoch 136/300\n",
      "250/250 [==============================] - 0s 1ms/step - loss: 0.0728 - mean_squared_error: 0.0728 - val_loss: 0.0776 - val_mean_squared_error: 0.0776\n",
      "Epoch 137/300\n",
      "250/250 [==============================] - 0s 1ms/step - loss: 0.0711 - mean_squared_error: 0.0711 - val_loss: 0.0766 - val_mean_squared_error: 0.0766\n",
      "Epoch 138/300\n",
      "250/250 [==============================] - 0s 1ms/step - loss: 0.0725 - mean_squared_error: 0.0725 - val_loss: 0.0840 - val_mean_squared_error: 0.0840\n",
      "Epoch 139/300\n",
      "250/250 [==============================] - 0s 1ms/step - loss: 0.0754 - mean_squared_error: 0.0754 - val_loss: 0.0775 - val_mean_squared_error: 0.0775\n",
      "Epoch 140/300\n",
      "250/250 [==============================] - 0s 1ms/step - loss: 0.0734 - mean_squared_error: 0.0734 - val_loss: 0.0757 - val_mean_squared_error: 0.0757\n",
      "Epoch 141/300\n",
      "250/250 [==============================] - 0s 1ms/step - loss: 0.0730 - mean_squared_error: 0.0730 - val_loss: 0.0758 - val_mean_squared_error: 0.0758\n",
      "Epoch 142/300\n",
      "250/250 [==============================] - 0s 1ms/step - loss: 0.0733 - mean_squared_error: 0.0733 - val_loss: 0.0761 - val_mean_squared_error: 0.0761\n",
      "Epoch 143/300\n",
      "250/250 [==============================] - 0s 1ms/step - loss: 0.0744 - mean_squared_error: 0.0744 - val_loss: 0.0754 - val_mean_squared_error: 0.0754\n",
      "Epoch 144/300\n",
      "250/250 [==============================] - 0s 1ms/step - loss: 0.0748 - mean_squared_error: 0.0748 - val_loss: 0.0773 - val_mean_squared_error: 0.0773\n",
      "Epoch 145/300\n",
      "250/250 [==============================] - 0s 1ms/step - loss: 0.0732 - mean_squared_error: 0.0732 - val_loss: 0.0772 - val_mean_squared_error: 0.0772\n",
      "Epoch 146/300\n",
      "250/250 [==============================] - 0s 1ms/step - loss: 0.0729 - mean_squared_error: 0.0729 - val_loss: 0.0777 - val_mean_squared_error: 0.0777\n",
      "Epoch 147/300\n",
      "250/250 [==============================] - 0s 1ms/step - loss: 0.0720 - mean_squared_error: 0.0720 - val_loss: 0.0757 - val_mean_squared_error: 0.0757\n",
      "Epoch 148/300\n",
      "250/250 [==============================] - 0s 1ms/step - loss: 0.0726 - mean_squared_error: 0.0726 - val_loss: 0.0768 - val_mean_squared_error: 0.0768\n",
      "Epoch 149/300\n",
      "250/250 [==============================] - 0s 1ms/step - loss: 0.0744 - mean_squared_error: 0.0744 - val_loss: 0.0780 - val_mean_squared_error: 0.0780\n",
      "Epoch 150/300\n"
     ]
    },
    {
     "name": "stdout",
     "output_type": "stream",
     "text": [
      "250/250 [==============================] - 0s 1ms/step - loss: 0.0737 - mean_squared_error: 0.0737 - val_loss: 0.0822 - val_mean_squared_error: 0.0822\n",
      "Epoch 151/300\n",
      "250/250 [==============================] - 0s 1ms/step - loss: 0.0754 - mean_squared_error: 0.0754 - val_loss: 0.0810 - val_mean_squared_error: 0.0810\n",
      "Epoch 152/300\n",
      "250/250 [==============================] - 0s 1ms/step - loss: 0.0758 - mean_squared_error: 0.0758 - val_loss: 0.0771 - val_mean_squared_error: 0.0771\n",
      "Epoch 153/300\n",
      "250/250 [==============================] - 0s 1ms/step - loss: 0.0736 - mean_squared_error: 0.0736 - val_loss: 0.0773 - val_mean_squared_error: 0.0773\n",
      "Epoch 154/300\n",
      "250/250 [==============================] - 0s 1ms/step - loss: 0.0752 - mean_squared_error: 0.0752 - val_loss: 0.0773 - val_mean_squared_error: 0.0773\n",
      "Epoch 155/300\n",
      "250/250 [==============================] - 0s 1ms/step - loss: 0.0720 - mean_squared_error: 0.0720 - val_loss: 0.0800 - val_mean_squared_error: 0.0800\n",
      "Epoch 156/300\n",
      "250/250 [==============================] - 0s 1ms/step - loss: 0.0725 - mean_squared_error: 0.0725 - val_loss: 0.0764 - val_mean_squared_error: 0.0764\n",
      "Epoch 157/300\n",
      "250/250 [==============================] - 0s 1ms/step - loss: 0.0723 - mean_squared_error: 0.0723 - val_loss: 0.0754 - val_mean_squared_error: 0.0754\n",
      "Epoch 158/300\n",
      "250/250 [==============================] - 0s 1ms/step - loss: 0.0749 - mean_squared_error: 0.0749 - val_loss: 0.0747 - val_mean_squared_error: 0.0747\n",
      "Epoch 159/300\n",
      "250/250 [==============================] - 0s 1ms/step - loss: 0.0725 - mean_squared_error: 0.0725 - val_loss: 0.0746 - val_mean_squared_error: 0.0746\n",
      "Epoch 160/300\n",
      "250/250 [==============================] - 0s 1ms/step - loss: 0.0735 - mean_squared_error: 0.0735 - val_loss: 0.0757 - val_mean_squared_error: 0.0757\n",
      "Epoch 161/300\n",
      "250/250 [==============================] - 0s 1ms/step - loss: 0.0731 - mean_squared_error: 0.0731 - val_loss: 0.0748 - val_mean_squared_error: 0.0748\n",
      "Epoch 162/300\n",
      "250/250 [==============================] - 0s 1ms/step - loss: 0.0747 - mean_squared_error: 0.0747 - val_loss: 0.0742 - val_mean_squared_error: 0.0742\n",
      "Epoch 163/300\n",
      "250/250 [==============================] - 0s 1ms/step - loss: 0.0728 - mean_squared_error: 0.0728 - val_loss: 0.0752 - val_mean_squared_error: 0.0752\n",
      "Epoch 164/300\n",
      "250/250 [==============================] - 0s 1ms/step - loss: 0.0742 - mean_squared_error: 0.0742 - val_loss: 0.0779 - val_mean_squared_error: 0.0779\n",
      "Epoch 165/300\n",
      "250/250 [==============================] - 0s 1ms/step - loss: 0.0740 - mean_squared_error: 0.0740 - val_loss: 0.0834 - val_mean_squared_error: 0.0834\n",
      "Epoch 166/300\n",
      "250/250 [==============================] - 0s 1ms/step - loss: 0.0730 - mean_squared_error: 0.0730 - val_loss: 0.0773 - val_mean_squared_error: 0.0773\n",
      "Epoch 167/300\n",
      "250/250 [==============================] - 0s 1ms/step - loss: 0.0719 - mean_squared_error: 0.0719 - val_loss: 0.0736 - val_mean_squared_error: 0.0736\n",
      "Epoch 168/300\n",
      "250/250 [==============================] - 0s 1ms/step - loss: 0.0725 - mean_squared_error: 0.0725 - val_loss: 0.0753 - val_mean_squared_error: 0.0753\n",
      "Epoch 169/300\n",
      "250/250 [==============================] - 0s 1ms/step - loss: 0.0725 - mean_squared_error: 0.0725 - val_loss: 0.0780 - val_mean_squared_error: 0.0780\n",
      "Epoch 170/300\n",
      "250/250 [==============================] - 0s 1ms/step - loss: 0.0723 - mean_squared_error: 0.0723 - val_loss: 0.0773 - val_mean_squared_error: 0.0773\n",
      "Epoch 171/300\n",
      "250/250 [==============================] - 0s 1ms/step - loss: 0.0721 - mean_squared_error: 0.0721 - val_loss: 0.0770 - val_mean_squared_error: 0.0770\n",
      "Epoch 172/300\n",
      "250/250 [==============================] - 0s 1ms/step - loss: 0.0718 - mean_squared_error: 0.0718 - val_loss: 0.0775 - val_mean_squared_error: 0.0775\n",
      "Epoch 173/300\n",
      "250/250 [==============================] - 0s 1ms/step - loss: 0.0723 - mean_squared_error: 0.0723 - val_loss: 0.0771 - val_mean_squared_error: 0.0771\n",
      "Epoch 174/300\n",
      "250/250 [==============================] - 0s 1ms/step - loss: 0.0721 - mean_squared_error: 0.0721 - val_loss: 0.0747 - val_mean_squared_error: 0.0747\n",
      "Epoch 175/300\n",
      "250/250 [==============================] - 0s 1ms/step - loss: 0.0738 - mean_squared_error: 0.0738 - val_loss: 0.0797 - val_mean_squared_error: 0.0797\n",
      "Epoch 176/300\n",
      "250/250 [==============================] - 0s 1ms/step - loss: 0.0717 - mean_squared_error: 0.0717 - val_loss: 0.0780 - val_mean_squared_error: 0.0780\n",
      "Epoch 177/300\n",
      "250/250 [==============================] - 0s 1ms/step - loss: 0.0710 - mean_squared_error: 0.0710 - val_loss: 0.0760 - val_mean_squared_error: 0.0760\n",
      "Epoch 178/300\n",
      "250/250 [==============================] - 0s 1ms/step - loss: 0.0719 - mean_squared_error: 0.0719 - val_loss: 0.0779 - val_mean_squared_error: 0.0779\n",
      "Epoch 179/300\n",
      "250/250 [==============================] - 0s 1ms/step - loss: 0.0733 - mean_squared_error: 0.0733 - val_loss: 0.0748 - val_mean_squared_error: 0.0748\n",
      "Epoch 180/300\n",
      "250/250 [==============================] - 0s 1ms/step - loss: 0.0716 - mean_squared_error: 0.0716 - val_loss: 0.0764 - val_mean_squared_error: 0.0764\n",
      "Epoch 181/300\n",
      "250/250 [==============================] - 0s 1ms/step - loss: 0.0729 - mean_squared_error: 0.0729 - val_loss: 0.0758 - val_mean_squared_error: 0.0758\n",
      "Epoch 182/300\n",
      "250/250 [==============================] - 0s 1ms/step - loss: 0.0718 - mean_squared_error: 0.0718 - val_loss: 0.0730 - val_mean_squared_error: 0.0730\n",
      "Epoch 183/300\n",
      "250/250 [==============================] - 0s 1ms/step - loss: 0.0744 - mean_squared_error: 0.0744 - val_loss: 0.0746 - val_mean_squared_error: 0.0746\n",
      "Epoch 184/300\n",
      "250/250 [==============================] - 0s 1ms/step - loss: 0.0716 - mean_squared_error: 0.0716 - val_loss: 0.0776 - val_mean_squared_error: 0.0776\n",
      "Epoch 185/300\n",
      "250/250 [==============================] - 0s 1ms/step - loss: 0.0725 - mean_squared_error: 0.0725 - val_loss: 0.0789 - val_mean_squared_error: 0.0789\n",
      "Epoch 186/300\n",
      "250/250 [==============================] - 0s 1ms/step - loss: 0.0721 - mean_squared_error: 0.0721 - val_loss: 0.0815 - val_mean_squared_error: 0.0815\n",
      "Epoch 187/300\n",
      "250/250 [==============================] - 0s 1ms/step - loss: 0.0735 - mean_squared_error: 0.0735 - val_loss: 0.0768 - val_mean_squared_error: 0.0768\n",
      "Epoch 188/300\n",
      "250/250 [==============================] - 0s 1ms/step - loss: 0.0733 - mean_squared_error: 0.0733 - val_loss: 0.0759 - val_mean_squared_error: 0.0759\n",
      "Epoch 189/300\n",
      "250/250 [==============================] - 0s 1ms/step - loss: 0.0735 - mean_squared_error: 0.0735 - val_loss: 0.0764 - val_mean_squared_error: 0.0764\n",
      "Epoch 190/300\n",
      "250/250 [==============================] - 0s 1ms/step - loss: 0.0697 - mean_squared_error: 0.0697 - val_loss: 0.0766 - val_mean_squared_error: 0.0766\n",
      "Epoch 191/300\n",
      "250/250 [==============================] - 0s 1ms/step - loss: 0.0715 - mean_squared_error: 0.0715 - val_loss: 0.0790 - val_mean_squared_error: 0.0790\n",
      "Epoch 192/300\n",
      "250/250 [==============================] - 0s 1ms/step - loss: 0.0730 - mean_squared_error: 0.0730 - val_loss: 0.0777 - val_mean_squared_error: 0.0777\n",
      "Epoch 193/300\n",
      "250/250 [==============================] - 0s 1ms/step - loss: 0.0740 - mean_squared_error: 0.0740 - val_loss: 0.0769 - val_mean_squared_error: 0.0769\n",
      "Epoch 194/300\n",
      "250/250 [==============================] - 0s 1ms/step - loss: 0.0730 - mean_squared_error: 0.0730 - val_loss: 0.0736 - val_mean_squared_error: 0.0736\n",
      "Epoch 195/300\n",
      "250/250 [==============================] - 0s 1ms/step - loss: 0.0723 - mean_squared_error: 0.0723 - val_loss: 0.0751 - val_mean_squared_error: 0.0751\n",
      "Epoch 196/300\n",
      "250/250 [==============================] - 0s 1ms/step - loss: 0.0719 - mean_squared_error: 0.0719 - val_loss: 0.0771 - val_mean_squared_error: 0.0771\n",
      "Epoch 197/300\n",
      "250/250 [==============================] - 0s 1ms/step - loss: 0.0740 - mean_squared_error: 0.0740 - val_loss: 0.0744 - val_mean_squared_error: 0.0744\n",
      "Epoch 198/300\n",
      "250/250 [==============================] - 0s 1ms/step - loss: 0.0729 - mean_squared_error: 0.0729 - val_loss: 0.0777 - val_mean_squared_error: 0.0777\n",
      "Epoch 199/300\n",
      "250/250 [==============================] - 0s 1ms/step - loss: 0.0710 - mean_squared_error: 0.0710 - val_loss: 0.0769 - val_mean_squared_error: 0.0769\n"
     ]
    },
    {
     "name": "stdout",
     "output_type": "stream",
     "text": [
      "Epoch 200/300\n",
      "250/250 [==============================] - 0s 1ms/step - loss: 0.0720 - mean_squared_error: 0.0720 - val_loss: 0.0791 - val_mean_squared_error: 0.0791\n",
      "Epoch 201/300\n",
      "250/250 [==============================] - 0s 1ms/step - loss: 0.0705 - mean_squared_error: 0.0705 - val_loss: 0.0822 - val_mean_squared_error: 0.0822\n",
      "Epoch 202/300\n",
      "250/250 [==============================] - 0s 1ms/step - loss: 0.0729 - mean_squared_error: 0.0729 - val_loss: 0.0742 - val_mean_squared_error: 0.0742\n",
      "Epoch 203/300\n",
      "250/250 [==============================] - 0s 1ms/step - loss: 0.0695 - mean_squared_error: 0.0695 - val_loss: 0.0764 - val_mean_squared_error: 0.0764\n",
      "Epoch 204/300\n",
      "250/250 [==============================] - 0s 1ms/step - loss: 0.0726 - mean_squared_error: 0.0726 - val_loss: 0.0763 - val_mean_squared_error: 0.0763\n",
      "Epoch 205/300\n",
      "250/250 [==============================] - 0s 1ms/step - loss: 0.0703 - mean_squared_error: 0.0703 - val_loss: 0.0753 - val_mean_squared_error: 0.0753\n",
      "Epoch 206/300\n",
      "250/250 [==============================] - ETA: 0s - loss: 0.0720 - mean_squared_error: 0.07 - 0s 1ms/step - loss: 0.0710 - mean_squared_error: 0.0710 - val_loss: 0.0759 - val_mean_squared_error: 0.0759\n",
      "Epoch 207/300\n",
      "250/250 [==============================] - 0s 1ms/step - loss: 0.0726 - mean_squared_error: 0.0726 - val_loss: 0.0790 - val_mean_squared_error: 0.0790\n",
      "Epoch 208/300\n",
      "250/250 [==============================] - 0s 1ms/step - loss: 0.0711 - mean_squared_error: 0.0711 - val_loss: 0.0794 - val_mean_squared_error: 0.0794\n",
      "Epoch 209/300\n",
      "250/250 [==============================] - 0s 1ms/step - loss: 0.0719 - mean_squared_error: 0.0719 - val_loss: 0.0770 - val_mean_squared_error: 0.0770\n",
      "Epoch 210/300\n",
      "250/250 [==============================] - 0s 1ms/step - loss: 0.0726 - mean_squared_error: 0.0726 - val_loss: 0.0792 - val_mean_squared_error: 0.0792\n",
      "Epoch 211/300\n",
      "250/250 [==============================] - 0s 1ms/step - loss: 0.0703 - mean_squared_error: 0.0703 - val_loss: 0.0796 - val_mean_squared_error: 0.0796\n",
      "Epoch 212/300\n",
      "250/250 [==============================] - 0s 1ms/step - loss: 0.0710 - mean_squared_error: 0.0710 - val_loss: 0.0789 - val_mean_squared_error: 0.0789\n",
      "Epoch 213/300\n",
      "250/250 [==============================] - 0s 1ms/step - loss: 0.0705 - mean_squared_error: 0.0705 - val_loss: 0.0790 - val_mean_squared_error: 0.0790\n",
      "Epoch 214/300\n",
      "250/250 [==============================] - 0s 1ms/step - loss: 0.0720 - mean_squared_error: 0.0720 - val_loss: 0.0808 - val_mean_squared_error: 0.0808\n",
      "Epoch 215/300\n",
      "250/250 [==============================] - 0s 1ms/step - loss: 0.0724 - mean_squared_error: 0.0724 - val_loss: 0.0775 - val_mean_squared_error: 0.0775\n",
      "Epoch 216/300\n",
      "250/250 [==============================] - 0s 1ms/step - loss: 0.0702 - mean_squared_error: 0.0702 - val_loss: 0.0790 - val_mean_squared_error: 0.0790\n",
      "Epoch 217/300\n",
      "250/250 [==============================] - 0s 1ms/step - loss: 0.0722 - mean_squared_error: 0.0722 - val_loss: 0.0755 - val_mean_squared_error: 0.0755\n",
      "Epoch 218/300\n",
      "250/250 [==============================] - 0s 1ms/step - loss: 0.0733 - mean_squared_error: 0.0733 - val_loss: 0.0784 - val_mean_squared_error: 0.0784\n",
      "Epoch 219/300\n",
      "250/250 [==============================] - 0s 1ms/step - loss: 0.0709 - mean_squared_error: 0.0709 - val_loss: 0.0772 - val_mean_squared_error: 0.0772\n",
      "Epoch 220/300\n",
      "250/250 [==============================] - 0s 1ms/step - loss: 0.0716 - mean_squared_error: 0.0716 - val_loss: 0.0776 - val_mean_squared_error: 0.0776\n",
      "Epoch 221/300\n",
      "250/250 [==============================] - 0s 1ms/step - loss: 0.0711 - mean_squared_error: 0.0711 - val_loss: 0.0787 - val_mean_squared_error: 0.0787\n",
      "Epoch 222/300\n",
      "250/250 [==============================] - ETA: 0s - loss: 0.0739 - mean_squared_error: 0.07 - 0s 1ms/step - loss: 0.0737 - mean_squared_error: 0.0737 - val_loss: 0.0749 - val_mean_squared_error: 0.0749\n",
      "Epoch 223/300\n",
      "250/250 [==============================] - 0s 1ms/step - loss: 0.0708 - mean_squared_error: 0.0708 - val_loss: 0.0747 - val_mean_squared_error: 0.0747\n",
      "Epoch 224/300\n",
      "250/250 [==============================] - 0s 1ms/step - loss: 0.0714 - mean_squared_error: 0.0714 - val_loss: 0.0765 - val_mean_squared_error: 0.0765\n",
      "Epoch 225/300\n",
      "250/250 [==============================] - 0s 1ms/step - loss: 0.0702 - mean_squared_error: 0.0702 - val_loss: 0.0764 - val_mean_squared_error: 0.0764\n",
      "Epoch 226/300\n",
      "250/250 [==============================] - 0s 1ms/step - loss: 0.0699 - mean_squared_error: 0.0699 - val_loss: 0.0751 - val_mean_squared_error: 0.0751\n",
      "Epoch 227/300\n",
      "250/250 [==============================] - 0s 1ms/step - loss: 0.0692 - mean_squared_error: 0.0692 - val_loss: 0.0807 - val_mean_squared_error: 0.0807\n",
      "Epoch 228/300\n",
      "250/250 [==============================] - 0s 1ms/step - loss: 0.0719 - mean_squared_error: 0.0719 - val_loss: 0.0765 - val_mean_squared_error: 0.0765\n",
      "Epoch 229/300\n",
      "250/250 [==============================] - 0s 1ms/step - loss: 0.0723 - mean_squared_error: 0.0723 - val_loss: 0.0760 - val_mean_squared_error: 0.0760\n",
      "Epoch 230/300\n",
      "250/250 [==============================] - 0s 1ms/step - loss: 0.0731 - mean_squared_error: 0.0731 - val_loss: 0.0781 - val_mean_squared_error: 0.0781\n",
      "Epoch 231/300\n",
      "250/250 [==============================] - 0s 1ms/step - loss: 0.0718 - mean_squared_error: 0.0718 - val_loss: 0.0759 - val_mean_squared_error: 0.0759\n",
      "Epoch 232/300\n",
      "250/250 [==============================] - 0s 1ms/step - loss: 0.0706 - mean_squared_error: 0.0706 - val_loss: 0.0750 - val_mean_squared_error: 0.0750\n",
      "Epoch 233/300\n",
      "250/250 [==============================] - 0s 1ms/step - loss: 0.0709 - mean_squared_error: 0.0709 - val_loss: 0.0762 - val_mean_squared_error: 0.0762\n",
      "Epoch 234/300\n",
      "250/250 [==============================] - 0s 1ms/step - loss: 0.0711 - mean_squared_error: 0.0711 - val_loss: 0.0780 - val_mean_squared_error: 0.0780\n",
      "Epoch 235/300\n",
      "250/250 [==============================] - 0s 1ms/step - loss: 0.0713 - mean_squared_error: 0.0713 - val_loss: 0.0749 - val_mean_squared_error: 0.0749\n",
      "Epoch 236/300\n",
      "250/250 [==============================] - 0s 1ms/step - loss: 0.0695 - mean_squared_error: 0.0695 - val_loss: 0.0764 - val_mean_squared_error: 0.0764\n",
      "Epoch 237/300\n",
      "250/250 [==============================] - 0s 1ms/step - loss: 0.0685 - mean_squared_error: 0.0685 - val_loss: 0.0756 - val_mean_squared_error: 0.0756\n",
      "Epoch 238/300\n",
      "250/250 [==============================] - 0s 1ms/step - loss: 0.0694 - mean_squared_error: 0.0694 - val_loss: 0.0738 - val_mean_squared_error: 0.0738\n",
      "Epoch 239/300\n",
      "250/250 [==============================] - 0s 1ms/step - loss: 0.0717 - mean_squared_error: 0.0717 - val_loss: 0.0753 - val_mean_squared_error: 0.0753\n",
      "Epoch 240/300\n",
      "250/250 [==============================] - 0s 1ms/step - loss: 0.0703 - mean_squared_error: 0.0703 - val_loss: 0.0795 - val_mean_squared_error: 0.0795\n",
      "Epoch 241/300\n",
      "250/250 [==============================] - 0s 1ms/step - loss: 0.0707 - mean_squared_error: 0.0707 - val_loss: 0.0774 - val_mean_squared_error: 0.0774\n",
      "Epoch 242/300\n",
      "250/250 [==============================] - 0s 1ms/step - loss: 0.0711 - mean_squared_error: 0.0711 - val_loss: 0.0758 - val_mean_squared_error: 0.0758\n",
      "Epoch 243/300\n",
      "250/250 [==============================] - 0s 1ms/step - loss: 0.0718 - mean_squared_error: 0.0718 - val_loss: 0.0765 - val_mean_squared_error: 0.0765\n",
      "Epoch 244/300\n",
      "250/250 [==============================] - 0s 1ms/step - loss: 0.0705 - mean_squared_error: 0.0705 - val_loss: 0.0755 - val_mean_squared_error: 0.0755\n",
      "Epoch 245/300\n",
      "250/250 [==============================] - 0s 1ms/step - loss: 0.0715 - mean_squared_error: 0.0715 - val_loss: 0.0748 - val_mean_squared_error: 0.0748\n",
      "Epoch 246/300\n",
      "250/250 [==============================] - 0s 1ms/step - loss: 0.0713 - mean_squared_error: 0.0713 - val_loss: 0.0773 - val_mean_squared_error: 0.0773\n",
      "Epoch 247/300\n",
      "250/250 [==============================] - 0s 1ms/step - loss: 0.0703 - mean_squared_error: 0.0703 - val_loss: 0.0779 - val_mean_squared_error: 0.0779\n",
      "Epoch 248/300\n",
      "250/250 [==============================] - 0s 1ms/step - loss: 0.0717 - mean_squared_error: 0.0717 - val_loss: 0.0778 - val_mean_squared_error: 0.0778\n",
      "Epoch 249/300\n"
     ]
    },
    {
     "name": "stdout",
     "output_type": "stream",
     "text": [
      "250/250 [==============================] - 0s 1ms/step - loss: 0.0712 - mean_squared_error: 0.0712 - val_loss: 0.0801 - val_mean_squared_error: 0.0801\n",
      "Epoch 250/300\n",
      "250/250 [==============================] - 0s 1ms/step - loss: 0.0714 - mean_squared_error: 0.0714 - val_loss: 0.0780 - val_mean_squared_error: 0.0780\n",
      "Epoch 251/300\n",
      "250/250 [==============================] - 0s 1ms/step - loss: 0.0710 - mean_squared_error: 0.0710 - val_loss: 0.0773 - val_mean_squared_error: 0.0773\n",
      "Epoch 252/300\n",
      "250/250 [==============================] - 0s 1ms/step - loss: 0.0723 - mean_squared_error: 0.0723 - val_loss: 0.0807 - val_mean_squared_error: 0.0807\n",
      "Epoch 253/300\n",
      "250/250 [==============================] - 0s 1ms/step - loss: 0.0720 - mean_squared_error: 0.0720 - val_loss: 0.0832 - val_mean_squared_error: 0.0832\n",
      "Epoch 254/300\n",
      "250/250 [==============================] - 0s 1ms/step - loss: 0.0725 - mean_squared_error: 0.0725 - val_loss: 0.0768 - val_mean_squared_error: 0.0768\n",
      "Epoch 255/300\n",
      "250/250 [==============================] - 0s 1ms/step - loss: 0.0702 - mean_squared_error: 0.0702 - val_loss: 0.0750 - val_mean_squared_error: 0.0750\n",
      "Epoch 256/300\n",
      "250/250 [==============================] - 0s 1ms/step - loss: 0.0704 - mean_squared_error: 0.0704 - val_loss: 0.0793 - val_mean_squared_error: 0.0793\n",
      "Epoch 257/300\n",
      "250/250 [==============================] - 0s 1ms/step - loss: 0.0692 - mean_squared_error: 0.0692 - val_loss: 0.0749 - val_mean_squared_error: 0.0749\n",
      "Epoch 258/300\n",
      "250/250 [==============================] - 0s 1ms/step - loss: 0.0702 - mean_squared_error: 0.0702 - val_loss: 0.0755 - val_mean_squared_error: 0.0755\n",
      "Epoch 259/300\n",
      "250/250 [==============================] - 0s 1ms/step - loss: 0.0710 - mean_squared_error: 0.0710 - val_loss: 0.0749 - val_mean_squared_error: 0.0749\n",
      "Epoch 260/300\n",
      "250/250 [==============================] - 0s 1ms/step - loss: 0.0716 - mean_squared_error: 0.0716 - val_loss: 0.0756 - val_mean_squared_error: 0.0756\n",
      "Epoch 261/300\n",
      "250/250 [==============================] - 0s 1ms/step - loss: 0.0732 - mean_squared_error: 0.0732 - val_loss: 0.0745 - val_mean_squared_error: 0.0745\n",
      "Epoch 262/300\n",
      "250/250 [==============================] - 0s 1ms/step - loss: 0.0719 - mean_squared_error: 0.0719 - val_loss: 0.0780 - val_mean_squared_error: 0.0780\n",
      "Epoch 263/300\n",
      "250/250 [==============================] - 0s 1ms/step - loss: 0.0694 - mean_squared_error: 0.0694 - val_loss: 0.0790 - val_mean_squared_error: 0.0790\n",
      "Epoch 264/300\n",
      "250/250 [==============================] - 0s 1ms/step - loss: 0.0702 - mean_squared_error: 0.0702 - val_loss: 0.0785 - val_mean_squared_error: 0.0785\n",
      "Epoch 265/300\n",
      "250/250 [==============================] - 0s 1ms/step - loss: 0.0710 - mean_squared_error: 0.0710 - val_loss: 0.0790 - val_mean_squared_error: 0.0790\n",
      "Epoch 266/300\n",
      "250/250 [==============================] - 0s 1ms/step - loss: 0.0712 - mean_squared_error: 0.0712 - val_loss: 0.0752 - val_mean_squared_error: 0.0752\n",
      "Epoch 267/300\n",
      "250/250 [==============================] - 0s 1ms/step - loss: 0.0705 - mean_squared_error: 0.0705 - val_loss: 0.0748 - val_mean_squared_error: 0.0748\n",
      "Epoch 268/300\n",
      "250/250 [==============================] - 0s 1ms/step - loss: 0.0687 - mean_squared_error: 0.0687 - val_loss: 0.0732 - val_mean_squared_error: 0.0732\n",
      "Epoch 269/300\n",
      "250/250 [==============================] - 0s 1ms/step - loss: 0.0731 - mean_squared_error: 0.0731 - val_loss: 0.0744 - val_mean_squared_error: 0.0744\n",
      "Epoch 270/300\n",
      "250/250 [==============================] - 0s 1ms/step - loss: 0.0700 - mean_squared_error: 0.0700 - val_loss: 0.0751 - val_mean_squared_error: 0.0751\n",
      "Epoch 271/300\n",
      "250/250 [==============================] - 0s 1ms/step - loss: 0.0705 - mean_squared_error: 0.0705 - val_loss: 0.0773 - val_mean_squared_error: 0.0773\n",
      "Epoch 272/300\n",
      "250/250 [==============================] - 0s 1ms/step - loss: 0.0725 - mean_squared_error: 0.0725 - val_loss: 0.0853 - val_mean_squared_error: 0.0853\n",
      "Epoch 273/300\n",
      "250/250 [==============================] - 0s 1ms/step - loss: 0.0716 - mean_squared_error: 0.0716 - val_loss: 0.0792 - val_mean_squared_error: 0.0792\n",
      "Epoch 274/300\n",
      "250/250 [==============================] - 0s 1ms/step - loss: 0.0693 - mean_squared_error: 0.0693 - val_loss: 0.0774 - val_mean_squared_error: 0.0774\n",
      "Epoch 275/300\n",
      "250/250 [==============================] - 0s 1ms/step - loss: 0.0722 - mean_squared_error: 0.0722 - val_loss: 0.0812 - val_mean_squared_error: 0.0812\n",
      "Epoch 276/300\n",
      "250/250 [==============================] - 0s 1ms/step - loss: 0.0710 - mean_squared_error: 0.0710 - val_loss: 0.0814 - val_mean_squared_error: 0.0814\n",
      "Epoch 277/300\n",
      "250/250 [==============================] - 0s 1ms/step - loss: 0.0709 - mean_squared_error: 0.0709 - val_loss: 0.0773 - val_mean_squared_error: 0.0773\n",
      "Epoch 278/300\n",
      "250/250 [==============================] - 0s 1ms/step - loss: 0.0714 - mean_squared_error: 0.0714 - val_loss: 0.0748 - val_mean_squared_error: 0.0748\n",
      "Epoch 279/300\n",
      "250/250 [==============================] - 0s 1ms/step - loss: 0.0716 - mean_squared_error: 0.0716 - val_loss: 0.0773 - val_mean_squared_error: 0.0773\n",
      "Epoch 280/300\n",
      "250/250 [==============================] - 0s 1ms/step - loss: 0.0708 - mean_squared_error: 0.0708 - val_loss: 0.0792 - val_mean_squared_error: 0.0792\n",
      "Epoch 281/300\n",
      "250/250 [==============================] - 0s 1ms/step - loss: 0.0703 - mean_squared_error: 0.0703 - val_loss: 0.0829 - val_mean_squared_error: 0.0829\n",
      "Epoch 282/300\n",
      "250/250 [==============================] - 0s 1ms/step - loss: 0.0691 - mean_squared_error: 0.0691 - val_loss: 0.0790 - val_mean_squared_error: 0.0790\n",
      "Epoch 283/300\n",
      "250/250 [==============================] - 0s 1ms/step - loss: 0.0691 - mean_squared_error: 0.0691 - val_loss: 0.0795 - val_mean_squared_error: 0.0795\n",
      "Epoch 284/300\n",
      "250/250 [==============================] - 0s 1ms/step - loss: 0.0693 - mean_squared_error: 0.0693 - val_loss: 0.0772 - val_mean_squared_error: 0.0772\n",
      "Epoch 285/300\n",
      "250/250 [==============================] - 0s 1ms/step - loss: 0.0712 - mean_squared_error: 0.0712 - val_loss: 0.0768 - val_mean_squared_error: 0.0768\n",
      "Epoch 286/300\n",
      "250/250 [==============================] - 0s 1ms/step - loss: 0.0705 - mean_squared_error: 0.0705 - val_loss: 0.0776 - val_mean_squared_error: 0.0776\n",
      "Epoch 287/300\n",
      "250/250 [==============================] - 0s 1ms/step - loss: 0.0708 - mean_squared_error: 0.0708 - val_loss: 0.0780 - val_mean_squared_error: 0.0780\n",
      "Epoch 288/300\n",
      "250/250 [==============================] - 0s 1ms/step - loss: 0.0701 - mean_squared_error: 0.0701 - val_loss: 0.0756 - val_mean_squared_error: 0.0756\n",
      "Epoch 289/300\n",
      "250/250 [==============================] - 0s 1ms/step - loss: 0.0696 - mean_squared_error: 0.0696 - val_loss: 0.0785 - val_mean_squared_error: 0.0785\n",
      "Epoch 290/300\n",
      "250/250 [==============================] - 0s 1ms/step - loss: 0.0691 - mean_squared_error: 0.0691 - val_loss: 0.0770 - val_mean_squared_error: 0.0770\n",
      "Epoch 291/300\n",
      "250/250 [==============================] - 0s 1ms/step - loss: 0.0713 - mean_squared_error: 0.0713 - val_loss: 0.0773 - val_mean_squared_error: 0.0773\n",
      "Epoch 292/300\n",
      "250/250 [==============================] - 0s 1ms/step - loss: 0.0707 - mean_squared_error: 0.0707 - val_loss: 0.0764 - val_mean_squared_error: 0.0764\n",
      "Epoch 293/300\n",
      "250/250 [==============================] - 0s 1ms/step - loss: 0.0712 - mean_squared_error: 0.0712 - val_loss: 0.0771 - val_mean_squared_error: 0.0771\n",
      "Epoch 294/300\n",
      "250/250 [==============================] - 0s 1ms/step - loss: 0.0714 - mean_squared_error: 0.0714 - val_loss: 0.0767 - val_mean_squared_error: 0.0767\n",
      "Epoch 295/300\n",
      "250/250 [==============================] - 0s 1ms/step - loss: 0.0712 - mean_squared_error: 0.0712 - val_loss: 0.0756 - val_mean_squared_error: 0.0756\n",
      "Epoch 296/300\n",
      "250/250 [==============================] - 0s 1ms/step - loss: 0.0716 - mean_squared_error: 0.0716 - val_loss: 0.0794 - val_mean_squared_error: 0.0794\n",
      "Epoch 297/300\n",
      "250/250 [==============================] - 0s 1ms/step - loss: 0.0692 - mean_squared_error: 0.0692 - val_loss: 0.0795 - val_mean_squared_error: 0.0795\n",
      "Epoch 298/300\n",
      "250/250 [==============================] - 0s 1ms/step - loss: 0.0718 - mean_squared_error: 0.0718 - val_loss: 0.0774 - val_mean_squared_error: 0.0774\n"
     ]
    },
    {
     "name": "stdout",
     "output_type": "stream",
     "text": [
      "Epoch 299/300\n",
      "250/250 [==============================] - 0s 1ms/step - loss: 0.0707 - mean_squared_error: 0.0707 - val_loss: 0.0778 - val_mean_squared_error: 0.0778\n",
      "Epoch 300/300\n",
      "250/250 [==============================] - 0s 1ms/step - loss: 0.0711 - mean_squared_error: 0.0711 - val_loss: 0.0800 - val_mean_squared_error: 0.0800\n"
     ]
    }
   ],
   "source": [
    "regr.add(Dense(units=128,kernel_initializer= 'uniform',activation=\"relu\", input_shape=(5184,)))\n",
    "regr.add(Dropout(0.3))\n",
    "regr.add(Dense(units=64,kernel_initializer= 'uniform',activation=\"relu\"))\n",
    "regr.add(Dropout(0.3))\n",
    "regr.add(Dense(units=6,kernel_initializer= 'uniform'))\n",
    "regr.compile(optimizer=\"adam\", loss='mse', metrics= [\"mse\"])\n",
    "history=regr.fit(X_train,Y_train,validation_data=(X_vali,Y_vali),batch_size=32, epochs=300)"
   ]
  },
  {
   "cell_type": "code",
   "execution_count": 247,
   "metadata": {},
   "outputs": [
    {
     "data": {
      "text/plain": [
       "[<matplotlib.lines.Line2D at 0x1dea1ada978>]"
      ]
     },
     "execution_count": 247,
     "metadata": {},
     "output_type": "execute_result"
    },
    {
     "data": {
      "image/png": "[encoded data removed]",
      "text/plain": [
       "<Figure size 432x288 with 1 Axes>"
      ]
     },
     "metadata": {
      "needs_background": "light"
     },
     "output_type": "display_data"
    }
   ],
   "source": [
    "plt.plot(history.history[\"mean_squared_error\"])\n",
    "plt.plot(history.history[\"val_mean_squared_error\"])"
   ]
  },
  {
   "cell_type": "code",
   "execution_count": 248,
   "metadata": {},
   "outputs": [],
   "source": [
    "def m_test_regr():\n",
    "    np.random.seed(50)\n",
    "    [X_test, Y_test] = m_dta_regr(300, 20)\n",
    "    return [X_test, Y_test]"
   ]
  },
  {
   "cell_type": "code",
   "execution_count": 249,
   "metadata": {},
   "outputs": [
    {
     "name": "stdout",
     "output_type": "stream",
     "text": [
      "Creating data:\n",
      "0\n",
      "10\n",
      "20\n",
      "30\n",
      "40\n",
      "50\n",
      "60\n",
      "70\n",
      "80\n",
      "90\n",
      "100\n",
      "110\n",
      "120\n",
      "130\n",
      "140\n",
      "150\n",
      "160\n",
      "170\n",
      "180\n",
      "190\n",
      "200\n",
      "210\n",
      "220\n",
      "230\n",
      "240\n",
      "250\n",
      "260\n",
      "270\n",
      "280\n",
      "290\n"
     ]
    }
   ],
   "source": [
    "[X_test, Y_test] = m_test_regr()"
   ]
  },
  {
   "cell_type": "code",
   "execution_count": 250,
   "metadata": {},
   "outputs": [],
   "source": [
    "Y_pred=regr.predict(X_test)"
   ]
  },
  {
   "cell_type": "code",
   "execution_count": 251,
   "metadata": {},
   "outputs": [
    {
     "data": {
      "image/png": "[encoded data removed]",
      "text/plain": [
       "<Figure size 360x360 with 1 Axes>"
      ]
     },
     "metadata": {
      "needs_background": "light"
     },
     "output_type": "display_data"
    },
    {
     "data": {
      "image/png": "[encoded data removed]",
      "text/plain": [
       "<Figure size 360x360 with 1 Axes>"
      ]
     },
     "metadata": {
      "needs_background": "light"
     },
     "output_type": "display_data"
    }
   ],
   "source": [
    "visu_pred(X_test[1], Y_test[1])\n",
    "visu_pred(X_test[1], Y_pred[1])"
   ]
  },
  {
   "cell_type": "code",
   "execution_count": 252,
   "metadata": {},
   "outputs": [],
   "source": [
    "X_Train = X_train.reshape([-1, 72,72,1])\n",
    "X_Vali = X_vali.reshape([-1, 72,72,1])"
   ]
  },
  {
   "cell_type": "code",
   "execution_count": 253,
   "metadata": {},
   "outputs": [],
   "source": [
    "from keras.layers import BatchNormalization"
   ]
  },
  {
   "cell_type": "code",
   "execution_count": 255,
   "metadata": {},
   "outputs": [
    {
     "name": "stdout",
     "output_type": "stream",
     "text": [
      "Train on 250 samples, validate on 250 samples\n",
      "Epoch 1/20\n"
     ]
    },
    {
     "ename": "KeyboardInterrupt",
     "evalue": "",
     "output_type": "error",
     "traceback": [
      "\u001b[1;31m---------------------------------------------------------------------------\u001b[0m",
      "\u001b[1;31mKeyboardInterrupt\u001b[0m                         Traceback (most recent call last)",
      "\u001b[1;32m<ipython-input-255-f7f253883446>\u001b[0m in \u001b[0;36m<module>\u001b[1;34m\u001b[0m\n\u001b[0;32m     23\u001b[0m \u001b[0mC_regr\u001b[0m\u001b[1;33m.\u001b[0m\u001b[0madd\u001b[0m\u001b[1;33m(\u001b[0m\u001b[0mDense\u001b[0m\u001b[1;33m(\u001b[0m\u001b[0munits\u001b[0m\u001b[1;33m=\u001b[0m\u001b[1;36m6\u001b[0m\u001b[1;33m,\u001b[0m \u001b[0mkernel_initializer\u001b[0m\u001b[1;33m=\u001b[0m\u001b[1;34m\"uniform\"\u001b[0m\u001b[1;33m)\u001b[0m\u001b[1;33m)\u001b[0m\u001b[1;33m\u001b[0m\u001b[0m\n\u001b[0;32m     24\u001b[0m \u001b[0mC_regr\u001b[0m\u001b[1;33m.\u001b[0m\u001b[0mcompile\u001b[0m\u001b[1;33m(\u001b[0m\u001b[0mloss\u001b[0m\u001b[1;33m=\u001b[0m\u001b[1;34m'mse'\u001b[0m\u001b[1;33m,\u001b[0m \u001b[0moptimizer\u001b[0m\u001b[1;33m=\u001b[0m\u001b[1;34m'adam'\u001b[0m\u001b[1;33m,\u001b[0m \u001b[0mmetrics\u001b[0m\u001b[1;33m=\u001b[0m \u001b[1;33m[\u001b[0m\u001b[1;34m\"mse\"\u001b[0m\u001b[1;33m]\u001b[0m\u001b[1;33m)\u001b[0m\u001b[1;33m\u001b[0m\u001b[0m\n\u001b[1;32m---> 25\u001b[1;33m \u001b[0mhistory\u001b[0m\u001b[1;33m=\u001b[0m\u001b[0mC_regr\u001b[0m\u001b[1;33m.\u001b[0m\u001b[0mfit\u001b[0m\u001b[1;33m(\u001b[0m\u001b[0mX_Train\u001b[0m\u001b[1;33m,\u001b[0m\u001b[0mY_train\u001b[0m\u001b[1;33m,\u001b[0m\u001b[0mbatch_size\u001b[0m\u001b[1;33m=\u001b[0m\u001b[1;36m32\u001b[0m\u001b[1;33m,\u001b[0m \u001b[0mvalidation_data\u001b[0m\u001b[1;33m=\u001b[0m\u001b[1;33m(\u001b[0m\u001b[0mX_Vali\u001b[0m\u001b[1;33m,\u001b[0m \u001b[0mY_vali\u001b[0m\u001b[1;33m)\u001b[0m\u001b[1;33m,\u001b[0m\u001b[0mepochs\u001b[0m\u001b[1;33m=\u001b[0m\u001b[1;36m20\u001b[0m\u001b[1;33m)\u001b[0m\u001b[1;33m\u001b[0m\u001b[0m\n\u001b[0m",
      "\u001b[1;32m~\\Anaconda3f\\envs\\myEnv\\lib\\site-packages\\keras\\engine\\training.py\u001b[0m in \u001b[0;36mfit\u001b[1;34m(self, x, y, batch_size, epochs, verbose, callbacks, validation_split, validation_data, shuffle, class_weight, sample_weight, initial_epoch, steps_per_epoch, validation_steps, **kwargs)\u001b[0m\n\u001b[0;32m   1037\u001b[0m                                         \u001b[0minitial_epoch\u001b[0m\u001b[1;33m=\u001b[0m\u001b[0minitial_epoch\u001b[0m\u001b[1;33m,\u001b[0m\u001b[1;33m\u001b[0m\u001b[0m\n\u001b[0;32m   1038\u001b[0m                                         \u001b[0msteps_per_epoch\u001b[0m\u001b[1;33m=\u001b[0m\u001b[0msteps_per_epoch\u001b[0m\u001b[1;33m,\u001b[0m\u001b[1;33m\u001b[0m\u001b[0m\n\u001b[1;32m-> 1039\u001b[1;33m                                         validation_steps=validation_steps)\n\u001b[0m\u001b[0;32m   1040\u001b[0m \u001b[1;33m\u001b[0m\u001b[0m\n\u001b[0;32m   1041\u001b[0m     def evaluate(self, x=None, y=None,\n",
      "\u001b[1;32m~\\Anaconda3f\\envs\\myEnv\\lib\\site-packages\\keras\\engine\\training_arrays.py\u001b[0m in \u001b[0;36mfit_loop\u001b[1;34m(model, f, ins, out_labels, batch_size, epochs, verbose, callbacks, val_f, val_ins, shuffle, callback_metrics, initial_epoch, steps_per_epoch, validation_steps)\u001b[0m\n\u001b[0;32m    197\u001b[0m                     \u001b[0mins_batch\u001b[0m\u001b[1;33m[\u001b[0m\u001b[0mi\u001b[0m\u001b[1;33m]\u001b[0m \u001b[1;33m=\u001b[0m \u001b[0mins_batch\u001b[0m\u001b[1;33m[\u001b[0m\u001b[0mi\u001b[0m\u001b[1;33m]\u001b[0m\u001b[1;33m.\u001b[0m\u001b[0mtoarray\u001b[0m\u001b[1;33m(\u001b[0m\u001b[1;33m)\u001b[0m\u001b[1;33m\u001b[0m\u001b[0m\n\u001b[0;32m    198\u001b[0m \u001b[1;33m\u001b[0m\u001b[0m\n\u001b[1;32m--> 199\u001b[1;33m                 \u001b[0mouts\u001b[0m \u001b[1;33m=\u001b[0m \u001b[0mf\u001b[0m\u001b[1;33m(\u001b[0m\u001b[0mins_batch\u001b[0m\u001b[1;33m)\u001b[0m\u001b[1;33m\u001b[0m\u001b[0m\n\u001b[0m\u001b[0;32m    200\u001b[0m                 \u001b[0mouts\u001b[0m \u001b[1;33m=\u001b[0m \u001b[0mto_list\u001b[0m\u001b[1;33m(\u001b[0m\u001b[0mouts\u001b[0m\u001b[1;33m)\u001b[0m\u001b[1;33m\u001b[0m\u001b[0m\n\u001b[0;32m    201\u001b[0m                 \u001b[1;32mfor\u001b[0m \u001b[0ml\u001b[0m\u001b[1;33m,\u001b[0m \u001b[0mo\u001b[0m \u001b[1;32min\u001b[0m \u001b[0mzip\u001b[0m\u001b[1;33m(\u001b[0m\u001b[0mout_labels\u001b[0m\u001b[1;33m,\u001b[0m \u001b[0mouts\u001b[0m\u001b[1;33m)\u001b[0m\u001b[1;33m:\u001b[0m\u001b[1;33m\u001b[0m\u001b[0m\n",
      "\u001b[1;32m~\\Anaconda3f\\envs\\myEnv\\lib\\site-packages\\keras\\backend\\tensorflow_backend.py\u001b[0m in \u001b[0;36m__call__\u001b[1;34m(self, inputs)\u001b[0m\n\u001b[0;32m   2713\u001b[0m                 \u001b[1;32mreturn\u001b[0m \u001b[0mself\u001b[0m\u001b[1;33m.\u001b[0m\u001b[0m_legacy_call\u001b[0m\u001b[1;33m(\u001b[0m\u001b[0minputs\u001b[0m\u001b[1;33m)\u001b[0m\u001b[1;33m\u001b[0m\u001b[0m\n\u001b[0;32m   2714\u001b[0m \u001b[1;33m\u001b[0m\u001b[0m\n\u001b[1;32m-> 2715\u001b[1;33m             \u001b[1;32mreturn\u001b[0m \u001b[0mself\u001b[0m\u001b[1;33m.\u001b[0m\u001b[0m_call\u001b[0m\u001b[1;33m(\u001b[0m\u001b[0minputs\u001b[0m\u001b[1;33m)\u001b[0m\u001b[1;33m\u001b[0m\u001b[0m\n\u001b[0m\u001b[0;32m   2716\u001b[0m         \u001b[1;32melse\u001b[0m\u001b[1;33m:\u001b[0m\u001b[1;33m\u001b[0m\u001b[0m\n\u001b[0;32m   2717\u001b[0m             \u001b[1;32mif\u001b[0m \u001b[0mpy_any\u001b[0m\u001b[1;33m(\u001b[0m\u001b[0mis_tensor\u001b[0m\u001b[1;33m(\u001b[0m\u001b[0mx\u001b[0m\u001b[1;33m)\u001b[0m \u001b[1;32mfor\u001b[0m \u001b[0mx\u001b[0m \u001b[1;32min\u001b[0m \u001b[0minputs\u001b[0m\u001b[1;33m)\u001b[0m\u001b[1;33m:\u001b[0m\u001b[1;33m\u001b[0m\u001b[0m\n",
      "\u001b[1;32m~\\Anaconda3f\\envs\\myEnv\\lib\\site-packages\\keras\\backend\\tensorflow_backend.py\u001b[0m in \u001b[0;36m_call\u001b[1;34m(self, inputs)\u001b[0m\n\u001b[0;32m   2673\u001b[0m             \u001b[0mfetched\u001b[0m \u001b[1;33m=\u001b[0m \u001b[0mself\u001b[0m\u001b[1;33m.\u001b[0m\u001b[0m_callable_fn\u001b[0m\u001b[1;33m(\u001b[0m\u001b[1;33m*\u001b[0m\u001b[0marray_vals\u001b[0m\u001b[1;33m,\u001b[0m \u001b[0mrun_metadata\u001b[0m\u001b[1;33m=\u001b[0m\u001b[0mself\u001b[0m\u001b[1;33m.\u001b[0m\u001b[0mrun_metadata\u001b[0m\u001b[1;33m)\u001b[0m\u001b[1;33m\u001b[0m\u001b[0m\n\u001b[0;32m   2674\u001b[0m         \u001b[1;32melse\u001b[0m\u001b[1;33m:\u001b[0m\u001b[1;33m\u001b[0m\u001b[0m\n\u001b[1;32m-> 2675\u001b[1;33m             \u001b[0mfetched\u001b[0m \u001b[1;33m=\u001b[0m \u001b[0mself\u001b[0m\u001b[1;33m.\u001b[0m\u001b[0m_callable_fn\u001b[0m\u001b[1;33m(\u001b[0m\u001b[1;33m*\u001b[0m\u001b[0marray_vals\u001b[0m\u001b[1;33m)\u001b[0m\u001b[1;33m\u001b[0m\u001b[0m\n\u001b[0m\u001b[0;32m   2676\u001b[0m         \u001b[1;32mreturn\u001b[0m \u001b[0mfetched\u001b[0m\u001b[1;33m[\u001b[0m\u001b[1;33m:\u001b[0m\u001b[0mlen\u001b[0m\u001b[1;33m(\u001b[0m\u001b[0mself\u001b[0m\u001b[1;33m.\u001b[0m\u001b[0moutputs\u001b[0m\u001b[1;33m)\u001b[0m\u001b[1;33m]\u001b[0m\u001b[1;33m\u001b[0m\u001b[0m\n\u001b[0;32m   2677\u001b[0m \u001b[1;33m\u001b[0m\u001b[0m\n",
      "\u001b[1;32m~\\Anaconda3f\\envs\\myEnv\\lib\\site-packages\\tensorflow\\python\\client\\session.py\u001b[0m in \u001b[0;36m__call__\u001b[1;34m(self, *args, **kwargs)\u001b[0m\n\u001b[0;32m   1380\u001b[0m           ret = tf_session.TF_SessionRunCallable(\n\u001b[0;32m   1381\u001b[0m               \u001b[0mself\u001b[0m\u001b[1;33m.\u001b[0m\u001b[0m_session\u001b[0m\u001b[1;33m.\u001b[0m\u001b[0m_session\u001b[0m\u001b[1;33m,\u001b[0m \u001b[0mself\u001b[0m\u001b[1;33m.\u001b[0m\u001b[0m_handle\u001b[0m\u001b[1;33m,\u001b[0m \u001b[0margs\u001b[0m\u001b[1;33m,\u001b[0m \u001b[0mstatus\u001b[0m\u001b[1;33m,\u001b[0m\u001b[1;33m\u001b[0m\u001b[0m\n\u001b[1;32m-> 1382\u001b[1;33m               run_metadata_ptr)\n\u001b[0m\u001b[0;32m   1383\u001b[0m         \u001b[1;32mif\u001b[0m \u001b[0mrun_metadata\u001b[0m\u001b[1;33m:\u001b[0m\u001b[1;33m\u001b[0m\u001b[0m\n\u001b[0;32m   1384\u001b[0m           \u001b[0mproto_data\u001b[0m \u001b[1;33m=\u001b[0m \u001b[0mtf_session\u001b[0m\u001b[1;33m.\u001b[0m\u001b[0mTF_GetBuffer\u001b[0m\u001b[1;33m(\u001b[0m\u001b[0mrun_metadata_ptr\u001b[0m\u001b[1;33m)\u001b[0m\u001b[1;33m\u001b[0m\u001b[0m\n",
      "\u001b[1;31mKeyboardInterrupt\u001b[0m: "
     ]
    }
   ],
   "source": [
    "C_regr = Sequential()\n",
    "\n",
    "C_regr.add(Conv2D(256,(3,3),input_shape=(72,72,1,),padding=\"same\", activation='relu'))\n",
    "C_regr.add(BatchNormalization())\n",
    "C_regr.add(MaxPooling2D(pool_size=(2,2)))\n",
    "\n",
    "C_regr.add(Conv2D(256,(3,3),input_shape=(72,72,1,), padding=\"same\",activation='relu'))\n",
    "C_regr.add(BatchNormalization())\n",
    "C_regr.add(MaxPooling2D(pool_size=(2,2)))\n",
    "\n",
    "C_regr.add(Conv2D(256,(3,3),input_shape=(72,72,1,), padding=\"same\",activation='relu'))\n",
    "C_regr.add(BatchNormalization())\n",
    "C_regr.add(MaxPooling2D(pool_size=(2,2)))\n",
    "\n",
    "C_regr.add(Conv2D(256,(3,3),input_shape=(72,72,1,), padding=\"same\",activation='relu'))\n",
    "C_regr.add(BatchNormalization())\n",
    "C_regr.add(MaxPooling2D(pool_size=(2,2)))\n",
    "\n",
    "\n",
    "C_regr.add(Flatten())\n",
    "C_regr.add(Dense(units=128, kernel_initializer=\"uniform\", activation=\"relu\"))\n",
    "C_regr.add(BatchNormalization())\n",
    "C_regr.add(Dense(units=6, kernel_initializer=\"uniform\"))\n",
    "C_regr.compile(loss='mse', optimizer='adam', metrics= [\"mse\"])\n",
    "history=C_regr.fit(X_Train,Y_train,batch_size=32, validation_data=(X_Vali, Y_vali),epochs=20)"
   ]
  },
  {
   "cell_type": "code",
   "execution_count": 256,
   "metadata": {},
   "outputs": [],
   "source": [
    "X_Test = X_test.reshape([-1, 72,72,1])"
   ]
  },
  {
   "cell_type": "code",
   "execution_count": 257,
   "metadata": {},
   "outputs": [],
   "source": [
    "Y_pred=C_regr.predict(X_Test)"
   ]
  },
  {
   "cell_type": "code",
   "execution_count": 258,
   "metadata": {},
   "outputs": [
    {
     "data": {
      "image/png": "[encoded data removed]",
      "text/plain": [
       "<Figure size 360x360 with 1 Axes>"
      ]
     },
     "metadata": {
      "needs_background": "light"
     },
     "output_type": "display_data"
    },
    {
     "data": {
      "image/png": "[encoded data removed]",
      "text/plain": [
       "<Figure size 360x360 with 1 Axes>"
      ]
     },
     "metadata": {
      "needs_background": "light"
     },
     "output_type": "display_data"
    }
   ],
   "source": [
    "visu_pred(X_test[10], Y_test[10])\n",
    "visu_pred(X_test[10], Y_pred[10])"
   ]
  },
  {
   "cell_type": "markdown",
   "metadata": {},
   "source": [
    "## Denoise "
   ]
  },
  {
   "cell_type": "code",
   "execution_count": 259,
   "metadata": {},
   "outputs": [],
   "source": [
    "def m_drawing_denoise(figsize, U, V, noise=0.0):\n",
    "    fg = plt.figure(figsize=(figsize, figsize))\n",
    "    ax = plt.subplot(111)\n",
    "    plt.axis('Off')\n",
    "    ax.set_xlim(0, figsize)\n",
    "    ax.set_ylim(0, figsize)\n",
    "    ax.fill(U, V, \"k\")\n",
    "    fg.canvas.draw()\n",
    "    idta = np.frombuffer(fg.canvas.tostring_rgb(), dtype=np.uint8)[\n",
    "        ::3].astype(np.float32)\n",
    "    idtan = idta + noise * np.random.random(idta.size)\n",
    "    plt.close(fg)\n",
    "    return idtan, idta"
   ]
  },
  {
   "cell_type": "code",
   "execution_count": 260,
   "metadata": {},
   "outputs": [],
   "source": [
    "def m_disk_denoise(noise=0.0, free_location=False):\n",
    "    figsize = 1.0\n",
    "    if free_location:\n",
    "        center = np.random.random(2)\n",
    "    else:\n",
    "        center = (figsize / 2, figsize / 2)\n",
    "    radius = (0.3 + 0.7 * np.random.random()) * figsize / 2\n",
    "    N = 50\n",
    "    U = np.zeros(N)\n",
    "    V = np.zeros(N)\n",
    "    i = 0\n",
    "    for t in np.linspace(0, 2 * np.pi, N):\n",
    "        U[i] = center[0] + np.cos(t) * radius\n",
    "        V[i] = center[1] + np.sin(t) * radius\n",
    "        i = i + 1\n",
    "    return m_drawing_denoise(figsize, U, V, noise)"
   ]
  },
  {
   "cell_type": "code",
   "execution_count": 261,
   "metadata": {},
   "outputs": [],
   "source": [
    "def m_triangle_denoise(noise=0.0, free_location=False):\n",
    "    figsize = 1.0\n",
    "    if free_location:\n",
    "        U = np.random.random(3)\n",
    "        V = np.random.random(3)\n",
    "    else:\n",
    "        size = (0.3 + 0.7 * np.random.random()) * figsize / 2\n",
    "        middle = figsize / 2\n",
    "        U = (middle, middle + size, middle - size)\n",
    "        V = (middle + size, middle - size, middle - size)\n",
    "    idtan, idta = m_drawing_denoise(figsize, U, V, noise)\n",
    "    return [idtan,idta, [U[0], V[0], U[1], V[1], U[2], V[2]]]"
   ]
  },
  {
   "cell_type": "code",
   "execution_count": 262,
   "metadata": {},
   "outputs": [],
   "source": [
    "def m_rectangle_denoise(noise=0.0, free_location=False):\n",
    "    figsize = 1.0\n",
    "    U = np.zeros(4)\n",
    "    V = np.zeros(4)\n",
    "    if free_location:\n",
    "        corners = np.random.random(4)\n",
    "        top = max(corners[0], corners[1])\n",
    "        bottom = min(corners[0], corners[1])\n",
    "        left = min(corners[2], corners[3])\n",
    "        right = max(corners[2], corners[3])\n",
    "    else:\n",
    "        side = (0.3 + 0.7 * np.random.random()) * figsize\n",
    "        top = figsize / 2 + side / 2\n",
    "        bottom = figsize / 2 - side / 2\n",
    "        left = bottom\n",
    "        right = top\n",
    "    U[0] = U[1] = top\n",
    "    U[2] = U[3] = bottom\n",
    "    V[0] = V[3] = left\n",
    "    V[1] = V[2] = right\n",
    "    return m_drawing_denoise(figsize, U, V, noise)"
   ]
  },
  {
   "cell_type": "code",
   "execution_count": 263,
   "metadata": {},
   "outputs": [],
   "source": [
    "def m_dta_denoise(smpls, noise=0.0, free_location=False):\n",
    "    i_size = m_rectangle_denoise()[0].shape[0]\n",
    "    X = np.zeros([smpls, i_size])\n",
    "    Y = np.zeros([smpls, i_size])\n",
    "    print('Creating data:')\n",
    "    for i in range(smpls):\n",
    "        if i % 100 == 0:\n",
    "            print(i)\n",
    "        category = np.random.randint(3)\n",
    "        if category == 0:\n",
    "            X[i], Y[i] = m_rectangle_denoise(noise, free_location)\n",
    "        elif category == 1:\n",
    "            X[i],Y[i] = m_disk_denoise(noise, free_location)\n",
    "        else:\n",
    "            [X[i],Y[i], V] = m_triangle_denoise(noise, free_location)\n",
    "    X = (X + noise) / (255 + 2 * noise)\n",
    "    Y = Y/255\n",
    "    return [X, Y]"
   ]
  },
  {
   "cell_type": "code",
   "execution_count": 264,
   "metadata": {},
   "outputs": [
    {
     "name": "stdout",
     "output_type": "stream",
     "text": [
      "Creating data:\n",
      "0\n",
      "100\n",
      "200\n",
      "300\n",
      "400\n",
      "500\n"
     ]
    }
   ],
   "source": [
    "[X_train3,Y_train3]=m_dta_denoise(600,20,True)"
   ]
  },
  {
   "cell_type": "code",
   "execution_count": 267,
   "metadata": {},
   "outputs": [
    {
     "data": {
      "text/plain": [
       "<matplotlib.image.AxesImage at 0x1deaaa06e10>"
      ]
     },
     "execution_count": 267,
     "metadata": {},
     "output_type": "execute_result"
    },
    {
     "data": {
      "image/png": "[encoded data removed]",
      "text/plain": [
       "<Figure size 432x288 with 1 Axes>"
      ]
     },
     "metadata": {
      "needs_background": "light"
     },
     "output_type": "display_data"
    }
   ],
   "source": [
    "plt.imshow(Y_train3[200].reshape(IMAGE_SIZE, IMAGE_SIZE), cmap='gray')"
   ]
  },
  {
   "cell_type": "code",
   "execution_count": 268,
   "metadata": {},
   "outputs": [
    {
     "data": {
      "text/plain": [
       "<matplotlib.image.AxesImage at 0x1deaaa657f0>"
      ]
     },
     "execution_count": 268,
     "metadata": {},
     "output_type": "execute_result"
    },
    {
     "data": {
      "image/png": "[encoded data removed]",
      "text/plain": [
       "<Figure size 432x288 with 1 Axes>"
      ]
     },
     "metadata": {
      "needs_background": "light"
     },
     "output_type": "display_data"
    }
   ],
   "source": [
    "plt.imshow(X_train3[200].reshape(IMAGE_SIZE, IMAGE_SIZE), cmap='gray')"
   ]
  },
  {
   "cell_type": "code",
   "execution_count": 269,
   "metadata": {},
   "outputs": [],
   "source": [
    "X_train3 = X_train3.reshape(X_train3.shape[0],72,72,1)\n",
    "Y_train3 = Y_train3.reshape(Y_train3.shape[0],72,72,1)"
   ]
  },
  {
   "cell_type": "code",
   "execution_count": 270,
   "metadata": {},
   "outputs": [],
   "source": [
    "from keras.layers import UpSampling2D"
   ]
  },
  {
   "cell_type": "code",
   "execution_count": 271,
   "metadata": {},
   "outputs": [],
   "source": [
    "class5 = Sequential()\n",
    "class5.add(Conv2D(32,(3, 3), activation='relu',padding = 'same' ,input_shape=(72,72,1)))\n",
    "class5.add(MaxPooling2D(pool_size=(2, 2)))\n",
    "class5.add(Conv2D(32,(3,3), activation = 'relu', padding = 'same'))\n",
    "class5.add(MaxPooling2D(pool_size=(2,2)))\n",
    "\n",
    "class5.add(Conv2D(32, kernel_size=(3, 3), activation='relu', padding = 'same'))\n",
    "class5.add(UpSampling2D(size=(2, 2)))\n",
    "class5.add(Conv2D(32, kernel_size=(3, 3), activation='relu', padding = 'same'))\n",
    "class5.add(UpSampling2D(size=(2, 2)))\n",
    "class5.add(Conv2D(1, kernel_size=(3, 3), activation='sigmoid', padding = 'same'))"
   ]
  },
  {
   "cell_type": "code",
   "execution_count": 272,
   "metadata": {},
   "outputs": [],
   "source": [
    "class5.compile(optimizer='adadelta',loss='binary_crossentropy',metrics=['accuracy'])"
   ]
  },
  {
   "cell_type": "code",
   "execution_count": 273,
   "metadata": {},
   "outputs": [
    {
     "name": "stdout",
     "output_type": "stream",
     "text": [
      "Epoch 1/75\n",
      "600/600 [==============================] - 20s 33ms/step - loss: 0.4163 - acc: 0.8273\n",
      "Epoch 2/75\n",
      "600/600 [==============================] - 18s 30ms/step - loss: 0.2005 - acc: 0.9122\n",
      "Epoch 3/75\n",
      "600/600 [==============================] - 18s 30ms/step - loss: 0.1515 - acc: 0.9563\n",
      "Epoch 4/75\n",
      "600/600 [==============================] - 18s 30ms/step - loss: 0.0934 - acc: 0.9728\n",
      "Epoch 5/75\n",
      "600/600 [==============================] - 18s 30ms/step - loss: 0.0447 - acc: 0.9851\n",
      "Epoch 6/75\n",
      "600/600 [==============================] - 18s 30ms/step - loss: 0.0476 - acc: 0.9835\n",
      "Epoch 7/75\n",
      "600/600 [==============================] - 19s 31ms/step - loss: 0.0425 - acc: 0.9838\n",
      "Epoch 8/75\n",
      "600/600 [==============================] - 18s 30ms/step - loss: 0.0310 - acc: 0.9885\n",
      "Epoch 9/75\n",
      "600/600 [==============================] - 19s 32ms/step - loss: 0.0404 - acc: 0.9845\n",
      "Epoch 10/75\n",
      "600/600 [==============================] - 18s 30ms/step - loss: 0.0288 - acc: 0.9889\n",
      "Epoch 11/75\n",
      "600/600 [==============================] - 19s 31ms/step - loss: 0.0314 - acc: 0.9872\n",
      "Epoch 12/75\n",
      "600/600 [==============================] - 18s 30ms/step - loss: 0.0265 - acc: 0.9900\n",
      "Epoch 13/75\n",
      "600/600 [==============================] - 19s 31ms/step - loss: 0.0301 - acc: 0.9875\n",
      "Epoch 14/75\n",
      "600/600 [==============================] - 18s 30ms/step - loss: 0.0210 - acc: 0.9925\n",
      "Epoch 15/75\n",
      "600/600 [==============================] - 19s 32ms/step - loss: 0.0270 - acc: 0.9889\n",
      "Epoch 16/75\n",
      "600/600 [==============================] - 18s 31ms/step - loss: 0.0190 - acc: 0.9931\n",
      "Epoch 17/75\n",
      "600/600 [==============================] - 19s 31ms/step - loss: 0.0283 - acc: 0.9880\n",
      "Epoch 18/75\n",
      "600/600 [==============================] - 18s 30ms/step - loss: 0.0173 - acc: 0.9939\n",
      "Epoch 19/75\n",
      "600/600 [==============================] - 18s 30ms/step - loss: 0.0232 - acc: 0.9908\n",
      "Epoch 20/75\n",
      "600/600 [==============================] - 19s 32ms/step - loss: 0.0194 - acc: 0.9924\n",
      "Epoch 21/75\n",
      "600/600 [==============================] - 20s 33ms/step - loss: 0.0173 - acc: 0.9934\n",
      "Epoch 22/75\n",
      "600/600 [==============================] - 18s 31ms/step - loss: 0.0235 - acc: 0.9902\n",
      "Epoch 23/75\n",
      "600/600 [==============================] - 18s 31ms/step - loss: 0.0176 - acc: 0.9931\n",
      "Epoch 24/75\n",
      "600/600 [==============================] - 18s 30ms/step - loss: 0.0177 - acc: 0.9930\n",
      "Epoch 25/75\n",
      "600/600 [==============================] - 18s 30ms/step - loss: 0.0164 - acc: 0.9936\n",
      "Epoch 26/75\n",
      "600/600 [==============================] - 18s 30ms/step - loss: 0.0161 - acc: 0.9936\n",
      "Epoch 27/75\n",
      "600/600 [==============================] - 19s 32ms/step - loss: 0.0206 - acc: 0.9912\n",
      "Epoch 28/75\n",
      "600/600 [==============================] - 19s 31ms/step - loss: 0.0123 - acc: 0.9956\n",
      "Epoch 29/75\n",
      "600/600 [==============================] - 18s 31ms/step - loss: 0.0169 - acc: 0.9931\n",
      "Epoch 30/75\n",
      "600/600 [==============================] - 18s 30ms/step - loss: 0.0177 - acc: 0.9927\n",
      "Epoch 31/75\n",
      "600/600 [==============================] - 18s 30ms/step - loss: 0.0146 - acc: 0.9941\n",
      "Epoch 32/75\n",
      "600/600 [==============================] - 18s 30ms/step - loss: 0.0134 - acc: 0.9946\n",
      "Epoch 33/75\n",
      "600/600 [==============================] - 19s 31ms/step - loss: 0.0154 - acc: 0.9934\n",
      "Epoch 34/75\n",
      "600/600 [==============================] - 18s 31ms/step - loss: 0.0177 - acc: 0.9923\n",
      "Epoch 35/75\n",
      "600/600 [==============================] - 18s 30ms/step - loss: 0.0097 - acc: 0.9967\n",
      "Epoch 36/75\n",
      "600/600 [==============================] - 18s 31ms/step - loss: 0.0153 - acc: 0.9936\n",
      "Epoch 37/75\n",
      "600/600 [==============================] - 19s 32ms/step - loss: 0.0194 - acc: 0.9920\n",
      "Epoch 38/75\n",
      "600/600 [==============================] - 18s 31ms/step - loss: 0.0087 - acc: 0.9972\n",
      "Epoch 39/75\n",
      "600/600 [==============================] - 18s 31ms/step - loss: 0.0099 - acc: 0.9962\n",
      "Epoch 40/75\n",
      "600/600 [==============================] - 19s 32ms/step - loss: 0.0162 - acc: 0.9929\n",
      "Epoch 41/75\n",
      "600/600 [==============================] - 18s 31ms/step - loss: 0.0124 - acc: 0.9948\n",
      "Epoch 42/75\n",
      "600/600 [==============================] - 19s 31ms/step - loss: 0.0087 - acc: 0.9969\n",
      "Epoch 43/75\n",
      "600/600 [==============================] - 19s 31ms/step - loss: 0.0139 - acc: 0.9940\n",
      "Epoch 44/75\n",
      "600/600 [==============================] - 19s 32ms/step - loss: 0.0111 - acc: 0.9954\n",
      "Epoch 45/75\n",
      "600/600 [==============================] - 18s 30ms/step - loss: 0.0090 - acc: 0.9964\n",
      "Epoch 46/75\n",
      "600/600 [==============================] - 18s 30ms/step - loss: 0.0143 - acc: 0.9936\n",
      "Epoch 47/75\n",
      "600/600 [==============================] - 19s 32ms/step - loss: 0.0093 - acc: 0.9963\n",
      "Epoch 48/75\n",
      "600/600 [==============================] - 18s 30ms/step - loss: 0.0075 - acc: 0.9973\n",
      "Epoch 49/75\n",
      "600/600 [==============================] - 19s 31ms/step - loss: 0.0144 - acc: 0.9938\n",
      "Epoch 50/75\n",
      "600/600 [==============================] - 19s 32ms/step - loss: 0.0069 - acc: 0.9976\n",
      "Epoch 51/75\n",
      "600/600 [==============================] - 19s 31ms/step - loss: 0.0093 - acc: 0.9961\n",
      "Epoch 52/75\n",
      "600/600 [==============================] - 19s 31ms/step - loss: 0.0144 - acc: 0.9937\n",
      "Epoch 53/75\n",
      "600/600 [==============================] - 19s 31ms/step - loss: 0.0069 - acc: 0.9975\n",
      "Epoch 54/75\n",
      "600/600 [==============================] - 18s 30ms/step - loss: 0.0067 - acc: 0.9975\n",
      "Epoch 55/75\n",
      "600/600 [==============================] - 18s 30ms/step - loss: 0.0134 - acc: 0.9941\n",
      "Epoch 56/75\n",
      "600/600 [==============================] - 19s 32ms/step - loss: 0.0120 - acc: 0.9949\n",
      "Epoch 57/75\n",
      "600/600 [==============================] - 18s 30ms/step - loss: 0.0058 - acc: 0.9980\n",
      "Epoch 58/75\n",
      "600/600 [==============================] - 18s 30ms/step - loss: 0.0056 - acc: 0.9981\n",
      "Epoch 59/75\n",
      "600/600 [==============================] - 19s 31ms/step - loss: 0.0062 - acc: 0.9976\n",
      "Epoch 60/75\n",
      "600/600 [==============================] - 18s 31ms/step - loss: 0.0118 - acc: 0.9948\n",
      "Epoch 61/75\n",
      "600/600 [==============================] - 18s 30ms/step - loss: 0.0057 - acc: 0.9980\n",
      "Epoch 62/75\n",
      "600/600 [==============================] - 18s 31ms/step - loss: 0.0088 - acc: 0.9962\n",
      "Epoch 63/75\n",
      "600/600 [==============================] - 19s 32ms/step - loss: 0.0092 - acc: 0.9960\n",
      "Epoch 64/75\n",
      "600/600 [==============================] - 18s 30ms/step - loss: 0.0052 - acc: 0.9981\n",
      "Epoch 65/75\n",
      "600/600 [==============================] - 19s 32ms/step - loss: 0.0080 - acc: 0.9966\n",
      "Epoch 66/75\n",
      "600/600 [==============================] - 19s 31ms/step - loss: 0.0104 - acc: 0.9956\n",
      "Epoch 67/75\n",
      "600/600 [==============================] - 19s 32ms/step - loss: 0.0049 - acc: 0.9983\n",
      "Epoch 68/75\n",
      "600/600 [==============================] - 18s 30ms/step - loss: 0.0047 - acc: 0.9983\n",
      "Epoch 69/75\n",
      "600/600 [==============================] - 18s 30ms/step - loss: 0.0046 - acc: 0.9984\n",
      "Epoch 70/75\n",
      "600/600 [==============================] - 18s 31ms/step - loss: 0.0120 - acc: 0.9950\n",
      "Epoch 71/75\n",
      "600/600 [==============================] - 18s 30ms/step - loss: 0.0066 - acc: 0.9973\n",
      "Epoch 72/75\n",
      "600/600 [==============================] - 19s 32ms/step - loss: 0.0045 - acc: 0.9984\n",
      "Epoch 73/75\n",
      "600/600 [==============================] - 18s 30ms/step - loss: 0.0045 - acc: 0.9983\n",
      "Epoch 74/75\n",
      "600/600 [==============================] - 18s 30ms/step - loss: 0.0087 - acc: 0.9962\n",
      "Epoch 75/75\n",
      "600/600 [==============================] - 18s 30ms/step - loss: 0.0048 - acc: 0.9982\n"
     ]
    },
    {
     "data": {
      "text/plain": [
       "<keras.callbacks.History at 0x1deaba70ba8>"
      ]
     },
     "execution_count": 273,
     "metadata": {},
     "output_type": "execute_result"
    }
   ],
   "source": [
    "class5.fit(X_train3, Y_train3, epochs=75, batch_size=64)"
   ]
  },
  {
   "cell_type": "code",
   "execution_count": 274,
   "metadata": {},
   "outputs": [],
   "source": [
    "Xmod = X_train3[10]"
   ]
  },
  {
   "cell_type": "code",
   "execution_count": 275,
   "metadata": {},
   "outputs": [],
   "source": [
    "Xmod = Xmod.reshape(1,72,72,1)"
   ]
  },
  {
   "cell_type": "code",
   "execution_count": 276,
   "metadata": {},
   "outputs": [],
   "source": [
    "pred=class5.predict(Xmod)"
   ]
  },
  {
   "cell_type": "code",
   "execution_count": 277,
   "metadata": {},
   "outputs": [],
   "source": [
    "prediction_f=pred.reshape(72,72)"
   ]
  },
  {
   "cell_type": "code",
   "execution_count": 278,
   "metadata": {},
   "outputs": [
    {
     "data": {
      "text/plain": [
       "<matplotlib.image.AxesImage at 0x1deac14b860>"
      ]
     },
     "execution_count": 278,
     "metadata": {},
     "output_type": "execute_result"
    },
    {
     "data": {
      "image/png": "[encoded data removed]",
      "text/plain": [
       "<Figure size 432x288 with 1 Axes>"
      ]
     },
     "metadata": {
      "needs_background": "light"
     },
     "output_type": "display_data"
    }
   ],
   "source": [
    "plt.imshow(prediction_f, cmap='gray')"
   ]
  },
  {
   "cell_type": "code",
   "execution_count": 279,
   "metadata": {},
   "outputs": [
    {
     "data": {
      "text/plain": [
       "<matplotlib.image.AxesImage at 0x1deb0141780>"
      ]
     },
     "execution_count": 279,
     "metadata": {},
     "output_type": "execute_result"
    },
    {
     "data": {
      "image/png": "[encoded data removed]",
      "text/plain": [
       "<Figure size 432x288 with 1 Axes>"
      ]
     },
     "metadata": {
      "needs_background": "light"
     },
     "output_type": "display_data"
    }
   ],
   "source": [
    "plt.imshow(prediction_f.reshape(72,72), cmap='gray')"
   ]
  }
 ],
 "metadata": {
  "kernelspec": {
   "display_name": "Python 3",
   "language": "python",
   "name": "python3"
  },
  "language_info": {
   "codemirror_mode": {
    "name": "ipython",
    "version": 3
   },
   "file_extension": ".py",
   "mimetype": "text/x-python",
   "name": "python",
   "nbconvert_exporter": "python",
   "pygments_lexer": "ipython3",
   "version": "3.6.0"
  }
 },
 "nbformat": 4,
 "nbformat_minor": 2
}
